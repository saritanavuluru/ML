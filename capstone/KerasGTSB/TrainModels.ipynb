{
 "cells": [
  {
   "cell_type": "code",
   "execution_count": 1,
   "metadata": {},
   "outputs": [
    {
     "name": "stderr",
     "output_type": "stream",
     "text": [
      "Using TensorFlow backend.\n"
     ]
    }
   ],
   "source": [
    "#TODO : REFACTOR\n",
    "import numpy as np\n",
    "np.random.seed(42)\n",
    "import sklearn\n",
    "import os\n",
    "from imp import reload\n",
    "#import helper\n",
    "import keras\n",
    "import pickle\n",
    "import math\n",
    "import collections\n",
    "from sklearn.metrics import confusion_matrix\n",
    "from keras import backend as K\n",
    "\n",
    "from keras.callbacks import CSVLogger, LearningRateScheduler,Callback,ModelCheckpoint,EarlyStopping,TensorBoard,ReduceLROnPlateau\n",
    "\n",
    "\n",
    "\n",
    "from keras.layers.advanced_activations import LeakyReLU \n",
    "from sklearn.utils import shuffle\n",
    "from sklearn.model_selection import train_test_split\n",
    "from keras.layers.normalization import BatchNormalization\n",
    "from keras.preprocessing.image import ImageDataGenerator\n",
    "from skimage import exposure\n",
    "\n",
    "from keras.models import Sequential\n",
    "from keras.layers.core import Dense, Dropout, Activation, Flatten,Lambda\n",
    "from keras.layers import Convolution2D, MaxPooling2D, Conv2D\n",
    "from keras.optimizers import SGD, Adam, RMSprop\n",
    "from keras.utils import np_utils\n",
    "import matplotlib.pyplot as plt\n",
    "import random\n",
    "import statistics\n",
    "import pandas as pd\n",
    "\n",
    "from tqdm import tqdm\n",
    "\n",
    "from keras.regularizers import l2\n",
    "\n",
    "import random\n",
    "import csv\n",
    "from tensorflow.contrib.layers import flatten\n",
    "from skimage import transform as transf\n",
    "\n",
    "import loader\n",
    "import preprocess\n",
    "import plotter\n",
    "import Models\n",
    "\n",
    "#from prettytable import PrettyTable\n",
    "%matplotlib inline\n",
    "\n",
    "SEED = 22"
   ]
  },
  {
   "cell_type": "code",
   "execution_count": 12,
   "metadata": {},
   "outputs": [
    {
     "name": "stdout",
     "output_type": "stream",
     "text": [
      "Shapes:\n",
      "X_train: (34799, 32, 32, 3)\n",
      "X_test: (12630, 32, 32, 3)\n",
      "X_valid: (4410, 32, 32, 3)\n"
     ]
    }
   ],
   "source": [
    "X_train_orig, y_train_orig, X_test_orig, y_test_orig,X_val_orig,y_val_orig = loader.load_split_input_data()\n",
    "\n",
    "#Models.print_model_architectures()\n"
   ]
  },
  {
   "cell_type": "code",
   "execution_count": null,
   "metadata": {
    "collapsed": true
   },
   "outputs": [],
   "source": []
  },
  {
   "cell_type": "code",
   "execution_count": 13,
   "metadata": {
    "scrolled": true
   },
   "outputs": [
    {
     "name": "stdout",
     "output_type": "stream",
     "text": [
      "X_train RGB shape: (34799, 32, 32, 3)\n",
      "X_train Grayscale shape: (34799, 32, 32, 1)\n",
      "Transformation : Histogram Equalization\n"
     ]
    },
    {
     "name": "stderr",
     "output_type": "stream",
     "text": [
      "/home/carnd/anaconda3/envs/dl/lib/python3.5/site-packages/skimage/exposure/exposure.py:63: UserWarning: This might be a color image. The histogram will be computed on the flattened image. You can instead apply this function to each color channel.\n",
      "  warn(\"This might be a color image. The histogram will be \"\n",
      "  0%|          | 0/34799 [00:00<?, ?it/s]/home/carnd/anaconda3/envs/dl/lib/python3.5/site-packages/skimage/util/dtype.py:110: UserWarning: Possible precision loss when converting from float64 to uint16\n",
      "  \"%s to %s\" % (dtypeobj_in, dtypeobj))\n",
      "  0%|          | 6/34799 [00:00<10:47, 53.71it/s]"
     ]
    },
    {
     "name": "stdout",
     "output_type": "stream",
     "text": [
      "Transformation : Adaptive Equalization\n"
     ]
    },
    {
     "name": "stderr",
     "output_type": "stream",
     "text": [
      "100%|██████████| 34799/34799 [10:46<00:00, 53.79it/s]\n",
      "100%|██████████| 12630/12630 [03:52<00:00, 54.13it/s]\n",
      "100%|██████████| 4410/4410 [01:21<00:00, 53.97it/s]\n",
      "  2%|▏         | 559/34799 [00:00<00:06, 5585.41it/s]"
     ]
    },
    {
     "name": "stdout",
     "output_type": "stream",
     "text": [
      "Transformation : Contrast-Stretching\n"
     ]
    },
    {
     "name": "stderr",
     "output_type": "stream",
     "text": [
      "100%|██████████| 34799/34799 [00:06<00:00, 5483.35it/s]\n",
      "100%|██████████| 12630/12630 [00:02<00:00, 5624.95it/s]\n",
      "100%|██████████| 4410/4410 [00:00<00:00, 5594.00it/s]\n"
     ]
    },
    {
     "name": "stdout",
     "output_type": "stream",
     "text": [
      "combining dataset 0 of type <class 'numpy.ndarray'> and length 34799\n",
      "combining dataset 1 of type <class 'numpy.ndarray'> and length 34799\n",
      "combining dataset 2 of type <class 'numpy.ndarray'> and length 34799\n"
     ]
    },
    {
     "name": "stderr",
     "output_type": "stream",
     "text": [
      "\r",
      "  0%|          | 0/43 [00:00<?, ?it/s]"
     ]
    },
    {
     "name": "stdout",
     "output_type": "stream",
     "text": [
      "length of combined set : 104397\n",
      "Generating 1000 number of images per class, selecting 200 number of images per class for  augmentation\n",
      "Augmenting  Data...\n"
     ]
    },
    {
     "name": "stderr",
     "output_type": "stream",
     "text": [
      "100%|██████████| 43/43 [00:27<00:00,  2.21it/s]\n",
      "0it [00:00, ?it/s]"
     ]
    },
    {
     "name": "stdout",
     "output_type": "stream",
     "text": [
      "shufle\n",
      "X_augmented shape: (8600, 32, 32, 1)\n",
      "y_augmented shape: (8600,)\n",
      "Generating 5000 number of images per class, selecting 400 number of images per class for  augmentation\n",
      "No of classes:8\n",
      "classes:[7, 11, 15, 18, 22, 30, 35, 42]\n",
      "Augmenting  Data...\n"
     ]
    },
    {
     "name": "stderr",
     "output_type": "stream",
     "text": [
      "8it [00:12,  1.45s/it]\n"
     ]
    },
    {
     "name": "stdout",
     "output_type": "stream",
     "text": [
      "shufle\n",
      "X_augmented shape: (3200, 32, 32, 1)\n",
      "y_augmented shape: (3200,)\n",
      "preprocessed/preprocessed_gray_gray.p\n",
      "Saving data to preprocessed/preprocessed_gray_gray.p file...\n",
      "Data cached in preprocessed/preprocessed_gray_gray.p\n",
      "[41 41 41 ..., 25 25 25]\n",
      "preprocessed/preprocessed_hist_gray.p\n",
      "Saving data to preprocessed/preprocessed_hist_gray.p file...\n",
      "Data cached in preprocessed/preprocessed_hist_gray.p\n",
      "[41 41 41 ..., 25 25 25]\n",
      "preprocessed/preprocessed_hae_gray.p\n",
      "Saving data to preprocessed/preprocessed_hae_gray.p file...\n",
      "Data cached in preprocessed/preprocessed_hae_gray.p\n",
      "preprocessed/preprocessed_hcs_gray.p\n",
      "Saving data to preprocessed/preprocessed_hcs_gray.p file...\n",
      "Data cached in preprocessed/preprocessed_hcs_gray.p\n",
      "preprocessed_hset_aug_gray.p\n",
      "Saving data topreprocessed_hset_aug_gray.p file...\n",
      "Data cached in pickle file.\n",
      "combining dataset 0 of type <class 'numpy.ndarray'> and length 8600\n",
      "combining dataset 1 of type <class 'numpy.ndarray'> and length 104397\n",
      "combining dataset 2 of type <class 'numpy.ndarray'> and length 3200\n",
      "length of combined set : 116197\n"
     ]
    }
   ],
   "source": [
    "X_train,y_train,X_test,y_test,X_val,y_val= preprocess.preprocess_aug_combine_save(X_train_orig,y_train_orig,X_test_orig,y_test_orig,X_val_orig,y_val_orig)\n",
    "\n",
    "#clear unused variables\n",
    "del X_train_orig\n",
    "del y_train_orig\n",
    "del X_test_orig\n",
    "del y_test_orig\n",
    "del X_val_orig\n",
    "del y_val_orig"
   ]
  },
  {
   "cell_type": "code",
   "execution_count": null,
   "metadata": {
    "collapsed": true
   },
   "outputs": [],
   "source": []
  },
  {
   "cell_type": "code",
   "execution_count": 2,
   "metadata": {},
   "outputs": [
    {
     "name": "stdout",
     "output_type": "stream",
     "text": [
      "./preprocessed/preprocessed_hset_aug_gray.p\n",
      "X_aug_all:  8600\n",
      "y_aug_all:  8600\n",
      "Data and modules loaded.\n",
      "./preprocessed/preprocessed_hist_gray.p\n",
      "X_train:  34799\n",
      "y_train:  34799\n",
      "X_val:  4410\n",
      "y_val:  4410\n",
      "X_test:  12630\n",
      "y_test:  12630\n",
      "Data and modules loaded.\n",
      "./preprocessed/preprocessed_hae_gray.p\n",
      "X_train:  34799\n",
      "y_train:  34799\n",
      "X_val:  4410\n",
      "y_val:  4410\n",
      "X_test:  12630\n",
      "y_test:  12630\n",
      "Data and modules loaded.\n",
      "./preprocessed/preprocessed_hcs_gray.p\n",
      "X_train:  34799\n",
      "y_train:  34799\n",
      "X_val:  4410\n",
      "y_val:  4410\n",
      "X_test:  12630\n",
      "y_test:  12630\n",
      "Data and modules loaded.\n",
      "combining dataset 0 of type <class 'numpy.ndarray'> and length 8600\n",
      "combining dataset 1 of type <class 'numpy.ndarray'> and length 34799\n",
      "combining dataset 2 of type <class 'numpy.ndarray'> and length 34799\n",
      "combining dataset 3 of type <class 'numpy.ndarray'> and length 34799\n",
      "length of combined set : 112997\n"
     ]
    }
   ],
   "source": [
    "#loader = reload(loader)\n",
    "#preprocess = reload(preprocess)\n",
    "X_train,y_train,X_test,y_test,X_val,y_val=loader.load_combine_preprocessed(\"hae\")\n",
    "\n",
    "\n"
   ]
  },
  {
   "cell_type": "code",
   "execution_count": null,
   "metadata": {
    "collapsed": true
   },
   "outputs": [],
   "source": [
    "#X_aug_classes, y_aug_classes = preprocess.data_augment_classes(y_hset,[7,11,15,18,22,30,35,42],n_gen_per_class=5000,n_aug_per_class=400)\n",
    "\n",
    "#X_train,y_train=preprocess.combine_datasets([(X_train,y_train),(X_aug_classes,y_aug_classes)])\n",
    "\n"
   ]
  },
  {
   "cell_type": "markdown",
   "metadata": {},
   "source": [
    "when using the categorical_crossentropy loss, the targets should be in categorical format (e.g. if you have 10 classes, the target for each sample should be a 10-dimensional vector that is all-zeros expect for a 1 at the index corresponding to the class of the sample). In order to convert integer targets into categorical targets, we can use the Keras utility to_categorical"
   ]
  },
  {
   "cell_type": "code",
   "execution_count": 3,
   "metadata": {
    "collapsed": true
   },
   "outputs": [],
   "source": [
    "#one hot  encoding of y series\n",
    "import params\n",
    "params = reload(params)\n",
    "y_train_e= np_utils.to_categorical(y_train,num_classes=params.n_classes)\n",
    "y_val_e = np_utils.to_categorical(y_val,num_classes=params.n_classes)\n",
    "y_test_e = np_utils.to_categorical(y_test,num_classes=params.n_classes)"
   ]
  },
  {
   "cell_type": "code",
   "execution_count": null,
   "metadata": {
    "collapsed": true
   },
   "outputs": [],
   "source": []
  },
  {
   "cell_type": "markdown",
   "metadata": {},
   "source": [
    "# Training"
   ]
  },
  {
   "cell_type": "code",
   "execution_count": 27,
   "metadata": {
    "collapsed": true
   },
   "outputs": [],
   "source": [
    "def save_model_history(label,history) :\n",
    "    suffix='.log'\n",
    "    \n",
    "    filename = os.path.join(params.model_dir,'history_'+label+suffix)\n",
    "    \n",
    "    with open(filename, 'wb') as f:\n",
    "        pickle.dump(history, f)\n",
    "    print(\"History saved in file \"+filename)\n",
    "    \n",
    "\n",
    "import tensorflow as tf\n",
    "class LearningRateTracker(Callback):\n",
    "    def on_epoch_end(self, epoch, logs={}):\n",
    "            \n",
    "        # _lr = K.get_value(tf.to_float(model.optimizer.lr, name='ToFloat'))\n",
    "        # _decay = tf.to_float(model.optimizer.decay, name='ToFloat')\n",
    "        #_iter = tf.to_float(model.optimizer.iterations, name='ToFloat')\n",
    "        \n",
    "        lr = K.get_value(model.optimizer.lr)\n",
    "        \n",
    "        print(\"\\nCurrent learning rate: \"+str(lr))\n",
    "\n",
    "                    \n",
    "def train_model(model,label,flag_earlystop=True,flag_reduceLR=True, flag_lrsched=False,flag_tensorboard=True):\n",
    " \n",
    "    # Compile and train the model\n",
    "    suffix = '.hdf5'\n",
    "    weights_file = os.path.join(params.model_dir,'weights_'+label+suffix)\n",
    "    print(weights_file)\n",
    "    \n",
    "    adam = Adam()\n",
    "    callbacks=[]\n",
    "    if (flag_tensorboard==True):\n",
    "        tensorboard=TensorBoard(log_dir=params.model_dir, histogram_freq=0, batch_size=512, write_graph=True)\n",
    "        callbacks.append(tensorboard)\n",
    "\n",
    "    if (flag_earlystop == True):\n",
    "        early_stop = EarlyStopping(monitor='val_loss', min_delta=0, patience=4, verbose=2, mode='auto')\n",
    "        callbacks.append(early_stop)\n",
    "        \n",
    "    if (flag_reduceLR == True):\n",
    "        flag_lrsched=False\n",
    "        reduce_lr = ReduceLROnPlateau(monitor='val_loss', factor=0.5,patience=4, min_lr=0.000001)\n",
    "        callbacks.append(reduce_lr)\n",
    "\n",
    "    #lr =  K.get_value(model.optimizer.lr)\n",
    "    \n",
    "    #lr = 0.0001\n",
    "    if (flag_lrsched == True):\n",
    "        lr = 0.01\n",
    "        adam=Adam(lr=lr)\n",
    "        def lr_schedule(epoch):\n",
    "            #print(\"-----------------------------epoch : \"+str(epoch))\n",
    "            #print(0.1 ** int(epoch / 10))\n",
    "            return lr * (0.1 ** int(epoch / 4))\n",
    "\n",
    "        lr_sched = LearningRateScheduler(lr_schedule)\n",
    "        callbacks.append(lr_sched)\n",
    "    \n",
    "    model.compile(loss='categorical_crossentropy',\n",
    "          optimizer=adam,\n",
    "          metrics=['accuracy'])\n",
    "    print(\"starting LR:\"+str(K.get_value(model.optimizer.lr)))\n",
    "    trackLR = LearningRateTracker()\n",
    "    \n",
    "    csv_logger = CSVLogger(params.model_dir+'/training.log', append=False)\n",
    "    checkpointer = ModelCheckpoint(filepath=weights_file, verbose=2, save_best_only=True, save_weights_only=True)\n",
    "    callbacks.append(csv_logger)\n",
    "    callbacks.append(checkpointer)\n",
    "    callbacks.append(trackLR)\n",
    "    \n",
    "    print(\"CALLBACKS : \"+str(callbacks))\n",
    "    try:\n",
    "\n",
    "        history = model.fit(X_train[:10], y_train_e[:10],\n",
    "                    batch_size=5, epochs=1,\n",
    "                    #callbacks=[checkpointer,early_stop,lr_sched],\n",
    "                    callbacks=callbacks,\n",
    "                    verbose=1, validation_data=(X_val[:10], y_val_e[:10]))\n",
    "\n",
    "    except KeyboardInterrupt:\n",
    "        print(\"training interrupted\")\n",
    "\n",
    "    evaluate = model.evaluate(X_test[:10],y_test_e[:10])\n",
    "    print(\"---------------------------------------\")\n",
    "    print(evaluate)\n",
    "    save_model_history(label,history.history)\n",
    "\n",
    "    return  history.history, evaluate\n"
   ]
  },
  {
   "cell_type": "code",
   "execution_count": 28,
   "metadata": {},
   "outputs": [
    {
     "name": "stdout",
     "output_type": "stream",
     "text": [
      "<keras.models.Sequential object at 0x0000015A7FAF9C88>\n",
      "model\\weights_BN_STN.hdf5\n",
      "starting LR:0.01\n",
      "CALLBACKS : [<keras.callbacks.TensorBoard object at 0x0000015A5FA350F0>, <keras.callbacks.EarlyStopping object at 0x0000015A5FA35CC0>, <keras.callbacks.LearningRateScheduler object at 0x0000015A7FAF96D8>, <keras.callbacks.CSVLogger object at 0x0000015A5FCC7940>, <keras.callbacks.ModelCheckpoint object at 0x0000015A5FADACC0>, <__main__.LearningRateTracker object at 0x0000015A5FB037F0>]\n",
      "Train on 10 samples, validate on 10 samples\n",
      "Epoch 1/1\n",
      " 5/10 [==============>...............] - ETA: 0s - loss: 5.5102 - acc: 0.0000e+00Epoch 00000: val_loss improved from inf to 5.05617, saving model to model\\weights_BN_STN.hdf5\n",
      "\n",
      "Current learning rate: 0.01\n",
      "10/10 [==============================] - 2s - loss: 4.4619 - acc: 0.0000e+00 - val_loss: 5.0562 - val_acc: 0.0000e+00\n",
      "10/10 [==============================] - 0s\n",
      "---------------------------------------\n",
      "[5.6602134704589844, 0.0]\n",
      "History saved in file model\\history_BN_STN.log\n"
     ]
    }
   ],
   "source": [
    "model = Models.deep_cnn_model(flag_BN=True,flag_STN=True)\n",
    "history,evaluate= train_model(model,\"BN_STN\",flag_earlystop=True,flag_reduceLR=False, flag_lrsched=True,flag_tensorboard=True)\n"
   ]
  },
  {
   "cell_type": "code",
   "execution_count": 29,
   "metadata": {},
   "outputs": [
    {
     "name": "stdout",
     "output_type": "stream",
     "text": [
      "<keras.models.Sequential object at 0x7fe050e72a90>\n",
      "Train on 116197 samples, validate on 4410 samples\n",
      "Epoch 1/10\n",
      "115712/116197 [============================>.] - ETA: 0s - loss: 1.0041 - acc: 0.7187Epoch 00000: val_loss improved from inf to 2.63452, saving model to weights_default_lr_deeper_deep_no_stn.hdf5\n",
      "116197/116197 [==============================] - 82s - loss: 1.0014 - acc: 0.7195 - val_loss: 2.6345 - val_acc: 0.1376\n",
      "Epoch 2/10\n",
      "115712/116197 [============================>.] - ETA: 0s - loss: 0.1923 - acc: 0.9432Epoch 00001: val_loss improved from 2.63452 to 0.15629, saving model to weights_default_lr_deeper_deep_no_stn.hdf5\n",
      "116197/116197 [==============================] - 77s - loss: 0.1921 - acc: 0.9433 - val_loss: 0.1563 - val_acc: 0.9497\n",
      "Epoch 3/10\n",
      "115712/116197 [============================>.] - ETA: 0s - loss: 0.1158 - acc: 0.9653Epoch 00002: val_loss improved from 0.15629 to 0.02934, saving model to weights_default_lr_deeper_deep_no_stn.hdf5\n",
      "116197/116197 [==============================] - 77s - loss: 0.1157 - acc: 0.9653 - val_loss: 0.0293 - val_acc: 0.9902\n",
      "Epoch 4/10\n",
      "115712/116197 [============================>.] - ETA: 0s - loss: 0.0816 - acc: 0.9754Epoch 00003: val_loss did not improve\n",
      "116197/116197 [==============================] - 77s - loss: 0.0816 - acc: 0.9754 - val_loss: 0.0377 - val_acc: 0.9896\n",
      "Epoch 5/10\n",
      "115712/116197 [============================>.] - ETA: 0s - loss: 0.0688 - acc: 0.9794Epoch 00004: val_loss did not improve\n",
      "116197/116197 [==============================] - 77s - loss: 0.0689 - acc: 0.9794 - val_loss: 0.0388 - val_acc: 0.9884\n",
      "Epoch 6/10\n",
      "115712/116197 [============================>.] - ETA: 0s - loss: 0.0589 - acc: 0.9815Epoch 00005: val_loss improved from 0.02934 to 0.02282, saving model to weights_default_lr_deeper_deep_no_stn.hdf5\n",
      "116197/116197 [==============================] - 77s - loss: 0.0588 - acc: 0.9816 - val_loss: 0.0228 - val_acc: 0.9930\n",
      "Epoch 7/10\n",
      "115712/116197 [============================>.] - ETA: 0s - loss: 0.0502 - acc: 0.9849Epoch 00006: val_loss improved from 0.02282 to 0.01985, saving model to weights_default_lr_deeper_deep_no_stn.hdf5\n",
      "116197/116197 [==============================] - 77s - loss: 0.0501 - acc: 0.9849 - val_loss: 0.0199 - val_acc: 0.9941\n",
      "Epoch 8/10\n",
      "115712/116197 [============================>.] - ETA: 0s - loss: 0.0454 - acc: 0.9862Epoch 00007: val_loss did not improve\n",
      "116197/116197 [==============================] - 77s - loss: 0.0455 - acc: 0.9861 - val_loss: 0.0346 - val_acc: 0.9887\n",
      "Epoch 9/10\n",
      "115712/116197 [============================>.] - ETA: 0s - loss: 0.0399 - acc: 0.9881Epoch 00008: val_loss did not improve\n",
      "116197/116197 [==============================] - 77s - loss: 0.0400 - acc: 0.9881 - val_loss: 0.0445 - val_acc: 0.9880\n",
      "Epoch 10/10\n",
      "115712/116197 [============================>.] - ETA: 0s - loss: 0.0367 - acc: 0.9884Epoch 00009: val_loss did not improve\n",
      "116197/116197 [==============================] - 77s - loss: 0.0367 - acc: 0.9885 - val_loss: 0.0280 - val_acc: 0.9925\n"
     ]
    }
   ],
   "source": [
    "Models = reload(Models)\n",
    "model = Models.deep_cnn_model(flag_BN=True,flag_STN=True)\n",
    "\n",
    "# Compile and train the model\n",
    "model.compile(loss='categorical_crossentropy',\n",
    "              optimizer=Adam(),\n",
    "              metrics=['accuracy'])\n",
    "checkpointer = ModelCheckpoint(filepath=\"weights_default_lr_deeper_deep_no_stn.hdf5\", verbose=2, save_best_only=True, save_weights_only=True)\n",
    "history = model.fit(X_train, y_train_e,\n",
    "                    batch_size=512, epochs=10,\n",
    "                    callbacks=[checkpointer],\n",
    "                    verbose=1, validation_data=(X_val, y_val_e))"
   ]
  },
  {
   "cell_type": "code",
   "execution_count": 15,
   "metadata": {},
   "outputs": [
    {
     "name": "stdout",
     "output_type": "stream",
     "text": [
      "Train on 116197 samples, validate on 4410 samples\n",
      "Epoch 1/10\n",
      "115712/116197 [============================>.] - ETA: 0s - loss: 1.3113 - acc: 0.6317Epoch 00000: val_loss improved from inf to 3.28081, saving model to weights_default_lr_deep_no_stn.hdf5\n",
      "116197/116197 [==============================] - 64s - loss: 1.3083 - acc: 0.6325 - val_loss: 3.2808 - val_acc: 0.1615\n",
      "Epoch 2/10\n",
      "115712/116197 [============================>.] - ETA: 0s - loss: 0.3629 - acc: 0.8894Epoch 00001: val_loss improved from 3.28081 to 0.38327, saving model to weights_default_lr_deep_no_stn.hdf5\n",
      "116197/116197 [==============================] - 59s - loss: 0.3628 - acc: 0.8895 - val_loss: 0.3833 - val_acc: 0.8766\n",
      "Epoch 3/10\n",
      "115712/116197 [============================>.] - ETA: 0s - loss: 0.2135 - acc: 0.9353Epoch 00002: val_loss improved from 0.38327 to 0.16401, saving model to weights_default_lr_deep_no_stn.hdf5\n",
      "116197/116197 [==============================] - 59s - loss: 0.2132 - acc: 0.9354 - val_loss: 0.1640 - val_acc: 0.9474\n",
      "Epoch 4/10\n",
      "115712/116197 [============================>.] - ETA: 0s - loss: 0.1516 - acc: 0.9533Epoch 00003: val_loss improved from 0.16401 to 0.06504, saving model to weights_default_lr_deep_no_stn.hdf5\n",
      "116197/116197 [==============================] - 59s - loss: 0.1515 - acc: 0.9534 - val_loss: 0.0650 - val_acc: 0.9798\n",
      "Epoch 5/10\n",
      "115712/116197 [============================>.] - ETA: 0s - loss: 0.1105 - acc: 0.9656Epoch 00004: val_loss improved from 0.06504 to 0.05109, saving model to weights_default_lr_deep_no_stn.hdf5\n",
      "116197/116197 [==============================] - 59s - loss: 0.1104 - acc: 0.9656 - val_loss: 0.0511 - val_acc: 0.9821\n",
      "Epoch 6/10\n",
      "115712/116197 [============================>.] - ETA: 0s - loss: 0.0872 - acc: 0.9731Epoch 00005: val_loss did not improve\n",
      "116197/116197 [==============================] - 59s - loss: 0.0872 - acc: 0.9731 - val_loss: 0.0581 - val_acc: 0.9785\n",
      "Epoch 7/10\n",
      "115712/116197 [============================>.] - ETA: 0s - loss: 0.0697 - acc: 0.9786Epoch 00006: val_loss improved from 0.05109 to 0.04628, saving model to weights_default_lr_deep_no_stn.hdf5\n",
      "116197/116197 [==============================] - 59s - loss: 0.0698 - acc: 0.9786 - val_loss: 0.0463 - val_acc: 0.9839\n",
      "Epoch 8/10\n",
      "115712/116197 [============================>.] - ETA: 0s - loss: 0.0584 - acc: 0.9814Epoch 00007: val_loss did not improve\n",
      "116197/116197 [==============================] - 59s - loss: 0.0584 - acc: 0.9814 - val_loss: 0.0468 - val_acc: 0.9850\n",
      "Epoch 9/10\n",
      "115712/116197 [============================>.] - ETA: 0s - loss: 0.0508 - acc: 0.9836Epoch 00008: val_loss improved from 0.04628 to 0.03950, saving model to weights_default_lr_deep_no_stn.hdf5\n",
      "116197/116197 [==============================] - 59s - loss: 0.0509 - acc: 0.9836 - val_loss: 0.0395 - val_acc: 0.9884\n",
      "Epoch 10/10\n",
      "115712/116197 [============================>.] - ETA: 0s - loss: 0.0445 - acc: 0.9859Epoch 00009: val_loss did not improve\n",
      "116197/116197 [==============================] - 59s - loss: 0.0445 - acc: 0.9859 - val_loss: 0.0620 - val_acc: 0.9828\n"
     ]
    }
   ],
   "source": [
    "\n",
    "model = Models.deep_cnn_model(flag_BN=True,flag_STN=False)\n",
    "\n",
    "# Compile and train the model\n",
    "model.compile(loss='categorical_crossentropy',\n",
    "              optimizer=Adam(),\n",
    "              metrics=['accuracy'])\n",
    "checkpointer = ModelCheckpoint(filepath=\"weights_default_lr_deep_no_stn.hdf5\", verbose=2, save_best_only=True, save_weights_only=True)\n",
    "history = model.fit(X_train, y_train_e,\n",
    "                    batch_size=512, epochs=10,\n",
    "                    callbacks=[checkpointer],\n",
    "                    verbose=1, validation_data=(X_val, y_val_e))"
   ]
  },
  {
   "cell_type": "code",
   "execution_count": 30,
   "metadata": {},
   "outputs": [
    {
     "name": "stdout",
     "output_type": "stream",
     "text": [
      "12576/12630 [============================>.] - ETA: 0s"
     ]
    }
   ],
   "source": [
    "e = model.evaluate(X_test,y_test_e)"
   ]
  },
  {
   "cell_type": "code",
   "execution_count": 31,
   "metadata": {},
   "outputs": [
    {
     "name": "stdout",
     "output_type": "stream",
     "text": [
      "[0.089369498425299648, 0.97593032462391127]\n"
     ]
    }
   ],
   "source": [
    "print(e)"
   ]
  },
  {
   "cell_type": "code",
   "execution_count": 29,
   "metadata": {},
   "outputs": [
    {
     "data": {
      "image/png": "[encoded data removed]",
      "text/plain": [
       "<matplotlib.figure.Figure at 0x15a90a4df60>"
      ]
     },
     "metadata": {},
     "output_type": "display_data"
    }
   ],
   "source": [
    "model_history=history\n",
    "plt.figure(1)  \n",
    "plt.subplot(211)  \n",
    "plt.plot(model_history['acc'])  \n",
    "plt.plot(model_history['val_acc'])  \n",
    "plt.title('model accuracy')  \n",
    "plt.ylabel('accuracy')  \n",
    "plt.xlabel('epoch')  \n",
    "plt.legend(['train', 'test'], loc='upper left')  \n",
    "   \n",
    " # summarize history for loss  \n",
    "   \n",
    "plt.subplot(212)  \n",
    "plt.plot(model_history['loss'])  \n",
    "plt.plot(model_history['val_loss'])  \n",
    "plt.title('model loss')  \n",
    "plt.ylabel('loss')  \n",
    "plt.xlabel('epoch')  \n",
    "plt.legend(['train', 'validation'], loc='upper left')  \n",
    "plt.show()  \n",
    "\n"
   ]
  },
  {
   "cell_type": "code",
   "execution_count": null,
   "metadata": {
    "collapsed": true
   },
   "outputs": [],
   "source": []
  }
 ],
 "metadata": {
  "anaconda-cloud": {},
  "kernelspec": {
   "display_name": "tf_a",
   "language": "python",
   "name": "tf_a"
  },
  "language_info": {
   "codemirror_mode": {
    "name": "ipython",
    "version": 3
   },
   "file_extension": ".py",
   "mimetype": "text/x-python",
   "name": "python",
   "nbconvert_exporter": "python",
   "pygments_lexer": "ipython3",
   "version": "3.5.2"
  },
  "widgets": {
   "state": {},
   "version": "1.1.2"
  }
 },
 "nbformat": 4,
 "nbformat_minor": 2
}
