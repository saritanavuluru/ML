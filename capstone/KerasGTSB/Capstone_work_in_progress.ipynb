{
 "cells": [
  {
   "cell_type": "code",
   "execution_count": null,
   "metadata": {
    "collapsed": true
   },
   "outputs": [],
   "source": [
    "\n"
   ]
  },
  {
   "cell_type": "code",
   "execution_count": 6,
   "metadata": {
    "collapsed": false,
    "deletable": true,
    "editable": true
   },
   "outputs": [
    {
     "name": "stderr",
     "output_type": "stream",
     "text": [
      "Using TensorFlow backend.\n"
     ]
    }
   ],
   "source": [
    "import numpy as np\n",
    "np.random.seed(42)\n",
    "import sklearn\n",
    "import os\n",
    "\n",
    "import keras\n",
    "import pickle\n",
    "\n",
    "from keras.layers.advanced_activations import LeakyReLU \n",
    "from sklearn.utils import shuffle\n",
    "from sklearn.model_selection import train_test_split\n",
    "from keras.layers.normalization import BatchNormalization\n",
    "from keras.preprocessing.image import ImageDataGenerator\n",
    "\n",
    "from keras.models import Sequential\n",
    "from keras.layers.core import Dense, Dropout, Activation, Flatten\n",
    "from keras.layers import Convolution2D, MaxPooling2D, Conv2D\n",
    "from keras.optimizers import SGD, Adam, RMSprop\n",
    "from keras.utils import np_utils\n",
    "\n",
    "import pandas as pd\n",
    "% matplotlib inline"
   ]
  },
  {
   "cell_type": "code",
   "execution_count": 13,
   "metadata": {
    "collapsed": false
   },
   "outputs": [
    {
     "ename": "NameError",
     "evalue": "name 'history' is not defined",
     "output_type": "error",
     "traceback": [
      "\u001b[0;31m---------------------------------------------------------------------------\u001b[0m",
      "\u001b[0;31mNameError\u001b[0m                                 Traceback (most recent call last)",
      "\u001b[0;32m<ipython-input-13-3c9ec62411fa>\u001b[0m in \u001b[0;36m<module>\u001b[0;34m()\u001b[0m\n\u001b[1;32m      4\u001b[0m \u001b[0mmodel2\u001b[0m \u001b[0;34m=\u001b[0m \u001b[0mload_model\u001b[0m\u001b[0;34m(\u001b[0m\u001b[0;34m'models/CNN_BN.ckpt'\u001b[0m\u001b[0;34m)\u001b[0m\u001b[0;34m\u001b[0m\u001b[0m\n\u001b[1;32m      5\u001b[0m \u001b[0;31m# list all data in history\u001b[0m\u001b[0;34m\u001b[0m\u001b[0;34m\u001b[0m\u001b[0m\n\u001b[0;32m----> 6\u001b[0;31m \u001b[0mprint\u001b[0m\u001b[0;34m(\u001b[0m\u001b[0mhistory\u001b[0m\u001b[0;34m.\u001b[0m\u001b[0mkeys\u001b[0m\u001b[0;34m(\u001b[0m\u001b[0;34m)\u001b[0m\u001b[0;34m)\u001b[0m\u001b[0;34m\u001b[0m\u001b[0m\n\u001b[0m\u001b[1;32m      7\u001b[0m \u001b[0;34m\u001b[0m\u001b[0m\n",
      "\u001b[0;31mNameError\u001b[0m: name 'history' is not defined"
     ]
    }
   ],
   "source": [
    "from keras.models import load_model\n",
    "\n",
    "model1= load_model('models/CNN.ckpt')\n",
    "model2 = load_model('models/CNN_BN.ckpt')\n",
    "# list all data in history\n",
    "\n",
    "\n"
   ]
  },
  {
   "cell_type": "code",
   "execution_count": null,
   "metadata": {
    "collapsed": true
   },
   "outputs": [],
   "source": []
  },
  {
   "cell_type": "code",
   "execution_count": null,
   "metadata": {
    "collapsed": true
   },
   "outputs": [],
   "source": [
    "from keras.utils.vis_utils import plot_model  \n",
    "plot_model(model1, to_file='model.png')  \n",
    "plot_model(model2, to_file='model2.png')  \n",
    "\n"
   ]
  },
  {
   "cell_type": "markdown",
   "metadata": {},
   "source": [
    "![title](model2.png)\n"
   ]
  },
  {
   "cell_type": "markdown",
   "metadata": {},
   "source": [
    "# model 1"
   ]
  },
  {
   "cell_type": "markdown",
   "metadata": {},
   "source": [
    "![title](model.png)"
   ]
  },
  {
   "cell_type": "code",
   "execution_count": 14,
   "metadata": {
    "collapsed": false,
    "deletable": true,
    "editable": true
   },
   "outputs": [],
   "source": [
    "# Load pickled data\n",
    "\n",
    "def load_split_input_data() :\n",
    "\n",
    "    # TODO: fill this in based on where you saved the training and testing data\n",
    "    training_file = './train.p'\n",
    "    testing_file = './test.p'\n",
    "    validation_file = './valid.p'\n",
    "\n",
    "\n",
    "    with open(training_file, mode='rb') as f:\n",
    "        train = pickle.load(f)\n",
    "    with open(testing_file, mode='rb') as f:\n",
    "        test = pickle.load(f)\n",
    "    with open(validation_file, mode='rb') as f:\n",
    "        valid = pickle.load(f)\n",
    "\n",
    "    X_train, y_train = train['features'], train['labels']\n",
    "    X_test, y_test = test['features'], test['labels']\n",
    "    X_val, y_val = valid['features'], valid['labels']\n",
    "\n",
    "    print(len(X_train))\n",
    "    print(len(X_test))\n",
    "    print(len(X_val))\n",
    "    print(len(y_val))\n",
    "\n",
    "    # STOP: Do not change the tests below. Your implementation should pass these tests. \n",
    "    assert(X_train.shape[0] == y_train.shape[0]), \"The number of images is not equal to the number of labels.\"\n",
    "    assert(X_test.shape[0] == y_test.shape[0]), \"The number of images is not equal to the number of labels.\"\n",
    "    assert(X_val.shape[0] == y_val.shape[0]), \"The number of images is not equal to the number of labels.\"\n",
    "    \n",
    "    return X_train, y_train, X_test, y_test, X_val, y_val\n",
    "\n",
    "\n",
    "    \n",
    "\n",
    "\n",
    "\n"
   ]
  },
  {
   "cell_type": "code",
   "execution_count": 15,
   "metadata": {
    "collapsed": false,
    "deletable": true,
    "editable": true
   },
   "outputs": [],
   "source": [
    "#greyscale\n",
    "# Convert to grayscale\n",
    "\n",
    "def convert_to_grayscale(X_train,X_test, X_val):\n",
    "\n",
    "    X_train_rgb = X_train\n",
    "    X_val_rgb = X_val\n",
    "    X_train_gry = np.sum(X_train/3, \n",
    "                     axis=3, keepdims=True)\n",
    "\n",
    "    X_test_rgb = X_test\n",
    "    X_test_gry = np.sum(X_test/3, axis=3, keepdims=True)\n",
    "    X_val_gry = np.sum(X_val/3, axis=3, keepdims=True)\n",
    "    \n",
    "    print('RGB shape:', X_train_rgb.shape)\n",
    "    print('Grayscale shape:', X_train_gry.shape)\n",
    "    X_train = X_train_gry\n",
    "    X_test = X_test_gry\n",
    "    X_val = X_val_gry\n",
    "    \n",
    "    assert(X_train.shape[1:] == (32,32,1)), \"The dimensions of the images are not 32 x 32 x 1.\"\n",
    "    return X_train,X_test, X_val"
   ]
  },
  {
   "cell_type": "code",
   "execution_count": 16,
   "metadata": {
    "collapsed": false,
    "deletable": true,
    "editable": true
   },
   "outputs": [],
   "source": [
    "def preprocess_data(X_train, y_train, X_test, y_test, X_val, y_val):\n",
    "\n",
    "    X_train, X_test , X_val = convert_to_grayscale(X_train, X_test, X_val)\n",
    "    \n",
    "    # Shuffle data\n",
    "    X_train, y_train = shuffle(X_train, y_train, random_state=42)\n",
    "    X_test, y_test = shuffle(X_test, y_test, random_state=42)\n",
    "    X_val, y_val = shuffle(X_val, y_val, random_state = 42)\n",
    "    \n",
    "    # Normalise data\n",
    "    X_train = (X_train - X_train.mean()) / (np.max(X_train) - np.min(X_train))\n",
    "    X_test = (X_test - X_test.mean()) / (np.max(X_test) - np.min(X_test))\n",
    "    X_val = (X_val - X_val.mean())/(np.max(X_val)-np.min(X_val))\n",
    "    # One-hot encode labels\n",
    "    y_train = np_utils.to_categorical(y_train,num_classes=43)\n",
    "    y_test = np_utils.to_categorical(y_test, num_classes=43)\n",
    "    y_val = np_utils.to_categorical(y_val, num_classes=43)\n",
    "\n",
    "    \n",
    "\n",
    "    print(\"X_train: \", len(X_train))\n",
    "    print(\"y_train: \", len(y_train))\n",
    "    print(\"X_val: \", len(X_val))\n",
    "    print(\"y_val: \", len(y_val))\n",
    "    return X_train, y_train, X_test, y_test, X_val, y_val\n"
   ]
  },
  {
   "cell_type": "code",
   "execution_count": 17,
   "metadata": {
    "collapsed": false,
    "deletable": true,
    "editable": true,
    "scrolled": true
   },
   "outputs": [
    {
     "name": "stdout",
     "output_type": "stream",
     "text": [
      "34799\n",
      "12630\n",
      "4410\n",
      "4410\n",
      "RGB shape: (34799, 32, 32, 3)\n",
      "Grayscale shape: (34799, 32, 32, 1)\n",
      "RGB shape: (34799, 32, 32, 1)\n",
      "Grayscale shape: (34799, 32, 32, 1)\n",
      "X_train:  34799\n",
      "y_train:  34799\n",
      "X_val:  4410\n",
      "y_val:  4410\n",
      "34799\n"
     ]
    }
   ],
   "source": [
    "X_train, y_train, X_test, y_test,X_val,y_val = load_split_input_data()\n",
    "X_train, X_test,X_val = convert_to_grayscale(X_train, X_test,X_val)\n",
    "X_train, y_train, X_test, y_test, X_val,y_val = preprocess_data(X_train, y_train, X_test, y_test, X_val, y_val)\n",
    "print(len(X_train))"
   ]
  },
  {
   "cell_type": "code",
   "execution_count": null,
   "metadata": {
    "collapsed": false,
    "deletable": true,
    "editable": true
   },
   "outputs": [],
   "source": [
    "\n",
    "\n"
   ]
  },
  {
   "cell_type": "code",
   "execution_count": 18,
   "metadata": {
    "collapsed": false,
    "deletable": true,
    "editable": true
   },
   "outputs": [
    {
     "name": "stdout",
     "output_type": "stream",
     "text": [
      "Data cached in pickle file.\n"
     ]
    }
   ],
   "source": [
    "# Save the data for easy access\n",
    "\n",
    "pickle_file = 'preprocessed_data.p'\n",
    "if not os.path.isfile(pickle_file):\n",
    "    print('Saving data to pickle file...')\n",
    "    try:\n",
    "        with open(pickle_file, 'wb') as pfile:\n",
    "            pickle.dump(\n",
    "                {\n",
    "                    'y_train': y_train,\n",
    "                    'X_train': X_train,\n",
    "                    'X_val': X_val,\n",
    "                    'y_val': y_val,\n",
    "                    'X_test': X_test,\n",
    "                    'y_test': y_test\n",
    "                },\n",
    "                pfile, pickle.HIGHEST_PROTOCOL)\n",
    "    except Exception as e:\n",
    "        print('Unable to save data to', pickle_file, ':', e)\n",
    "        raise\n",
    "\n",
    "print('Data cached in pickle file.')"
   ]
  },
  {
   "cell_type": "code",
   "execution_count": 7,
   "metadata": {
    "collapsed": false
   },
   "outputs": [
    {
     "name": "stdout",
     "output_type": "stream",
     "text": [
      "preprocessed_data.p\n",
      "34799\n",
      "X_train:  34799\n",
      "y_train:  34799\n",
      "X_val:  4410\n",
      "y_val:  4410\n",
      "X_test:  12630\n",
      "y_test:  12630\n",
      "Data and modules loaded.\n"
     ]
    }
   ],
   "source": [
    "import sklearn\n",
    "import os\n",
    "\n",
    "import keras\n",
    "import pickle\n",
    "pickle_file = 'preprocessed_data.p'\n",
    "\n",
    "# Reload the data\n",
    "print(pickle_file)\n",
    "with open(pickle_file, 'rb') as f:\n",
    "      pickle_data = pickle.load(f)\n",
    "      X_train = pickle_data['X_train']\n",
    "      print(len(X_train))\n",
    "      y_train = pickle_data['y_train']\n",
    "      X_val = pickle_data['X_val']\n",
    "      y_val = pickle_data['y_val']\n",
    "      X_test = pickle_data['X_test']\n",
    "      y_test = pickle_data['y_test']\n",
    "      del pickle_data  # Free up memory\n",
    "      print(\"X_train: \", len(X_train))\n",
    "      print(\"y_train: \", len(y_train))\n",
    "      print(\"X_val: \", len(X_val))\n",
    "      print(\"y_val: \", len(y_val))\n",
    "      print(\"X_test: \", len(X_test))\n",
    "      print(\"y_test: \", len(y_test))\n",
    "\n",
    "      print('Data and modules loaded.')\n"
   ]
  },
  {
   "cell_type": "markdown",
   "metadata": {},
   "source": [
    "# SPATIAL TRANSFORMER "
   ]
  },
  {
   "cell_type": "code",
   "execution_count": 19,
   "metadata": {
    "collapsed": true
   },
   "outputs": [],
   "source": [
    "from keras.layers.core import Layer\n",
    "import tensorflow as tf\n",
    "\n",
    "class SpatialTransformer(Layer):\n",
    "    \"\"\"Spatial Transformer Layer\n",
    "    Implements a spatial transformer layer as described in [1]_.\n",
    "    Borrowed from [2]_:\n",
    "    downsample_fator : float\n",
    "        A value of 1 will keep the orignal size of the image.\n",
    "        Values larger than 1 will down sample the image. Values below 1 will\n",
    "        upsample the image.\n",
    "        example image: height= 100, width = 200\n",
    "        downsample_factor = 2\n",
    "        output image will then be 50, 100\n",
    "    References\n",
    "    ----------\n",
    "    .. [1]  Spatial Transformer Networks\n",
    "            Max Jaderberg, Karen Simonyan, Andrew Zisserman, Koray Kavukcuoglu\n",
    "            Submitted on 5 Jun 2015\n",
    "    .. [2]  https://github.com/skaae/transformer_network/blob/master/transformerlayer.py\n",
    "    .. [3]  https://github.com/EderSantana/seya/blob/keras1/seya/layers/attention.py\n",
    "    \"\"\"\n",
    "\n",
    "    def __init__(self,\n",
    "                 localization_net,\n",
    "                 output_size,\n",
    "                 **kwargs):\n",
    "        self.locnet = localization_net\n",
    "        self.output_size = output_size\n",
    "        super(SpatialTransformer, self).__init__(**kwargs)\n",
    "\n",
    "    def build(self, input_shape):\n",
    "        self.locnet.build(input_shape)\n",
    "        self.trainable_weights = self.locnet.trainable_weights\n",
    "        #self.regularizers = self.locnet.regularizers //NOT SUER ABOUT THIS, THERE IS NO MORE SUCH PARAMETR AT self.locnet\n",
    "        #self.constraints = self.locnet.constraints\n",
    "\n",
    "    def compute_output_shape(self, input_shape):\n",
    "        output_size = self.output_size\n",
    "        return (None,\n",
    "                int(output_size[0]),\n",
    "                int(output_size[1]),\n",
    "                int(input_shape[-1]))\n",
    "\n",
    "    def call(self, X, mask=None):\n",
    "        affine_transformation = self.locnet.call(X)\n",
    "        output = self._transform(affine_transformation, X, self.output_size)\n",
    "        return output\n",
    "\n",
    "    def _repeat(self, x, num_repeats):\n",
    "        ones = tf.ones((1, num_repeats), dtype='int32')\n",
    "        x = tf.reshape(x, shape=(-1,1))\n",
    "        x = tf.matmul(x, ones)\n",
    "        return tf.reshape(x, [-1])\n",
    "\n",
    "    def _interpolate(self, image, x, y, output_size):\n",
    "        batch_size = tf.shape(image)[0]\n",
    "        height = tf.shape(image)[1]\n",
    "        width = tf.shape(image)[2]\n",
    "        num_channels = tf.shape(image)[3]\n",
    "\n",
    "        x = tf.cast(x , dtype='float32')\n",
    "        y = tf.cast(y , dtype='float32')\n",
    "\n",
    "        height_float = tf.cast(height, dtype='float32')\n",
    "        width_float = tf.cast(width, dtype='float32')\n",
    "\n",
    "        output_height = output_size[0]\n",
    "        output_width  = output_size[1]\n",
    "\n",
    "        x = .5*(x + 1.0)*(width_float)\n",
    "        y = .5*(y + 1.0)*(height_float)\n",
    "\n",
    "        x0 = tf.cast(tf.floor(x), 'int32')\n",
    "        x1 = x0 + 1\n",
    "        y0 = tf.cast(tf.floor(y), 'int32')\n",
    "        y1 = y0 + 1\n",
    "\n",
    "        max_y = tf.cast(height - 1, dtype='int32')\n",
    "        max_x = tf.cast(width - 1,  dtype='int32')\n",
    "        zero = tf.zeros([], dtype='int32')\n",
    "\n",
    "        x0 = tf.clip_by_value(x0, zero, max_x)\n",
    "        x1 = tf.clip_by_value(x1, zero, max_x)\n",
    "        y0 = tf.clip_by_value(y0, zero, max_y)\n",
    "        y1 = tf.clip_by_value(y1, zero, max_y)\n",
    "\n",
    "        flat_image_dimensions = width*height\n",
    "        pixels_batch = tf.range(batch_size)*flat_image_dimensions\n",
    "        flat_output_dimensions = output_height*output_width\n",
    "        base = self._repeat(pixels_batch, flat_output_dimensions)\n",
    "        base_y0 = base + y0*width\n",
    "        base_y1 = base + y1*width\n",
    "        indices_a = base_y0 + x0\n",
    "        indices_b = base_y1 + x0\n",
    "        indices_c = base_y0 + x1\n",
    "        indices_d = base_y1 + x1\n",
    "\n",
    "        flat_image = tf.reshape(image, shape=(-1, num_channels))\n",
    "        flat_image = tf.cast(flat_image, dtype='float32')\n",
    "        pixel_values_a = tf.gather(flat_image, indices_a)\n",
    "        pixel_values_b = tf.gather(flat_image, indices_b)\n",
    "        pixel_values_c = tf.gather(flat_image, indices_c)\n",
    "        pixel_values_d = tf.gather(flat_image, indices_d)\n",
    "\n",
    "        x0 = tf.cast(x0, 'float32')\n",
    "        x1 = tf.cast(x1, 'float32')\n",
    "        y0 = tf.cast(y0, 'float32')\n",
    "        y1 = tf.cast(y1, 'float32')\n",
    "\n",
    "        area_a = tf.expand_dims(((x1 - x) * (y1 - y)), 1)\n",
    "        area_b = tf.expand_dims(((x1 - x) * (y - y0)), 1)\n",
    "        area_c = tf.expand_dims(((x - x0) * (y1 - y)), 1)\n",
    "        area_d = tf.expand_dims(((x - x0) * (y - y0)), 1)\n",
    "        output = tf.add_n([area_a*pixel_values_a,\n",
    "                           area_b*pixel_values_b,\n",
    "                           area_c*pixel_values_c,\n",
    "                           area_d*pixel_values_d])\n",
    "        return output\n",
    "\n",
    "    def _meshgrid(self, height, width):\n",
    "        x_linspace = tf.linspace(-1., 1., width)\n",
    "        y_linspace = tf.linspace(-1., 1., height)\n",
    "        x_coordinates, y_coordinates = tf.meshgrid(x_linspace, y_linspace)\n",
    "        x_coordinates = tf.reshape(x_coordinates, [-1])\n",
    "        y_coordinates = tf.reshape(y_coordinates, [-1])\n",
    "        ones = tf.ones_like(x_coordinates)\n",
    "        indices_grid = tf.concat([x_coordinates, y_coordinates, ones], 0)\n",
    "        return indices_grid\n",
    "\n",
    "    def _transform(self, affine_transformation, input_shape, output_size):\n",
    "        batch_size = tf.shape(input_shape)[0]\n",
    "        height = tf.shape(input_shape)[1]\n",
    "        width = tf.shape(input_shape)[2]\n",
    "        num_channels = tf.shape(input_shape)[3]\n",
    "\n",
    "        affine_transformation = tf.reshape(affine_transformation, shape=(batch_size,2,3))\n",
    "\n",
    "        affine_transformation = tf.reshape(affine_transformation, (-1, 2, 3))\n",
    "        affine_transformation = tf.cast(affine_transformation, 'float32')\n",
    "\n",
    "        width = tf.cast(width, dtype='float32')\n",
    "        height = tf.cast(height, dtype='float32')\n",
    "        output_height = output_size[0]\n",
    "        output_width = output_size[1]\n",
    "        indices_grid = self._meshgrid(output_height, output_width)\n",
    "        indices_grid = tf.expand_dims(indices_grid, 0)\n",
    "        indices_grid = tf.reshape(indices_grid, [-1]) # flatten?\n",
    "\n",
    "        indices_grid = tf.tile(indices_grid, tf.stack([batch_size]))\n",
    "        indices_grid = tf.reshape(indices_grid, (batch_size, 3, -1))\n",
    "\n",
    "        transformed_grid = tf.matmul(affine_transformation, indices_grid)\n",
    "        x_s = tf.slice(transformed_grid, [0, 0, 0], [-1, 1, -1])\n",
    "        y_s = tf.slice(transformed_grid, [0, 1, 0], [-1, 1, -1])\n",
    "        x_s_flatten = tf.reshape(x_s, [-1])\n",
    "        y_s_flatten = tf.reshape(y_s, [-1])\n",
    "\n",
    "        transformed_image = self._interpolate(input_shape,\n",
    "                                                x_s_flatten,\n",
    "                                                y_s_flatten,\n",
    "                                                output_size)\n",
    "\n",
    "        transformed_image = tf.reshape(transformed_image, shape=(batch_size,\n",
    "                                                                output_height,\n",
    "                                                                output_width,\n",
    "                                                                num_channels))\n",
    "        return transformed_image\n"
   ]
  },
  {
   "cell_type": "markdown",
   "metadata": {},
   "source": [
    "# LOCNET"
   ]
  },
  {
   "cell_type": "code",
   "execution_count": 20,
   "metadata": {
    "collapsed": false
   },
   "outputs": [],
   "source": [
    "def locnet():\n",
    "\n",
    "    # initial weights\n",
    "    b = np.zeros((2, 3), dtype='float32')\n",
    "    b[0, 0] = 1\n",
    "    b[1, 1] = 1\n",
    "    W = np.zeros((50, 6), dtype='float32')\n",
    "    weights = [W, b.flatten()]\n",
    "\n",
    "    input_shape = (32,32,1)\n",
    "\n",
    "    #locnet\n",
    "    locnet = Sequential()\n",
    "    locnet.add(MaxPooling2D(pool_size=(2,2), input_shape=input_shape))\n",
    "    locnet.add(Conv2D(20, (5, 5)))\n",
    "    locnet.add(MaxPooling2D(pool_size=(2,2)))\n",
    "    locnet.add(Conv2D(20, (5, 5)))\n",
    "\n",
    "    locnet.add(Flatten())\n",
    "    locnet.add(Dense(50))\n",
    "    model.add(LeakyReLU(alpha=0.5))\n",
    "    locnet.add(Dense(6, weights=weights))\n",
    "    return locnet\n",
    "    #locnet.add(Activation('sigmoid'))"
   ]
  },
  {
   "cell_type": "markdown",
   "metadata": {},
   "source": [
    "#  CNN model "
   ]
  },
  {
   "cell_type": "code",
   "execution_count": 8,
   "metadata": {
    "collapsed": false
   },
   "outputs": [],
   "source": [
    "def cnn_model(flag_BN=False, flag_STN=False):\n",
    "\n",
    "    \n",
    "    model = Sequential()\n",
    "    if flag_STN == True:\n",
    "        lnet = locnet()\n",
    "        print(lnet)\n",
    "        model.add(SpatialTransformer(localization_net=lnet,\n",
    "                            input_shape=(32,32,1),output_size=(32,32)))\n",
    "    model.add(Conv2D(32, (3, 3), padding='same',\n",
    "                     input_shape=( 32, 32,1)))                    \n",
    "    #model.add(Conv2D(32, (3, 3), activation='relu'))\n",
    "    if flag_BN == True:\n",
    "        model.add(BatchNormalization())\n",
    "        \n",
    "    model.add(LeakyReLU(alpha=0.5))\n",
    "    model.add(MaxPooling2D(pool_size=(2, 2)))\n",
    "    model.add(Dropout(0.2))\n",
    "\n",
    "    model.add(Conv2D(64, (3, 3), padding='same'))\n",
    "\n",
    "    #model.add(Conv2D(64, (3, 3), activation='relu'))\n",
    "    if flag_BN == True:\n",
    "        model.add(BatchNormalization())  \n",
    "    model.add(LeakyReLU(alpha=0.5))\n",
    "    model.add(MaxPooling2D(pool_size=(2, 2)))\n",
    "    model.add(Dropout(0.2))\n",
    "\n",
    "    model.add(Conv2D(128, (3, 3), padding='same'))\n",
    "    #model.add(Conv2D(128, (3, 3), activation='relu'))\n",
    "    if flag_BN == True:\n",
    "        model.add(BatchNormalization())  \n",
    "    model.add(LeakyReLU(alpha=0.5))\n",
    "    model.add(MaxPooling2D(pool_size=(2, 2)))\n",
    "    model.add(Dropout(0.2))\n",
    "\n",
    "    model.add(Flatten())\n",
    "    model.add(Dense(1024))\n",
    "    if flag_BN == True:\n",
    "        model.add(BatchNormalization())  \n",
    "    model.add(LeakyReLU(alpha=0.5))\n",
    "    model.add(Dropout(0.5))\n",
    "    model.add(Dense(43, activation='softmax'))\n",
    "\n",
    "    model.summary()\n",
    "    return model"
   ]
  },
  {
   "cell_type": "markdown",
   "metadata": {},
   "source": [
    "# CNN without Batch Normalization"
   ]
  },
  {
   "cell_type": "code",
   "execution_count": 22,
   "metadata": {
    "collapsed": false
   },
   "outputs": [
    {
     "name": "stdout",
     "output_type": "stream",
     "text": [
      "_________________________________________________________________\n",
      "Layer (type)                 Output Shape              Param #   \n",
      "=================================================================\n",
      "conv2d_1 (Conv2D)            (None, 32, 32, 32)        320       \n",
      "_________________________________________________________________\n",
      "leaky_re_lu_1 (LeakyReLU)    (None, 32, 32, 32)        0         \n",
      "_________________________________________________________________\n",
      "max_pooling2d_1 (MaxPooling2 (None, 16, 16, 32)        0         \n",
      "_________________________________________________________________\n",
      "dropout_1 (Dropout)          (None, 16, 16, 32)        0         \n",
      "_________________________________________________________________\n",
      "conv2d_2 (Conv2D)            (None, 16, 16, 64)        18496     \n",
      "_________________________________________________________________\n",
      "leaky_re_lu_2 (LeakyReLU)    (None, 16, 16, 64)        0         \n",
      "_________________________________________________________________\n",
      "max_pooling2d_2 (MaxPooling2 (None, 8, 8, 64)          0         \n",
      "_________________________________________________________________\n",
      "dropout_2 (Dropout)          (None, 8, 8, 64)          0         \n",
      "_________________________________________________________________\n",
      "conv2d_3 (Conv2D)            (None, 8, 8, 128)         73856     \n",
      "_________________________________________________________________\n",
      "leaky_re_lu_3 (LeakyReLU)    (None, 8, 8, 128)         0         \n",
      "_________________________________________________________________\n",
      "max_pooling2d_3 (MaxPooling2 (None, 4, 4, 128)         0         \n",
      "_________________________________________________________________\n",
      "dropout_3 (Dropout)          (None, 4, 4, 128)         0         \n",
      "_________________________________________________________________\n",
      "flatten_1 (Flatten)          (None, 2048)              0         \n",
      "_________________________________________________________________\n",
      "dense_1 (Dense)              (None, 1024)              2098176   \n",
      "_________________________________________________________________\n",
      "leaky_re_lu_4 (LeakyReLU)    (None, 1024)              0         \n",
      "_________________________________________________________________\n",
      "dropout_4 (Dropout)          (None, 1024)              0         \n",
      "_________________________________________________________________\n",
      "dense_2 (Dense)              (None, 43)                44075     \n",
      "=================================================================\n",
      "Total params: 2,234,923\n",
      "Trainable params: 2,234,923\n",
      "Non-trainable params: 0\n",
      "_________________________________________________________________\n"
     ]
    },
    {
     "name": "stderr",
     "output_type": "stream",
     "text": [
      "/home/carnd/anaconda3/envs/dl/lib/python3.5/site-packages/keras/models.py:848: UserWarning: The `nb_epoch` argument in `fit` has been renamed `epochs`.\n",
      "  warnings.warn('The `nb_epoch` argument in `fit` '\n"
     ]
    },
    {
     "name": "stdout",
     "output_type": "stream",
     "text": [
      "Train on 34799 samples, validate on 4410 samples\n",
      "Epoch 1/20\n",
      "34799/34799 [==============================] - 14s - loss: 2.7570 - acc: 0.2625 - val_loss: 1.8260 - val_acc: 0.5141\n",
      "Epoch 2/20\n",
      "34799/34799 [==============================] - 10s - loss: 0.9570 - acc: 0.7186 - val_loss: 0.9187 - val_acc: 0.7644\n",
      "Epoch 3/20\n",
      "34799/34799 [==============================] - 10s - loss: 0.4421 - acc: 0.8690 - val_loss: 0.6378 - val_acc: 0.8392\n",
      "Epoch 4/20\n",
      "34799/34799 [==============================] - 10s - loss: 0.2799 - acc: 0.9179 - val_loss: 0.5354 - val_acc: 0.8703\n",
      "Epoch 5/20\n",
      "34799/34799 [==============================] - 10s - loss: 0.1894 - acc: 0.9458 - val_loss: 0.4878 - val_acc: 0.8859\n",
      "Epoch 6/20\n",
      "34799/34799 [==============================] - 10s - loss: 0.1478 - acc: 0.9584 - val_loss: 0.4475 - val_acc: 0.8950\n",
      "Epoch 7/20\n",
      "34799/34799 [==============================] - 10s - loss: 0.1236 - acc: 0.9636 - val_loss: 0.4609 - val_acc: 0.8807\n",
      "Epoch 8/20\n",
      "34799/34799 [==============================] - 10s - loss: 0.1012 - acc: 0.9706 - val_loss: 0.3860 - val_acc: 0.9132\n",
      "Epoch 9/20\n",
      "34799/34799 [==============================] - 10s - loss: 0.0854 - acc: 0.9750 - val_loss: 0.3798 - val_acc: 0.9107\n",
      "Epoch 10/20\n",
      "34799/34799 [==============================] - 10s - loss: 0.0745 - acc: 0.9780 - val_loss: 0.3940 - val_acc: 0.9170\n",
      "Epoch 11/20\n",
      "34799/34799 [==============================] - 10s - loss: 0.0605 - acc: 0.9828 - val_loss: 0.4129 - val_acc: 0.9120\n",
      "Epoch 12/20\n",
      "34799/34799 [==============================] - 10s - loss: 0.0604 - acc: 0.9825 - val_loss: 0.3661 - val_acc: 0.9166\n",
      "Epoch 13/20\n",
      "34799/34799 [==============================] - 10s - loss: 0.0512 - acc: 0.9860 - val_loss: 0.3723 - val_acc: 0.9200\n",
      "Epoch 14/20\n",
      "34799/34799 [==============================] - 10s - loss: 0.0468 - acc: 0.9863 - val_loss: 0.3852 - val_acc: 0.9227\n",
      "Epoch 15/20\n",
      "34799/34799 [==============================] - 10s - loss: 0.0419 - acc: 0.9875 - val_loss: 0.3649 - val_acc: 0.9243\n",
      "Epoch 16/20\n",
      "34799/34799 [==============================] - 10s - loss: 0.0406 - acc: 0.9878 - val_loss: 0.3835 - val_acc: 0.9181\n",
      "Epoch 17/20\n",
      "34799/34799 [==============================] - 10s - loss: 0.0371 - acc: 0.9894 - val_loss: 0.3405 - val_acc: 0.9295\n",
      "Epoch 18/20\n",
      "34799/34799 [==============================] - 10s - loss: 0.0428 - acc: 0.9875 - val_loss: 0.2956 - val_acc: 0.9336\n",
      "Epoch 19/20\n",
      "34799/34799 [==============================] - 10s - loss: 0.0361 - acc: 0.9896 - val_loss: 0.2989 - val_acc: 0.9315\n",
      "Epoch 20/20\n",
      "34799/34799 [==============================] - 10s - loss: 0.0330 - acc: 0.9906 - val_loss: 0.3253 - val_acc: 0.9293\n"
     ]
    }
   ],
   "source": [
    "model = cnn_model()\n",
    "# Compile and train the model\n",
    "model.compile(loss='categorical_crossentropy',\n",
    "              optimizer=Adam(),\n",
    "              metrics=['accuracy'])\n",
    "\n",
    "history = model.fit(X_train, y_train,\n",
    "                    batch_size=512, nb_epoch=20,\n",
    "                    verbose=1, validation_data=(X_val, y_val))"
   ]
  },
  {
   "cell_type": "code",
   "execution_count": null,
   "metadata": {
    "collapsed": true
   },
   "outputs": [],
   "source": [
    "#save\n",
    "\n",
    "import matplotlib.pyplot as plt  \n",
    "plt.figure(1)  \n",
    "plt.subplot(211)  \n",
    "plt.plot(history.history['acc'])  \n",
    "plt.plot(history.history['val_acc'])  \n",
    "plt.title('model accuracy')  \n",
    "plt.ylabel('accuracy')  \n",
    "plt.xlabel('epoch')  \n",
    "plt.legend(['train', 'test'], loc='upper left')  \n",
    "   \n",
    " # summarize history for loss  \n",
    "   \n",
    "plt.subplot(212)  \n",
    "plt.plot(history.history['loss'])  \n",
    "plt.plot(history.history['val_loss'])  \n",
    "plt.title('model loss')  \n",
    "plt.ylabel('loss')  \n",
    "plt.xlabel('epoch')  \n",
    "plt.legend(['train', 'validation'], loc='upper left')  \n",
    "plt.show()  \n",
    "\n",
    "\n",
    "with open('CNN_history', 'wb') as file_pi:\n",
    "        pickle.dump(history.history, file_pi)\n"
   ]
  },
  {
   "cell_type": "code",
   "execution_count": 14,
   "metadata": {
    "collapsed": false
   },
   "outputs": [
    {
     "name": "stdout",
     "output_type": "stream",
     "text": [
      "{'val_acc': [0.51405895797033163, 0.76439909378146909, 0.83922902634895302, 0.87029478601317289, 0.88594104135387874, 0.89501133932818633, 0.88072562558310374, 0.91315192522105171, 0.91065759839925098, 0.9170068047484573, 0.91201814261693803, 0.91655329054986001, 0.91995464949921413, 0.92267573579909312, 0.9242630373863947, 0.91814058629833917, 0.92947845848239197, 0.93356009221671665, 0.93151927215982722, 0.92925170111277744], 'val_loss': [1.8259861672546318, 0.91865875472287206, 0.63779906388583363, 0.53541929000088961, 0.48778515337816442, 0.44754030974814141, 0.46086741388519875, 0.3860022514044833, 0.37977416008508125, 0.39402617929744072, 0.41285653779295839, 0.36605362466403418, 0.37229382028114771, 0.38517394522690718, 0.36486099144769091, 0.38345984263755295, 0.3405439810417677, 0.29562408975462795, 0.29894929083566818, 0.32533580637843162], 'acc': [0.26253628017381742, 0.71855513143753191, 0.86901922507575058, 0.91792867693353919, 0.94580304091160128, 0.95844708315383886, 0.96359090788576318, 0.97063134047432797, 0.97497054430159924, 0.97801661053938194, 0.98275812562572096, 0.98247076197634375, 0.98603408338146692, 0.98629270910500777, 0.9875283767966081, 0.98784447853625301, 0.98939624772085133, 0.98752837803669435, 0.9895686653106458, 0.99060317887229177], 'loss': [2.757029126442665, 0.95697151001796199, 0.44205618249283751, 0.27991769618498374, 0.18935846962453703, 0.1477519284829216, 0.12359239953153932, 0.10116050706221909, 0.085367407153356986, 0.074483118218873268, 0.0604655146992766, 0.060400942371056449, 0.051164274261867475, 0.046790947371793463, 0.041919619351661414, 0.040585232423123056, 0.037095015498841713, 0.042752084026195639, 0.036126690218285337, 0.033037335713070395]}\n",
      "dict_keys(['val_acc', 'val_loss', 'acc', 'loss'])\n"
     ]
    },
    {
     "data": {
      "image/png": "[encoded data removed]",
      "text/plain": [
       "<matplotlib.figure.Figure at 0x7f08d0273908>"
      ]
     },
     "metadata": {},
     "output_type": "display_data"
    }
   ],
   "source": [
    "#load\n",
    "\n",
    "import pickle\n",
    "\n",
    "history_cnn = pickle.load( open( \"CNN_history\", \"rb\" ) )\n",
    "print(history_cnn)\n",
    "print(history_cnn.keys())  \n",
    "\n",
    "\n",
    "import matplotlib.pyplot as plt  \n",
    "plt.figure(1)  \n",
    "plt.subplot(211)  \n",
    "plt.plot(history_cnn['acc'])  \n",
    "plt.plot(history_cnn['val_acc'])  \n",
    "plt.title('model accuracy')  \n",
    "plt.ylabel('accuracy')  \n",
    "plt.xlabel('epoch')  \n",
    "plt.legend(['train', 'test'], loc='upper left')  \n",
    "   \n",
    " # summarize history for loss  \n",
    "   \n",
    "plt.subplot(212)  \n",
    "plt.plot(history_cnn['loss'])  \n",
    "plt.plot(history_cnn['val_loss'])  \n",
    "plt.title('model loss')  \n",
    "plt.ylabel('loss')  \n",
    "plt.xlabel('epoch')  \n",
    "plt.legend(['train', 'validation'], loc='upper left')  \n",
    "plt.show()  \n",
    "\n",
    "\n",
    "\n",
    "\n",
    "#from keras.models import load_model\n",
    "\n",
    "#model.save('CNN.h5')  # creates a HDF5 file 'my_model.h5'\n",
    "#f = open(historyfile, 'wb')\n",
    "#pickle.dump(save, f, pickle.HIGHEST_PROTOCOL)\n",
    "#f.close()\n",
    "\n",
    "\n",
    "# returns a compiled model\n",
    "# identical to the previous one\n",
    "#model = load_model('CNN.h5')\n",
    "\n",
    "\n",
    "#model.save('models/CNN.ckpt')\n",
    "#model.evaluate(X_test,y_test)"
   ]
  },
  {
   "cell_type": "markdown",
   "metadata": {},
   "source": [
    "# CNN  with Batch Normalization"
   ]
  },
  {
   "cell_type": "code",
   "execution_count": 9,
   "metadata": {
    "collapsed": false
   },
   "outputs": [
    {
     "name": "stdout",
     "output_type": "stream",
     "text": [
      "_________________________________________________________________\n",
      "Layer (type)                 Output Shape              Param #   \n",
      "=================================================================\n",
      "conv2d_1 (Conv2D)            (None, 32, 32, 32)        320       \n",
      "_________________________________________________________________\n",
      "batch_normalization_1 (Batch (None, 32, 32, 32)        128       \n",
      "_________________________________________________________________\n",
      "leaky_re_lu_1 (LeakyReLU)    (None, 32, 32, 32)        0         \n",
      "_________________________________________________________________\n",
      "max_pooling2d_1 (MaxPooling2 (None, 16, 16, 32)        0         \n",
      "_________________________________________________________________\n",
      "dropout_1 (Dropout)          (None, 16, 16, 32)        0         \n",
      "_________________________________________________________________\n",
      "conv2d_2 (Conv2D)            (None, 16, 16, 64)        18496     \n",
      "_________________________________________________________________\n",
      "batch_normalization_2 (Batch (None, 16, 16, 64)        256       \n",
      "_________________________________________________________________\n",
      "leaky_re_lu_2 (LeakyReLU)    (None, 16, 16, 64)        0         \n",
      "_________________________________________________________________\n",
      "max_pooling2d_2 (MaxPooling2 (None, 8, 8, 64)          0         \n",
      "_________________________________________________________________\n",
      "dropout_2 (Dropout)          (None, 8, 8, 64)          0         \n",
      "_________________________________________________________________\n",
      "conv2d_3 (Conv2D)            (None, 8, 8, 128)         73856     \n",
      "_________________________________________________________________\n",
      "batch_normalization_3 (Batch (None, 8, 8, 128)         512       \n",
      "_________________________________________________________________\n",
      "leaky_re_lu_3 (LeakyReLU)    (None, 8, 8, 128)         0         \n",
      "_________________________________________________________________\n",
      "max_pooling2d_3 (MaxPooling2 (None, 4, 4, 128)         0         \n",
      "_________________________________________________________________\n",
      "dropout_3 (Dropout)          (None, 4, 4, 128)         0         \n",
      "_________________________________________________________________\n",
      "flatten_1 (Flatten)          (None, 2048)              0         \n",
      "_________________________________________________________________\n",
      "dense_1 (Dense)              (None, 1024)              2098176   \n",
      "_________________________________________________________________\n",
      "batch_normalization_4 (Batch (None, 1024)              4096      \n",
      "_________________________________________________________________\n",
      "leaky_re_lu_4 (LeakyReLU)    (None, 1024)              0         \n",
      "_________________________________________________________________\n",
      "dropout_4 (Dropout)          (None, 1024)              0         \n",
      "_________________________________________________________________\n",
      "dense_2 (Dense)              (None, 43)                44075     \n",
      "=================================================================\n",
      "Total params: 2,239,915\n",
      "Trainable params: 2,237,419\n",
      "Non-trainable params: 2,496\n",
      "_________________________________________________________________\n"
     ]
    },
    {
     "name": "stderr",
     "output_type": "stream",
     "text": [
      "/home/carnd/anaconda3/envs/dl/lib/python3.5/site-packages/keras/models.py:848: UserWarning: The `nb_epoch` argument in `fit` has been renamed `epochs`.\n",
      "  warnings.warn('The `nb_epoch` argument in `fit` '\n"
     ]
    },
    {
     "name": "stdout",
     "output_type": "stream",
     "text": [
      "Train on 34799 samples, validate on 4410 samples\n",
      "Epoch 1/20\n",
      "34799/34799 [==============================] - 20s - loss: 1.9953 - acc: 0.4775 - val_loss: 3.5056 - val_acc: 0.0696\n",
      "Epoch 2/20\n",
      "34799/34799 [==============================] - 16s - loss: 0.6265 - acc: 0.8121 - val_loss: 3.6536 - val_acc: 0.0841\n",
      "Epoch 3/20\n",
      "34799/34799 [==============================] - 16s - loss: 0.3486 - acc: 0.8976 - val_loss: 3.1759 - val_acc: 0.2002\n",
      "Epoch 4/20\n",
      "34799/34799 [==============================] - 16s - loss: 0.2449 - acc: 0.9299 - val_loss: 2.7885 - val_acc: 0.3259\n",
      "Epoch 5/20\n",
      "34799/34799 [==============================] - 16s - loss: 0.1843 - acc: 0.9476 - val_loss: 1.8120 - val_acc: 0.5351\n",
      "Epoch 6/20\n",
      "34799/34799 [==============================] - 16s - loss: 0.1446 - acc: 0.9591 - val_loss: 1.2360 - val_acc: 0.6463\n",
      "Epoch 7/20\n",
      "34799/34799 [==============================] - 16s - loss: 0.1111 - acc: 0.9684 - val_loss: 0.7632 - val_acc: 0.7939\n",
      "Epoch 8/20\n",
      "34799/34799 [==============================] - 16s - loss: 0.0938 - acc: 0.9739 - val_loss: 0.5408 - val_acc: 0.8494\n",
      "Epoch 9/20\n",
      "34799/34799 [==============================] - 16s - loss: 0.0811 - acc: 0.9774 - val_loss: 0.3611 - val_acc: 0.9054\n",
      "Epoch 10/20\n",
      "34799/34799 [==============================] - 16s - loss: 0.0681 - acc: 0.9821 - val_loss: 0.2909 - val_acc: 0.9209\n",
      "Epoch 11/20\n",
      "34799/34799 [==============================] - 16s - loss: 0.0594 - acc: 0.9832 - val_loss: 0.3012 - val_acc: 0.9195\n",
      "Epoch 12/20\n",
      "34799/34799 [==============================] - 16s - loss: 0.0539 - acc: 0.9855 - val_loss: 0.4198 - val_acc: 0.8907\n",
      "Epoch 13/20\n",
      "34799/34799 [==============================] - 16s - loss: 0.0472 - acc: 0.9870 - val_loss: 0.4544 - val_acc: 0.8812\n",
      "Epoch 14/20\n",
      "34799/34799 [==============================] - 16s - loss: 0.0410 - acc: 0.9889 - val_loss: 0.5934 - val_acc: 0.8417\n",
      "Epoch 15/20\n",
      "34799/34799 [==============================] - 16s - loss: 0.0361 - acc: 0.9906 - val_loss: 0.2677 - val_acc: 0.9356\n",
      "Epoch 16/20\n",
      "34799/34799 [==============================] - 16s - loss: 0.0350 - acc: 0.9902 - val_loss: 0.2817 - val_acc: 0.9263\n",
      "Epoch 17/20\n",
      "34799/34799 [==============================] - 16s - loss: 0.0305 - acc: 0.9918 - val_loss: 0.2189 - val_acc: 0.9458\n",
      "Epoch 18/20\n",
      "34799/34799 [==============================] - 16s - loss: 0.0271 - acc: 0.9928 - val_loss: 0.2418 - val_acc: 0.9433\n",
      "Epoch 19/20\n",
      "34799/34799 [==============================] - 16s - loss: 0.0267 - acc: 0.9927 - val_loss: 0.2575 - val_acc: 0.9429\n",
      "Epoch 20/20\n",
      "34799/34799 [==============================] - 16s - loss: 0.0241 - acc: 0.9934 - val_loss: 0.2845 - val_acc: 0.9324\n"
     ]
    }
   ],
   "source": [
    "model = cnn_model(flag_BN=True)\n",
    "# Compile and train the model\n",
    "model.compile(loss='categorical_crossentropy',\n",
    "              optimizer=Adam(),\n",
    "              metrics=['accuracy'])\n",
    "\n",
    "history = model.fit(X_train, y_train,\n",
    "                    batch_size=512, nb_epoch=20,\n",
    "                    verbose=1, validation_data=(X_val, y_val))"
   ]
  },
  {
   "cell_type": "code",
   "execution_count": 10,
   "metadata": {
    "collapsed": true
   },
   "outputs": [],
   "source": [
    "model.save('models/CNN_BN.ckpt')\n"
   ]
  },
  {
   "cell_type": "code",
   "execution_count": 11,
   "metadata": {
    "collapsed": false
   },
   "outputs": [
    {
     "data": {
      "image/png": "[encoded data removed]",
      "text/plain": [
       "<matplotlib.figure.Figure at 0x7f08d5cacc18>"
      ]
     },
     "metadata": {},
     "output_type": "display_data"
    }
   ],
   "source": [
    "import matplotlib.pyplot as plt  \n",
    "\n",
    "history_bn = history\n",
    "plt.figure(1)  \n",
    "plt.subplot(211)  \n",
    "plt.plot(history_bn.history['acc'])  \n",
    "plt.plot(history_bn.history['val_acc'])  \n",
    "plt.title('model accuracy')  \n",
    "plt.ylabel('accuracy')  \n",
    "plt.xlabel('epoch')  \n",
    "plt.legend(['train', 'test'], loc='upper left')  \n",
    "   \n",
    " # summarize history for loss  \n",
    "   \n",
    "plt.subplot(212)  \n",
    "plt.plot(history_bn.history['loss'])  \n",
    "plt.plot(history_bn.history['val_loss'])  \n",
    "plt.title('model loss')  \n",
    "plt.ylabel('loss')  \n",
    "plt.xlabel('epoch')  \n",
    "plt.legend(['train', 'validation'], loc='upper left')  \n",
    "plt.show()  \n",
    "\n",
    "\n",
    "with open('CNN_BN_history', 'wb') as file_pi:\n",
    "        pickle.dump(history_bn.history, file_pi)\n"
   ]
  },
  {
   "cell_type": "code",
   "execution_count": 12,
   "metadata": {
    "collapsed": false
   },
   "outputs": [
    {
     "name": "stdout",
     "output_type": "stream",
     "text": [
      "{'val_acc': [0.06961451252233955, 0.08412698418442624, 0.20022675805891993, 0.32585033883853837, 0.53514739283088109, 0.64625850196868651, 0.79387755610234612, 0.84943310852223786, 0.90544217673559035, 0.92086168268099933, 0.91950113475998518, 0.89070294876487888, 0.88117913340224696, 0.84172335952317634, 0.9356009106517108, 0.92630385690265227, 0.9458049944198591, 0.9433106612186043, 0.94285714277604815, 0.93242631066683468], 'loss': [1.9953249581309105, 0.62648496088370076, 0.34863655900279661, 0.24490775232900988, 0.18429271632991148, 0.14464727055602877, 0.11114999467630168, 0.093776666597416111, 0.081090261822010734, 0.068098436226916456, 0.059444362380779756, 0.053858994257270601, 0.047153429915514203, 0.041025107344226826, 0.036135932967007241, 0.035046069489796751, 0.030458797292434923, 0.027050494451494687, 0.026726905947902849, 0.024096010072076658], 'acc': [0.47754245807036622, 0.81206356486683862, 0.89761200042020184, 0.92994051556973767, 0.94755596352389515, 0.95905054815062374, 0.96836116021452101, 0.97393603359352199, 0.97741314554259695, 0.98206845009723287, 0.98324664433511733, 0.98545935244466931, 0.9870111206358283, 0.98890772686014505, 0.99060317941011922, 0.99020086800546125, 0.99181011149162446, 0.99278714967605053, 0.99270094084004545, 0.99336187976499912], 'val_loss': [3.5056273027882825, 3.6535707713795356, 3.175948478413277, 2.7884856820917454, 1.8119966982713902, 1.2359578708942784, 0.76323520323586846, 0.54078057834080284, 0.36110473560367851, 0.29087205265654997, 0.30118548902524572, 0.41979246672048592, 0.45443461530603246, 0.5933700104959968, 0.26765149224912771, 0.28168740298201977, 0.21889367345509345, 0.24182243252557423, 0.2574729601542155, 0.28446789766385172]}\n",
      "dict_keys(['val_acc', 'loss', 'acc', 'val_loss'])\n"
     ]
    },
    {
     "data": {
      "image/png": "[encoded data removed]",
      "text/plain": [
       "<matplotlib.figure.Figure at 0x7f08d02c20f0>"
      ]
     },
     "metadata": {},
     "output_type": "display_data"
    }
   ],
   "source": [
    "#load\n",
    "\n",
    "import pickle\n",
    "\n",
    "history_bn = pickle.load( open( \"CNN_BN_history\", \"rb\" ) )\n",
    "print(history_bn)\n",
    "print(history_bn.keys())  \n",
    "\n",
    "\n",
    "import matplotlib.pyplot as plt  \n",
    "plt.figure(1)  \n",
    "plt.subplot(211)  \n",
    "plt.plot(history_bn['acc'])  \n",
    "plt.plot(history_bn['val_acc'])  \n",
    "plt.title('model accuracy')  \n",
    "plt.ylabel('accuracy')  \n",
    "plt.xlabel('epoch')  \n",
    "plt.legend(['train', 'test'], loc='upper left')  \n",
    "   \n",
    " # summarize history for loss  \n",
    "   \n",
    "plt.subplot(212)  \n",
    "plt.plot(history_bn['loss'])  \n",
    "plt.plot(history_bn['val_loss'])  \n",
    "plt.title('model loss')  \n",
    "plt.ylabel('loss')  \n",
    "plt.xlabel('epoch')  \n",
    "plt.legend(['train', 'validation'], loc='upper left')  \n",
    "plt.show()  \n",
    "\n",
    "\n",
    "\n",
    "\n",
    "\n",
    "\n",
    "#from keras.models import load_model\n",
    "\n",
    "#model.save('CNN.h5')  # creates a HDF5 file 'my_model.h5'\n",
    "#f = open(historyfile, 'wb')\n",
    "#pickle.dump(save, f, pickle.HIGHEST_PROTOCOL)\n",
    "#f.close()\n",
    "\n",
    "\n",
    "# returns a compiled model\n",
    "# identical to the previous one\n",
    "#model = load_model('CNN.h5')\n",
    "\n",
    "\n",
    "#model.save('models/CNN.ckpt')\n",
    "#model.evaluate(X_test,y_test)"
   ]
  },
  {
   "cell_type": "code",
   "execution_count": 17,
   "metadata": {
    "collapsed": false
   },
   "outputs": [
    {
     "data": {
      "image/png": "[encoded data removed]",
      "text/plain": [
       "<matplotlib.figure.Figure at 0x7f08c81cd358>"
      ]
     },
     "metadata": {},
     "output_type": "display_data"
    },
    {
     "data": {
      "image/png": "[encoded data removed]",
      "text/plain": [
       "<matplotlib.figure.Figure at 0x7f08d3dcfe48>"
      ]
     },
     "metadata": {},
     "output_type": "display_data"
    }
   ],
   "source": [
    "\n",
    "\n",
    "\n",
    "plt.figure(1)  \n",
    "plt.subplot(211)  \n",
    "plt.plot(history_bn['acc'])  \n",
    "plt.plot(history_cnn['acc'])  \n",
    "plt.title('model accuracy')  \n",
    "plt.ylabel('accuracy')  \n",
    "plt.xlabel('epoch')  \n",
    "plt.legend(['cnn_bn', 'cnn'], loc='upper left')  \n",
    "   \n",
    " # summarize history for loss  \n",
    "   \n",
    "plt.subplot(212)  \n",
    "plt.plot(history_bn['loss'])  \n",
    "plt.plot(history_cnn['loss'])  \n",
    "plt.title('model loss')  \n",
    "plt.ylabel('loss')  \n",
    "plt.xlabel('epoch')  \n",
    "plt.legend(['cnn_bn', 'cnn'], loc='upper left')  \n",
    "plt.show()  \n",
    "\n",
    "\n",
    "plt.figure(1)  \n",
    "\n",
    "plt.subplot(211)  \n",
    "plt.plot(history_bn['val_acc'])  \n",
    "plt.plot(history_cnn['val_acc'])  \n",
    "plt.title('model accuracy')  \n",
    "plt.ylabel('accuracy')  \n",
    "plt.xlabel('epoch')  \n",
    "plt.legend(['cnn_bn', 'cnn'], loc='upper left')  \n",
    "   \n",
    " # summarize history for loss  \n",
    "   \n",
    "plt.subplot(212)  \n",
    "plt.plot(history_bn['val_loss'])  \n",
    "plt.plot(history_cnn['val_loss'])  \n",
    "plt.title('model loss')  \n",
    "plt.ylabel('loss')  \n",
    "plt.xlabel('epoch')  \n",
    "plt.legend(['cnn_bn', 'cnn'], loc='upper left')  \n",
    "plt.show()  "
   ]
  },
  {
   "cell_type": "code",
   "execution_count": 18,
   "metadata": {
    "collapsed": false
   },
   "outputs": [
    {
     "name": "stdout",
     "output_type": "stream",
     "text": [
      "12630/12630 [==============================] - 3s     \n"
     ]
    }
   ],
   "source": [
    "evaluate = model.evaluate(X_test,y_test)\n"
   ]
  },
  {
   "cell_type": "code",
   "execution_count": 21,
   "metadata": {
    "collapsed": false
   },
   "outputs": [
    {
     "ename": "AttributeError",
     "evalue": "'list' object has no attribute 'keys'",
     "output_type": "error",
     "traceback": [
      "\u001b[0;31m---------------------------------------------------------------------------\u001b[0m",
      "\u001b[0;31mAttributeError\u001b[0m                            Traceback (most recent call last)",
      "\u001b[0;32m<ipython-input-21-7d4cd45ca027>\u001b[0m in \u001b[0;36m<module>\u001b[0;34m()\u001b[0m\n\u001b[0;32m----> 1\u001b[0;31m \u001b[0mprint\u001b[0m\u001b[0;34m(\u001b[0m\u001b[0mevaluate\u001b[0m\u001b[0;34m.\u001b[0m\u001b[0mkeys\u001b[0m\u001b[0;34m)\u001b[0m\u001b[0;34m\u001b[0m\u001b[0m\n\u001b[0m",
      "\u001b[0;31mAttributeError\u001b[0m: 'list' object has no attribute 'keys'"
     ]
    }
   ],
   "source": [
    "print(evaluate)"
   ]
  },
  {
   "cell_type": "markdown",
   "metadata": {},
   "source": [
    "# CNN with Batch Normalization and Data Augmentation"
   ]
  },
  {
   "cell_type": "code",
   "execution_count": 31,
   "metadata": {
    "collapsed": true
   },
   "outputs": [],
   "source": [
    "\n",
    "#data augmentation\n",
    "\n",
    "from keras.preprocessing.image import ImageDataGenerator\n",
    "\n",
    "def get_datagen():\n",
    "\n",
    "\n",
    "    datagen = ImageDataGenerator(featurewise_center=False,\n",
    "                             featurewise_std_normalization=False,\n",
    "                             width_shift_range=0.1,\n",
    "                             height_shift_range=0.1,\n",
    "                             zoom_range=0.2,\n",
    "                             shear_range=0.1,\n",
    "                             rotation_range=10.)\n",
    "\n",
    "    return datagen"
   ]
  },
  {
   "cell_type": "code",
   "execution_count": 62,
   "metadata": {
    "collapsed": false
   },
   "outputs": [
    {
     "name": "stdout",
     "output_type": "stream",
     "text": [
      "_________________________________________________________________\n",
      "Layer (type)                 Output Shape              Param #   \n",
      "=================================================================\n",
      "conv2d_73 (Conv2D)           (None, 32, 32, 32)        320       \n",
      "_________________________________________________________________\n",
      "batch_normalization_53 (Batc (None, 32, 32, 32)        128       \n",
      "_________________________________________________________________\n",
      "leaky_re_lu_16 (LeakyReLU)   (None, 32, 32, 32)        0         \n",
      "_________________________________________________________________\n",
      "max_pooling2d_73 (MaxPooling (None, 16, 16, 32)        0         \n",
      "_________________________________________________________________\n",
      "dropout_57 (Dropout)         (None, 16, 16, 32)        0         \n",
      "_________________________________________________________________\n",
      "conv2d_74 (Conv2D)           (None, 16, 16, 64)        18496     \n",
      "_________________________________________________________________\n",
      "batch_normalization_54 (Batc (None, 16, 16, 64)        256       \n",
      "_________________________________________________________________\n",
      "leaky_re_lu_17 (LeakyReLU)   (None, 16, 16, 64)        0         \n",
      "_________________________________________________________________\n",
      "max_pooling2d_74 (MaxPooling (None, 8, 8, 64)          0         \n",
      "_________________________________________________________________\n",
      "dropout_58 (Dropout)         (None, 8, 8, 64)          0         \n",
      "_________________________________________________________________\n",
      "conv2d_75 (Conv2D)           (None, 8, 8, 128)         73856     \n",
      "_________________________________________________________________\n",
      "batch_normalization_55 (Batc (None, 8, 8, 128)         512       \n",
      "_________________________________________________________________\n",
      "leaky_re_lu_18 (LeakyReLU)   (None, 8, 8, 128)         0         \n",
      "_________________________________________________________________\n",
      "max_pooling2d_75 (MaxPooling (None, 4, 4, 128)         0         \n",
      "_________________________________________________________________\n",
      "dropout_59 (Dropout)         (None, 4, 4, 128)         0         \n",
      "_________________________________________________________________\n",
      "flatten_30 (Flatten)         (None, 2048)              0         \n",
      "_________________________________________________________________\n",
      "dense_56 (Dense)             (None, 1024)              2098176   \n",
      "_________________________________________________________________\n",
      "batch_normalization_56 (Batc (None, 1024)              4096      \n",
      "_________________________________________________________________\n",
      "leaky_re_lu_19 (LeakyReLU)   (None, 1024)              0         \n",
      "_________________________________________________________________\n",
      "dropout_60 (Dropout)         (None, 1024)              0         \n",
      "_________________________________________________________________\n",
      "dense_57 (Dense)             (None, 43)                44075     \n",
      "=================================================================\n",
      "Total params: 2,239,915\n",
      "Trainable params: 2,237,419\n",
      "Non-trainable params: 2,496\n",
      "_________________________________________________________________\n",
      "Epoch 1/100\n",
      "   94/34799 [..............................] - ETA: 8617s - loss: 2.4240 - acc: 0.3625"
     ]
    },
    {
     "ename": "KeyboardInterrupt",
     "evalue": "",
     "output_type": "error",
     "traceback": [
      "\u001b[0;31m---------------------------------------------------------------------------\u001b[0m",
      "\u001b[0;31mKeyboardInterrupt\u001b[0m                         Traceback (most recent call last)",
      "\u001b[0;32m<ipython-input-62-e5ff3c54c175>\u001b[0m in \u001b[0;36m<module>\u001b[0;34m()\u001b[0m\n\u001b[1;32m     15\u001b[0m \u001b[0;34m\u001b[0m\u001b[0m\n\u001b[1;32m     16\u001b[0m                     \u001b[0mepochs\u001b[0m\u001b[0;34m=\u001b[0m\u001b[0;36m100\u001b[0m\u001b[0;34m,\u001b[0m\u001b[0mverbose\u001b[0m\u001b[0;34m=\u001b[0m\u001b[0;36m1\u001b[0m\u001b[0;34m,\u001b[0m\u001b[0;34m\u001b[0m\u001b[0m\n\u001b[0;32m---> 17\u001b[0;31m                     \u001b[0mvalidation_data\u001b[0m\u001b[0;34m=\u001b[0m\u001b[0;34m(\u001b[0m\u001b[0mX_val\u001b[0m\u001b[0;34m,\u001b[0m \u001b[0my_val\u001b[0m\u001b[0;34m)\u001b[0m\u001b[0;34m\u001b[0m\u001b[0m\n\u001b[0m\u001b[1;32m     18\u001b[0m                     \u001b[0;31m#callbacks=[LearningRateScheduler(lr_schedule),\u001b[0m\u001b[0;34m\u001b[0m\u001b[0;34m\u001b[0m\u001b[0m\n\u001b[1;32m     19\u001b[0m                     \u001b[0;31m#           ModelCheckpoint('model.h5', save_best_only=True)]\u001b[0m\u001b[0;34m\u001b[0m\u001b[0;34m\u001b[0m\u001b[0m\n",
      "\u001b[0;32m/home/carnd/anaconda3/envs/dl/lib/python3.5/site-packages/keras/legacy/interfaces.py\u001b[0m in \u001b[0;36mwrapper\u001b[0;34m(*args, **kwargs)\u001b[0m\n\u001b[1;32m     85\u001b[0m                 warnings.warn('Update your `' + object_name +\n\u001b[1;32m     86\u001b[0m                               '` call to the Keras 2 API: ' + signature, stacklevel=2)\n\u001b[0;32m---> 87\u001b[0;31m             \u001b[0;32mreturn\u001b[0m \u001b[0mfunc\u001b[0m\u001b[0;34m(\u001b[0m\u001b[0;34m*\u001b[0m\u001b[0margs\u001b[0m\u001b[0;34m,\u001b[0m \u001b[0;34m**\u001b[0m\u001b[0mkwargs\u001b[0m\u001b[0;34m)\u001b[0m\u001b[0;34m\u001b[0m\u001b[0m\n\u001b[0m\u001b[1;32m     88\u001b[0m         \u001b[0mwrapper\u001b[0m\u001b[0;34m.\u001b[0m\u001b[0m_original_function\u001b[0m \u001b[0;34m=\u001b[0m \u001b[0mfunc\u001b[0m\u001b[0;34m\u001b[0m\u001b[0m\n\u001b[1;32m     89\u001b[0m         \u001b[0;32mreturn\u001b[0m \u001b[0mwrapper\u001b[0m\u001b[0;34m\u001b[0m\u001b[0m\n",
      "\u001b[0;32m/home/carnd/anaconda3/envs/dl/lib/python3.5/site-packages/keras/models.py\u001b[0m in \u001b[0;36mfit_generator\u001b[0;34m(self, generator, steps_per_epoch, epochs, verbose, callbacks, validation_data, validation_steps, class_weight, max_queue_size, workers, use_multiprocessing, initial_epoch)\u001b[0m\n\u001b[1;32m   1119\u001b[0m                                         \u001b[0mworkers\u001b[0m\u001b[0;34m=\u001b[0m\u001b[0mworkers\u001b[0m\u001b[0;34m,\u001b[0m\u001b[0;34m\u001b[0m\u001b[0m\n\u001b[1;32m   1120\u001b[0m                                         \u001b[0muse_multiprocessing\u001b[0m\u001b[0;34m=\u001b[0m\u001b[0muse_multiprocessing\u001b[0m\u001b[0;34m,\u001b[0m\u001b[0;34m\u001b[0m\u001b[0m\n\u001b[0;32m-> 1121\u001b[0;31m                                         initial_epoch=initial_epoch)\n\u001b[0m\u001b[1;32m   1122\u001b[0m \u001b[0;34m\u001b[0m\u001b[0m\n\u001b[1;32m   1123\u001b[0m     \u001b[0;34m@\u001b[0m\u001b[0minterfaces\u001b[0m\u001b[0;34m.\u001b[0m\u001b[0mlegacy_generator_methods_support\u001b[0m\u001b[0;34m\u001b[0m\u001b[0m\n",
      "\u001b[0;32m/home/carnd/anaconda3/envs/dl/lib/python3.5/site-packages/keras/legacy/interfaces.py\u001b[0m in \u001b[0;36mwrapper\u001b[0;34m(*args, **kwargs)\u001b[0m\n\u001b[1;32m     85\u001b[0m                 warnings.warn('Update your `' + object_name +\n\u001b[1;32m     86\u001b[0m                               '` call to the Keras 2 API: ' + signature, stacklevel=2)\n\u001b[0;32m---> 87\u001b[0;31m             \u001b[0;32mreturn\u001b[0m \u001b[0mfunc\u001b[0m\u001b[0;34m(\u001b[0m\u001b[0;34m*\u001b[0m\u001b[0margs\u001b[0m\u001b[0;34m,\u001b[0m \u001b[0;34m**\u001b[0m\u001b[0mkwargs\u001b[0m\u001b[0;34m)\u001b[0m\u001b[0;34m\u001b[0m\u001b[0m\n\u001b[0m\u001b[1;32m     88\u001b[0m         \u001b[0mwrapper\u001b[0m\u001b[0;34m.\u001b[0m\u001b[0m_original_function\u001b[0m \u001b[0;34m=\u001b[0m \u001b[0mfunc\u001b[0m\u001b[0;34m\u001b[0m\u001b[0m\n\u001b[1;32m     89\u001b[0m         \u001b[0;32mreturn\u001b[0m \u001b[0mwrapper\u001b[0m\u001b[0;34m\u001b[0m\u001b[0m\n",
      "\u001b[0;32m/home/carnd/anaconda3/envs/dl/lib/python3.5/site-packages/keras/engine/training.py\u001b[0m in \u001b[0;36mfit_generator\u001b[0;34m(self, generator, steps_per_epoch, epochs, verbose, callbacks, validation_data, validation_steps, class_weight, max_queue_size, workers, use_multiprocessing, shuffle, initial_epoch)\u001b[0m\n\u001b[1;32m   2040\u001b[0m                     outs = self.train_on_batch(x, y,\n\u001b[1;32m   2041\u001b[0m                                                \u001b[0msample_weight\u001b[0m\u001b[0;34m=\u001b[0m\u001b[0msample_weight\u001b[0m\u001b[0;34m,\u001b[0m\u001b[0;34m\u001b[0m\u001b[0m\n\u001b[0;32m-> 2042\u001b[0;31m                                                class_weight=class_weight)\n\u001b[0m\u001b[1;32m   2043\u001b[0m \u001b[0;34m\u001b[0m\u001b[0m\n\u001b[1;32m   2044\u001b[0m                     \u001b[0;32mif\u001b[0m \u001b[0;32mnot\u001b[0m \u001b[0misinstance\u001b[0m\u001b[0;34m(\u001b[0m\u001b[0mouts\u001b[0m\u001b[0;34m,\u001b[0m \u001b[0mlist\u001b[0m\u001b[0;34m)\u001b[0m\u001b[0;34m:\u001b[0m\u001b[0;34m\u001b[0m\u001b[0m\n",
      "\u001b[0;32m/home/carnd/anaconda3/envs/dl/lib/python3.5/site-packages/keras/engine/training.py\u001b[0m in \u001b[0;36mtrain_on_batch\u001b[0;34m(self, x, y, sample_weight, class_weight)\u001b[0m\n\u001b[1;32m   1760\u001b[0m             \u001b[0mins\u001b[0m \u001b[0;34m=\u001b[0m \u001b[0mx\u001b[0m \u001b[0;34m+\u001b[0m \u001b[0my\u001b[0m \u001b[0;34m+\u001b[0m \u001b[0msample_weights\u001b[0m\u001b[0;34m\u001b[0m\u001b[0m\n\u001b[1;32m   1761\u001b[0m         \u001b[0mself\u001b[0m\u001b[0;34m.\u001b[0m\u001b[0m_make_train_function\u001b[0m\u001b[0;34m(\u001b[0m\u001b[0;34m)\u001b[0m\u001b[0;34m\u001b[0m\u001b[0m\n\u001b[0;32m-> 1762\u001b[0;31m         \u001b[0moutputs\u001b[0m \u001b[0;34m=\u001b[0m \u001b[0mself\u001b[0m\u001b[0;34m.\u001b[0m\u001b[0mtrain_function\u001b[0m\u001b[0;34m(\u001b[0m\u001b[0mins\u001b[0m\u001b[0;34m)\u001b[0m\u001b[0;34m\u001b[0m\u001b[0m\n\u001b[0m\u001b[1;32m   1763\u001b[0m         \u001b[0;32mif\u001b[0m \u001b[0mlen\u001b[0m\u001b[0;34m(\u001b[0m\u001b[0moutputs\u001b[0m\u001b[0;34m)\u001b[0m \u001b[0;34m==\u001b[0m \u001b[0;36m1\u001b[0m\u001b[0;34m:\u001b[0m\u001b[0;34m\u001b[0m\u001b[0m\n\u001b[1;32m   1764\u001b[0m             \u001b[0;32mreturn\u001b[0m \u001b[0moutputs\u001b[0m\u001b[0;34m[\u001b[0m\u001b[0;36m0\u001b[0m\u001b[0;34m]\u001b[0m\u001b[0;34m\u001b[0m\u001b[0m\n",
      "\u001b[0;32m/home/carnd/anaconda3/envs/dl/lib/python3.5/site-packages/keras/backend/tensorflow_backend.py\u001b[0m in \u001b[0;36m__call__\u001b[0;34m(self, inputs)\u001b[0m\n\u001b[1;32m   2271\u001b[0m         updated = session.run(self.outputs + [self.updates_op],\n\u001b[1;32m   2272\u001b[0m                               \u001b[0mfeed_dict\u001b[0m\u001b[0;34m=\u001b[0m\u001b[0mfeed_dict\u001b[0m\u001b[0;34m,\u001b[0m\u001b[0;34m\u001b[0m\u001b[0m\n\u001b[0;32m-> 2273\u001b[0;31m                               **self.session_kwargs)\n\u001b[0m\u001b[1;32m   2274\u001b[0m         \u001b[0;32mreturn\u001b[0m \u001b[0mupdated\u001b[0m\u001b[0;34m[\u001b[0m\u001b[0;34m:\u001b[0m\u001b[0mlen\u001b[0m\u001b[0;34m(\u001b[0m\u001b[0mself\u001b[0m\u001b[0;34m.\u001b[0m\u001b[0moutputs\u001b[0m\u001b[0;34m)\u001b[0m\u001b[0;34m]\u001b[0m\u001b[0;34m\u001b[0m\u001b[0m\n\u001b[1;32m   2275\u001b[0m \u001b[0;34m\u001b[0m\u001b[0m\n",
      "\u001b[0;32m/home/carnd/anaconda3/envs/dl/lib/python3.5/site-packages/tensorflow/python/client/session.py\u001b[0m in \u001b[0;36mrun\u001b[0;34m(self, fetches, feed_dict, options, run_metadata)\u001b[0m\n\u001b[1;32m    765\u001b[0m     \u001b[0;32mtry\u001b[0m\u001b[0;34m:\u001b[0m\u001b[0;34m\u001b[0m\u001b[0m\n\u001b[1;32m    766\u001b[0m       result = self._run(None, fetches, feed_dict, options_ptr,\n\u001b[0;32m--> 767\u001b[0;31m                          run_metadata_ptr)\n\u001b[0m\u001b[1;32m    768\u001b[0m       \u001b[0;32mif\u001b[0m \u001b[0mrun_metadata\u001b[0m\u001b[0;34m:\u001b[0m\u001b[0;34m\u001b[0m\u001b[0m\n\u001b[1;32m    769\u001b[0m         \u001b[0mproto_data\u001b[0m \u001b[0;34m=\u001b[0m \u001b[0mtf_session\u001b[0m\u001b[0;34m.\u001b[0m\u001b[0mTF_GetBuffer\u001b[0m\u001b[0;34m(\u001b[0m\u001b[0mrun_metadata_ptr\u001b[0m\u001b[0;34m)\u001b[0m\u001b[0;34m\u001b[0m\u001b[0m\n",
      "\u001b[0;32m/home/carnd/anaconda3/envs/dl/lib/python3.5/site-packages/tensorflow/python/client/session.py\u001b[0m in \u001b[0;36m_run\u001b[0;34m(self, handle, fetches, feed_dict, options, run_metadata)\u001b[0m\n\u001b[1;32m    963\u001b[0m     \u001b[0;32mif\u001b[0m \u001b[0mfinal_fetches\u001b[0m \u001b[0;32mor\u001b[0m \u001b[0mfinal_targets\u001b[0m\u001b[0;34m:\u001b[0m\u001b[0;34m\u001b[0m\u001b[0m\n\u001b[1;32m    964\u001b[0m       results = self._do_run(handle, final_targets, final_fetches,\n\u001b[0;32m--> 965\u001b[0;31m                              feed_dict_string, options, run_metadata)\n\u001b[0m\u001b[1;32m    966\u001b[0m     \u001b[0;32melse\u001b[0m\u001b[0;34m:\u001b[0m\u001b[0;34m\u001b[0m\u001b[0m\n\u001b[1;32m    967\u001b[0m       \u001b[0mresults\u001b[0m \u001b[0;34m=\u001b[0m \u001b[0;34m[\u001b[0m\u001b[0;34m]\u001b[0m\u001b[0;34m\u001b[0m\u001b[0m\n",
      "\u001b[0;32m/home/carnd/anaconda3/envs/dl/lib/python3.5/site-packages/tensorflow/python/client/session.py\u001b[0m in \u001b[0;36m_do_run\u001b[0;34m(self, handle, target_list, fetch_list, feed_dict, options, run_metadata)\u001b[0m\n\u001b[1;32m   1013\u001b[0m     \u001b[0;32mif\u001b[0m \u001b[0mhandle\u001b[0m \u001b[0;32mis\u001b[0m \u001b[0;32mNone\u001b[0m\u001b[0;34m:\u001b[0m\u001b[0;34m\u001b[0m\u001b[0m\n\u001b[1;32m   1014\u001b[0m       return self._do_call(_run_fn, self._session, feed_dict, fetch_list,\n\u001b[0;32m-> 1015\u001b[0;31m                            target_list, options, run_metadata)\n\u001b[0m\u001b[1;32m   1016\u001b[0m     \u001b[0;32melse\u001b[0m\u001b[0;34m:\u001b[0m\u001b[0;34m\u001b[0m\u001b[0m\n\u001b[1;32m   1017\u001b[0m       return self._do_call(_prun_fn, self._session, handle, feed_dict,\n",
      "\u001b[0;32m/home/carnd/anaconda3/envs/dl/lib/python3.5/site-packages/tensorflow/python/client/session.py\u001b[0m in \u001b[0;36m_do_call\u001b[0;34m(self, fn, *args)\u001b[0m\n\u001b[1;32m   1020\u001b[0m   \u001b[0;32mdef\u001b[0m \u001b[0m_do_call\u001b[0m\u001b[0;34m(\u001b[0m\u001b[0mself\u001b[0m\u001b[0;34m,\u001b[0m \u001b[0mfn\u001b[0m\u001b[0;34m,\u001b[0m \u001b[0;34m*\u001b[0m\u001b[0margs\u001b[0m\u001b[0;34m)\u001b[0m\u001b[0;34m:\u001b[0m\u001b[0;34m\u001b[0m\u001b[0m\n\u001b[1;32m   1021\u001b[0m     \u001b[0;32mtry\u001b[0m\u001b[0;34m:\u001b[0m\u001b[0;34m\u001b[0m\u001b[0m\n\u001b[0;32m-> 1022\u001b[0;31m       \u001b[0;32mreturn\u001b[0m \u001b[0mfn\u001b[0m\u001b[0;34m(\u001b[0m\u001b[0;34m*\u001b[0m\u001b[0margs\u001b[0m\u001b[0;34m)\u001b[0m\u001b[0;34m\u001b[0m\u001b[0m\n\u001b[0m\u001b[1;32m   1023\u001b[0m     \u001b[0;32mexcept\u001b[0m \u001b[0merrors\u001b[0m\u001b[0;34m.\u001b[0m\u001b[0mOpError\u001b[0m \u001b[0;32mas\u001b[0m \u001b[0me\u001b[0m\u001b[0;34m:\u001b[0m\u001b[0;34m\u001b[0m\u001b[0m\n\u001b[1;32m   1024\u001b[0m       \u001b[0mmessage\u001b[0m \u001b[0;34m=\u001b[0m \u001b[0mcompat\u001b[0m\u001b[0;34m.\u001b[0m\u001b[0mas_text\u001b[0m\u001b[0;34m(\u001b[0m\u001b[0me\u001b[0m\u001b[0;34m.\u001b[0m\u001b[0mmessage\u001b[0m\u001b[0;34m)\u001b[0m\u001b[0;34m\u001b[0m\u001b[0m\n",
      "\u001b[0;32m/home/carnd/anaconda3/envs/dl/lib/python3.5/site-packages/tensorflow/python/client/session.py\u001b[0m in \u001b[0;36m_run_fn\u001b[0;34m(session, feed_dict, fetch_list, target_list, options, run_metadata)\u001b[0m\n\u001b[1;32m   1002\u001b[0m         return tf_session.TF_Run(session, options,\n\u001b[1;32m   1003\u001b[0m                                  \u001b[0mfeed_dict\u001b[0m\u001b[0;34m,\u001b[0m \u001b[0mfetch_list\u001b[0m\u001b[0;34m,\u001b[0m \u001b[0mtarget_list\u001b[0m\u001b[0;34m,\u001b[0m\u001b[0;34m\u001b[0m\u001b[0m\n\u001b[0;32m-> 1004\u001b[0;31m                                  status, run_metadata)\n\u001b[0m\u001b[1;32m   1005\u001b[0m \u001b[0;34m\u001b[0m\u001b[0m\n\u001b[1;32m   1006\u001b[0m     \u001b[0;32mdef\u001b[0m \u001b[0m_prun_fn\u001b[0m\u001b[0;34m(\u001b[0m\u001b[0msession\u001b[0m\u001b[0;34m,\u001b[0m \u001b[0mhandle\u001b[0m\u001b[0;34m,\u001b[0m \u001b[0mfeed_dict\u001b[0m\u001b[0;34m,\u001b[0m \u001b[0mfetch_list\u001b[0m\u001b[0;34m)\u001b[0m\u001b[0;34m:\u001b[0m\u001b[0;34m\u001b[0m\u001b[0m\n",
      "\u001b[0;31mKeyboardInterrupt\u001b[0m: "
     ]
    }
   ],
   "source": [
    "model = cnn_model(flag_BN=True)\n",
    "# Compile and train the model\n",
    "\n",
    "\n",
    "\n",
    "model.compile(loss='categorical_crossentropy',\n",
    "              optimizer=Adam(),\n",
    "              metrics=['accuracy'])\n",
    "\n",
    "# Train again\n",
    "epochs = 1\n",
    "datagen = get_datagen()\n",
    "history = model.fit_generator(datagen.flow(X_train, y_train, batch_size=512),\n",
    "                    steps_per_epoch=X_train.shape[0],\n",
    "                              \n",
    "                    epochs=100,verbose=1,\n",
    "                    validation_data=(X_val, y_val)\n",
    "                    #callbacks=[LearningRateScheduler(lr_schedule),\n",
    "                    #           ModelCheckpoint('model.h5', save_best_only=True)]\n",
    "                    )"
   ]
  },
  {
   "cell_type": "markdown",
   "metadata": {},
   "source": [
    "# CNN with Batch Normalization and Spatial Transformer, No Data Augmentation"
   ]
  },
  {
   "cell_type": "markdown",
   "metadata": {},
   "source": [
    "## Spatial Transformer"
   ]
  },
  {
   "cell_type": "markdown",
   "metadata": {},
   "source": [
    "## Locnet"
   ]
  },
  {
   "cell_type": "markdown",
   "metadata": {},
   "source": [
    "## STN CNN Model with Batch Normalization"
   ]
  },
  {
   "cell_type": "code",
   "execution_count": 45,
   "metadata": {
    "collapsed": false
   },
   "outputs": [
    {
     "name": "stdout",
     "output_type": "stream",
     "text": [
      "<keras.models.Sequential object at 0x7faf4a37f780>\n",
      "_________________________________________________________________\n",
      "Layer (type)                 Output Shape              Param #   \n",
      "=================================================================\n",
      "spatial_transformer_8 (Spati (None, 32, 32, 1)         14896     \n",
      "_________________________________________________________________\n",
      "conv2d_49 (Conv2D)           (None, 32, 32, 32)        320       \n",
      "_________________________________________________________________\n",
      "batch_normalization_37 (Batc (None, 32, 32, 32)        128       \n",
      "_________________________________________________________________\n",
      "activation_50 (Activation)   (None, 32, 32, 32)        0         \n",
      "_________________________________________________________________\n",
      "max_pooling2d_49 (MaxPooling (None, 16, 16, 32)        0         \n",
      "_________________________________________________________________\n",
      "dropout_41 (Dropout)         (None, 16, 16, 32)        0         \n",
      "_________________________________________________________________\n",
      "conv2d_50 (Conv2D)           (None, 16, 16, 64)        18496     \n",
      "_________________________________________________________________\n",
      "batch_normalization_38 (Batc (None, 16, 16, 64)        256       \n",
      "_________________________________________________________________\n",
      "activation_51 (Activation)   (None, 16, 16, 64)        0         \n",
      "_________________________________________________________________\n",
      "max_pooling2d_50 (MaxPooling (None, 8, 8, 64)          0         \n",
      "_________________________________________________________________\n",
      "dropout_42 (Dropout)         (None, 8, 8, 64)          0         \n",
      "_________________________________________________________________\n",
      "conv2d_51 (Conv2D)           (None, 8, 8, 128)         73856     \n",
      "_________________________________________________________________\n",
      "batch_normalization_39 (Batc (None, 8, 8, 128)         512       \n",
      "_________________________________________________________________\n",
      "activation_52 (Activation)   (None, 8, 8, 128)         0         \n",
      "_________________________________________________________________\n",
      "max_pooling2d_51 (MaxPooling (None, 4, 4, 128)         0         \n",
      "_________________________________________________________________\n",
      "dropout_43 (Dropout)         (None, 4, 4, 128)         0         \n",
      "_________________________________________________________________\n",
      "flatten_20 (Flatten)         (None, 2048)              0         \n",
      "_________________________________________________________________\n",
      "dense_39 (Dense)             (None, 1024)              2098176   \n",
      "_________________________________________________________________\n",
      "batch_normalization_40 (Batc (None, 1024)              4096      \n",
      "_________________________________________________________________\n",
      "activation_53 (Activation)   (None, 1024)              0         \n",
      "_________________________________________________________________\n",
      "dropout_44 (Dropout)         (None, 1024)              0         \n",
      "_________________________________________________________________\n",
      "dense_40 (Dense)             (None, 43)                44075     \n",
      "=================================================================\n",
      "Total params: 2,254,811\n",
      "Trainable params: 2,252,315\n",
      "Non-trainable params: 2,496\n",
      "_________________________________________________________________\n"
     ]
    },
    {
     "name": "stderr",
     "output_type": "stream",
     "text": [
      "/home/carnd/anaconda3/envs/dl/lib/python3.5/site-packages/keras/models.py:848: UserWarning: The `nb_epoch` argument in `fit` has been renamed `epochs`.\n",
      "  warnings.warn('The `nb_epoch` argument in `fit` '\n"
     ]
    },
    {
     "name": "stdout",
     "output_type": "stream",
     "text": [
      "Train on 34799 samples, validate on 4410 samples\n",
      "Epoch 1/100\n",
      "34799/34799 [==============================] - 17s - loss: 2.3574 - acc: 0.3822 - val_loss: 3.7336 - val_acc: 0.0476\n",
      "Epoch 2/100\n",
      "34799/34799 [==============================] - 16s - loss: 0.5972 - acc: 0.8214 - val_loss: 3.7187 - val_acc: 0.1150\n",
      "Epoch 3/100\n",
      "34799/34799 [==============================] - 16s - loss: 0.2590 - acc: 0.9248 - val_loss: 3.9177 - val_acc: 0.1032\n",
      "Epoch 4/100\n",
      "34799/34799 [==============================] - 16s - loss: 0.1536 - acc: 0.9575 - val_loss: 2.7077 - val_acc: 0.2912\n",
      "Epoch 5/100\n",
      "34799/34799 [==============================] - 16s - loss: 0.1095 - acc: 0.9706 - val_loss: 1.5999 - val_acc: 0.5544\n",
      "Epoch 6/100\n",
      "34799/34799 [==============================] - 16s - loss: 0.0788 - acc: 0.9777 - val_loss: 1.2531 - val_acc: 0.6392\n",
      "Epoch 7/100\n",
      "34799/34799 [==============================] - 16s - loss: 0.0597 - acc: 0.9840 - val_loss: 0.7405 - val_acc: 0.7866\n",
      "Epoch 8/100\n",
      "34799/34799 [==============================] - 16s - loss: 0.0493 - acc: 0.9867 - val_loss: 0.3905 - val_acc: 0.8812\n",
      "Epoch 9/100\n",
      "34799/34799 [==============================] - 16s - loss: 0.0400 - acc: 0.9890 - val_loss: 0.2375 - val_acc: 0.9224\n",
      "Epoch 10/100\n",
      "34799/34799 [==============================] - 16s - loss: 0.0354 - acc: 0.9902 - val_loss: 0.1990 - val_acc: 0.9392\n",
      "Epoch 11/100\n",
      "34799/34799 [==============================] - 16s - loss: 0.0288 - acc: 0.9925 - val_loss: 0.1882 - val_acc: 0.9444\n",
      "Epoch 12/100\n",
      "34799/34799 [==============================] - 16s - loss: 0.0266 - acc: 0.9933 - val_loss: 0.2467 - val_acc: 0.9290\n",
      "Epoch 13/100\n",
      "34799/34799 [==============================] - 16s - loss: 0.0225 - acc: 0.9934 - val_loss: 0.4191 - val_acc: 0.8732\n",
      "Epoch 14/100\n",
      "34799/34799 [==============================] - 16s - loss: 0.0190 - acc: 0.9949 - val_loss: 0.3069 - val_acc: 0.9120\n",
      "Epoch 15/100\n",
      "34799/34799 [==============================] - 16s - loss: 0.0172 - acc: 0.9955 - val_loss: 0.2276 - val_acc: 0.9358\n",
      "Epoch 16/100\n",
      "34799/34799 [==============================] - 16s - loss: 0.0135 - acc: 0.9968 - val_loss: 0.1889 - val_acc: 0.9442\n",
      "Epoch 17/100\n",
      "34799/34799 [==============================] - 16s - loss: 0.0131 - acc: 0.9964 - val_loss: 0.2132 - val_acc: 0.9383\n",
      "Epoch 18/100\n",
      "34799/34799 [==============================] - 16s - loss: 0.0136 - acc: 0.9961 - val_loss: 0.3416 - val_acc: 0.9138\n",
      "Epoch 19/100\n",
      "34799/34799 [==============================] - 16s - loss: 0.0120 - acc: 0.9968 - val_loss: 0.2995 - val_acc: 0.9170\n",
      "Epoch 20/100\n",
      "34799/34799 [==============================] - 16s - loss: 0.0119 - acc: 0.9966 - val_loss: 0.3837 - val_acc: 0.8812\n",
      "Epoch 21/100\n",
      "34799/34799 [==============================] - 16s - loss: 0.0102 - acc: 0.9972 - val_loss: 0.1968 - val_acc: 0.9395\n",
      "Epoch 22/100\n",
      "34799/34799 [==============================] - 16s - loss: 0.0091 - acc: 0.9974 - val_loss: 0.1499 - val_acc: 0.9580\n",
      "Epoch 23/100\n",
      "34799/34799 [==============================] - 16s - loss: 0.0089 - acc: 0.9977 - val_loss: 0.1243 - val_acc: 0.9655\n",
      "Epoch 24/100\n",
      "34799/34799 [==============================] - 16s - loss: 0.0076 - acc: 0.9980 - val_loss: 0.1241 - val_acc: 0.9637\n",
      "Epoch 25/100\n",
      "34799/34799 [==============================] - 16s - loss: 0.0062 - acc: 0.9987 - val_loss: 0.1219 - val_acc: 0.9653\n",
      "Epoch 26/100\n",
      "34799/34799 [==============================] - 16s - loss: 0.0068 - acc: 0.9982 - val_loss: 0.1221 - val_acc: 0.9689\n",
      "Epoch 27/100\n",
      "34799/34799 [==============================] - 16s - loss: 0.0073 - acc: 0.9978 - val_loss: 0.2322 - val_acc: 0.9397\n",
      "Epoch 28/100\n",
      "34799/34799 [==============================] - 16s - loss: 0.0080 - acc: 0.9976 - val_loss: 0.1515 - val_acc: 0.9567\n",
      "Epoch 29/100\n",
      "34799/34799 [==============================] - 16s - loss: 0.0071 - acc: 0.9982 - val_loss: 0.1778 - val_acc: 0.9429\n",
      "Epoch 30/100\n",
      "34799/34799 [==============================] - 16s - loss: 0.0069 - acc: 0.9983 - val_loss: 0.2493 - val_acc: 0.9243\n",
      "Epoch 31/100\n",
      "34799/34799 [==============================] - 16s - loss: 0.0073 - acc: 0.9980 - val_loss: 0.1847 - val_acc: 0.9424\n",
      "Epoch 32/100\n",
      "34799/34799 [==============================] - 16s - loss: 0.0063 - acc: 0.9983 - val_loss: 0.1492 - val_acc: 0.9565\n",
      "Epoch 33/100\n",
      "34799/34799 [==============================] - 16s - loss: 0.0055 - acc: 0.9986 - val_loss: 0.1422 - val_acc: 0.9605\n",
      "Epoch 34/100\n",
      "34799/34799 [==============================] - 16s - loss: 0.0050 - acc: 0.9986 - val_loss: 0.1120 - val_acc: 0.9644\n",
      "Epoch 35/100\n",
      "34799/34799 [==============================] - 16s - loss: 0.0068 - acc: 0.9979 - val_loss: 0.1493 - val_acc: 0.9610\n",
      "Epoch 36/100\n",
      "34799/34799 [==============================] - 16s - loss: 0.0061 - acc: 0.9982 - val_loss: 0.2225 - val_acc: 0.9347\n",
      "Epoch 37/100\n",
      "34799/34799 [==============================] - 16s - loss: 0.0043 - acc: 0.9986 - val_loss: 0.1339 - val_acc: 0.9601\n",
      "Epoch 38/100\n",
      "34799/34799 [==============================] - 16s - loss: 0.0035 - acc: 0.9989 - val_loss: 0.1284 - val_acc: 0.9683\n",
      "Epoch 39/100\n",
      "34799/34799 [==============================] - 16s - loss: 0.0045 - acc: 0.9988 - val_loss: 0.1390 - val_acc: 0.9646\n",
      "Epoch 40/100\n",
      "34799/34799 [==============================] - 16s - loss: 0.0039 - acc: 0.9988 - val_loss: 0.1843 - val_acc: 0.9567\n",
      "Epoch 41/100\n",
      "34799/34799 [==============================] - 16s - loss: 0.0037 - acc: 0.9990 - val_loss: 0.1512 - val_acc: 0.9626\n",
      "Epoch 42/100\n",
      "34799/34799 [==============================] - 16s - loss: 0.0032 - acc: 0.9990 - val_loss: 0.1040 - val_acc: 0.9744\n",
      "Epoch 43/100\n",
      "34799/34799 [==============================] - 16s - loss: 0.0041 - acc: 0.9988 - val_loss: 0.1328 - val_acc: 0.9667\n",
      "Epoch 44/100\n",
      "34799/34799 [==============================] - 16s - loss: 0.0048 - acc: 0.9987 - val_loss: 0.1149 - val_acc: 0.9669\n",
      "Epoch 45/100\n",
      "34799/34799 [==============================] - 16s - loss: 0.0052 - acc: 0.9984 - val_loss: 0.2312 - val_acc: 0.9385\n",
      "Epoch 46/100\n",
      "34799/34799 [==============================] - 16s - loss: 0.0050 - acc: 0.9985 - val_loss: 0.1837 - val_acc: 0.9558\n",
      "Epoch 47/100\n",
      "34799/34799 [==============================] - 16s - loss: 0.0046 - acc: 0.9988 - val_loss: 0.3949 - val_acc: 0.8955\n",
      "Epoch 48/100\n",
      "34799/34799 [==============================] - 16s - loss: 0.0044 - acc: 0.9988 - val_loss: 0.2165 - val_acc: 0.9540\n",
      "Epoch 49/100\n",
      "34799/34799 [==============================] - 16s - loss: 0.0054 - acc: 0.9982 - val_loss: 0.1315 - val_acc: 0.9680\n",
      "Epoch 50/100\n",
      "34799/34799 [==============================] - 16s - loss: 0.0053 - acc: 0.9986 - val_loss: 0.1239 - val_acc: 0.9680\n",
      "Epoch 51/100\n",
      "34799/34799 [==============================] - 16s - loss: 0.0047 - acc: 0.9985 - val_loss: 0.1991 - val_acc: 0.9447\n",
      "Epoch 52/100\n",
      "34799/34799 [==============================] - 16s - loss: 0.0048 - acc: 0.9985 - val_loss: 0.1387 - val_acc: 0.9553\n",
      "Epoch 53/100\n",
      "34799/34799 [==============================] - 16s - loss: 0.0049 - acc: 0.9985 - val_loss: 0.1180 - val_acc: 0.9669\n",
      "Epoch 54/100\n",
      "34799/34799 [==============================] - 16s - loss: 0.0039 - acc: 0.9988 - val_loss: 0.1132 - val_acc: 0.9644\n",
      "Epoch 55/100\n",
      "34799/34799 [==============================] - 16s - loss: 0.0054 - acc: 0.9985 - val_loss: 0.1633 - val_acc: 0.9619\n",
      "Epoch 56/100\n",
      "34799/34799 [==============================] - 16s - loss: 0.0046 - acc: 0.9985 - val_loss: 0.1266 - val_acc: 0.9712\n",
      "Epoch 57/100\n",
      "34799/34799 [==============================] - 16s - loss: 0.0030 - acc: 0.9991 - val_loss: 0.1545 - val_acc: 0.9615\n",
      "Epoch 58/100\n",
      "34799/34799 [==============================] - 16s - loss: 0.0040 - acc: 0.9988 - val_loss: 0.1290 - val_acc: 0.9664\n",
      "Epoch 59/100\n",
      "34799/34799 [==============================] - 16s - loss: 0.0039 - acc: 0.9988 - val_loss: 0.3458 - val_acc: 0.9075\n",
      "Epoch 60/100\n",
      "34799/34799 [==============================] - 16s - loss: 0.0031 - acc: 0.9992 - val_loss: 0.1792 - val_acc: 0.9546\n",
      "Epoch 61/100\n",
      "34799/34799 [==============================] - 16s - loss: 0.0056 - acc: 0.9979 - val_loss: 0.1588 - val_acc: 0.9590\n",
      "Epoch 62/100\n",
      "34799/34799 [==============================] - 16s - loss: 0.0034 - acc: 0.9990 - val_loss: 0.1678 - val_acc: 0.9644\n",
      "Epoch 63/100\n",
      "34799/34799 [==============================] - 16s - loss: 0.0033 - acc: 0.9989 - val_loss: 0.1707 - val_acc: 0.9587\n",
      "Epoch 64/100\n",
      "34799/34799 [==============================] - 16s - loss: 0.0040 - acc: 0.9987 - val_loss: 0.1309 - val_acc: 0.9664\n",
      "Epoch 65/100\n",
      "34799/34799 [==============================] - 16s - loss: 0.0044 - acc: 0.9985 - val_loss: 0.2570 - val_acc: 0.9406\n",
      "Epoch 66/100\n",
      "34799/34799 [==============================] - 16s - loss: 0.0060 - acc: 0.9980 - val_loss: 0.2094 - val_acc: 0.9467\n",
      "Epoch 67/100\n",
      "34799/34799 [==============================] - 16s - loss: 0.0080 - acc: 0.9975 - val_loss: 0.3029 - val_acc: 0.9254\n",
      "Epoch 68/100\n",
      "34799/34799 [==============================] - 16s - loss: 0.0065 - acc: 0.9980 - val_loss: 0.1923 - val_acc: 0.9603\n",
      "Epoch 69/100\n",
      "34799/34799 [==============================] - 16s - loss: 0.0052 - acc: 0.9984 - val_loss: 0.1998 - val_acc: 0.9531\n",
      "Epoch 70/100\n",
      "34799/34799 [==============================] - 16s - loss: 0.0044 - acc: 0.9986 - val_loss: 0.1537 - val_acc: 0.9717\n",
      "Epoch 71/100\n",
      "34799/34799 [==============================] - 16s - loss: 0.0034 - acc: 0.9990 - val_loss: 0.1660 - val_acc: 0.9671\n",
      "Epoch 72/100\n",
      "34799/34799 [==============================] - 16s - loss: 0.0020 - acc: 0.9995 - val_loss: 0.1498 - val_acc: 0.9676\n",
      "Epoch 73/100\n",
      "34799/34799 [==============================] - 16s - loss: 0.0025 - acc: 0.9992 - val_loss: 0.1472 - val_acc: 0.9655\n",
      "Epoch 74/100\n",
      "34799/34799 [==============================] - 16s - loss: 0.0039 - acc: 0.9986 - val_loss: 0.2007 - val_acc: 0.9556\n",
      "Epoch 75/100\n",
      "34799/34799 [==============================] - 16s - loss: 0.0038 - acc: 0.9989 - val_loss: 0.1410 - val_acc: 0.9748\n",
      "Epoch 76/100\n",
      "34799/34799 [==============================] - 16s - loss: 0.0058 - acc: 0.9981 - val_loss: 0.1833 - val_acc: 0.9637\n",
      "Epoch 77/100\n",
      "34799/34799 [==============================] - 16s - loss: 0.0056 - acc: 0.9979 - val_loss: 0.1155 - val_acc: 0.9678\n",
      "Epoch 78/100\n",
      "34799/34799 [==============================] - 16s - loss: 0.0039 - acc: 0.9986 - val_loss: 0.3870 - val_acc: 0.8984\n",
      "Epoch 79/100\n",
      "34799/34799 [==============================] - 16s - loss: 0.0036 - acc: 0.9988 - val_loss: 0.2519 - val_acc: 0.9279\n",
      "Epoch 80/100\n",
      "34799/34799 [==============================] - 16s - loss: 0.0037 - acc: 0.9989 - val_loss: 0.1863 - val_acc: 0.9501\n",
      "Epoch 81/100\n",
      "34799/34799 [==============================] - 16s - loss: 0.0027 - acc: 0.9992 - val_loss: 0.1572 - val_acc: 0.9574\n",
      "Epoch 82/100\n",
      "34799/34799 [==============================] - 16s - loss: 0.0015 - acc: 0.9995 - val_loss: 0.1206 - val_acc: 0.9701\n",
      "Epoch 83/100\n",
      "34799/34799 [==============================] - 16s - loss: 0.0025 - acc: 0.9993 - val_loss: 0.1704 - val_acc: 0.9551\n",
      "Epoch 84/100\n",
      "34799/34799 [==============================] - 16s - loss: 0.0026 - acc: 0.9991 - val_loss: 0.1128 - val_acc: 0.9678\n",
      "Epoch 85/100\n",
      "34799/34799 [==============================] - 16s - loss: 0.0022 - acc: 0.9994 - val_loss: 0.0870 - val_acc: 0.9748\n",
      "Epoch 86/100\n",
      "34799/34799 [==============================] - 16s - loss: 0.0020 - acc: 0.9995 - val_loss: 0.1080 - val_acc: 0.9714\n",
      "Epoch 87/100\n",
      "34799/34799 [==============================] - 16s - loss: 0.0026 - acc: 0.9991 - val_loss: 0.1464 - val_acc: 0.9615\n",
      "Epoch 88/100\n",
      "34799/34799 [==============================] - 16s - loss: 0.0030 - acc: 0.9989 - val_loss: 0.1498 - val_acc: 0.9592\n",
      "Epoch 89/100\n",
      "34799/34799 [==============================] - 16s - loss: 0.0029 - acc: 0.9991 - val_loss: 0.0906 - val_acc: 0.9787\n",
      "Epoch 90/100\n",
      "34799/34799 [==============================] - 16s - loss: 0.0027 - acc: 0.9992 - val_loss: 0.1461 - val_acc: 0.9685\n",
      "Epoch 91/100\n",
      "34799/34799 [==============================] - 16s - loss: 0.0028 - acc: 0.9991 - val_loss: 0.1836 - val_acc: 0.9610\n",
      "Epoch 92/100\n",
      "34799/34799 [==============================] - 16s - loss: 0.0013 - acc: 0.9996 - val_loss: 0.1521 - val_acc: 0.9680\n",
      "Epoch 93/100\n",
      "34799/34799 [==============================] - 16s - loss: 0.0036 - acc: 0.9988 - val_loss: 0.1579 - val_acc: 0.9655\n",
      "Epoch 94/100\n",
      "34799/34799 [==============================] - 16s - loss: 0.0028 - acc: 0.9992 - val_loss: 0.1382 - val_acc: 0.9757\n",
      "Epoch 95/100\n",
      "34799/34799 [==============================] - 16s - loss: 0.0021 - acc: 0.9994 - val_loss: 0.1604 - val_acc: 0.9660\n",
      "Epoch 96/100\n",
      "34799/34799 [==============================] - 16s - loss: 0.0036 - acc: 0.9989 - val_loss: 0.4242 - val_acc: 0.9002\n",
      "Epoch 97/100\n",
      "34799/34799 [==============================] - 16s - loss: 0.0056 - acc: 0.9983 - val_loss: 0.1410 - val_acc: 0.9703\n",
      "Epoch 98/100\n",
      "34799/34799 [==============================] - 16s - loss: 0.0053 - acc: 0.9983 - val_loss: 0.1814 - val_acc: 0.9594\n",
      "Epoch 99/100\n",
      "34799/34799 [==============================] - 16s - loss: 0.0056 - acc: 0.9983 - val_loss: 0.1497 - val_acc: 0.9658\n",
      "Epoch 100/100\n",
      "34799/34799 [==============================] - 16s - loss: 0.0025 - acc: 0.9990 - val_loss: 0.1737 - val_acc: 0.9610\n"
     ]
    }
   ],
   "source": [
    "\n",
    "\n",
    "model = cnn_model(flag_BN=True,flag_STN=True)\n",
    "\n",
    "# Compile and train the model\n",
    "model.compile(loss='categorical_crossentropy',\n",
    "              optimizer=Adam(),\n",
    "              metrics=['accuracy'])\n",
    "\n",
    "history = model.fit(X_train, y_train,\n",
    "                    batch_size=512, nb_epoch=100\n",
    "                    ,\n",
    "                    verbose=1, validation_data=(X_val, y_val))"
   ]
  },
  {
   "cell_type": "code",
   "execution_count": 46,
   "metadata": {
    "collapsed": false,
    "scrolled": false
   },
   "outputs": [
    {
     "name": "stdout",
     "output_type": "stream",
     "text": [
      "12608/12630 [============================>.] - ETA: 0s"
     ]
    },
    {
     "data": {
      "text/plain": [
       "[0.18702008974689474, 0.95566112438271378]"
      ]
     },
     "execution_count": 46,
     "metadata": {},
     "output_type": "execute_result"
    }
   ],
   "source": [
    "model.save('models/STN_BN_CNN.ckpt')\n",
    "model.evaluate(X_test,y_test)"
   ]
  },
  {
   "cell_type": "markdown",
   "metadata": {},
   "source": [
    "# CNN with STN, Batch Normalization and Data Augmentation"
   ]
  },
  {
   "cell_type": "code",
   "execution_count": 59,
   "metadata": {
    "collapsed": false
   },
   "outputs": [
    {
     "name": "stdout",
     "output_type": "stream",
     "text": [
      "<keras.models.Sequential object at 0x7faf49030080>\n",
      "_________________________________________________________________\n",
      "Layer (type)                 Output Shape              Param #   \n",
      "=================================================================\n",
      "spatial_transformer_11 (Spat (None, 32, 32, 1)         14896     \n",
      "_________________________________________________________________\n",
      "conv2d_70 (Conv2D)           (None, 32, 32, 32)        320       \n",
      "_________________________________________________________________\n",
      "batch_normalization_49 (Batc (None, 32, 32, 32)        128       \n",
      "_________________________________________________________________\n",
      "leaky_re_lu_12 (LeakyReLU)   (None, 32, 32, 32)        0         \n",
      "_________________________________________________________________\n",
      "max_pooling2d_70 (MaxPooling (None, 16, 16, 32)        0         \n",
      "_________________________________________________________________\n",
      "dropout_53 (Dropout)         (None, 16, 16, 32)        0         \n",
      "_________________________________________________________________\n",
      "conv2d_71 (Conv2D)           (None, 16, 16, 64)        18496     \n",
      "_________________________________________________________________\n",
      "batch_normalization_50 (Batc (None, 16, 16, 64)        256       \n",
      "_________________________________________________________________\n",
      "leaky_re_lu_13 (LeakyReLU)   (None, 16, 16, 64)        0         \n",
      "_________________________________________________________________\n",
      "max_pooling2d_71 (MaxPooling (None, 8, 8, 64)          0         \n",
      "_________________________________________________________________\n",
      "dropout_54 (Dropout)         (None, 8, 8, 64)          0         \n",
      "_________________________________________________________________\n",
      "conv2d_72 (Conv2D)           (None, 8, 8, 128)         73856     \n",
      "_________________________________________________________________\n",
      "batch_normalization_51 (Batc (None, 8, 8, 128)         512       \n",
      "_________________________________________________________________\n",
      "leaky_re_lu_14 (LeakyReLU)   (None, 8, 8, 128)         0         \n",
      "_________________________________________________________________\n",
      "max_pooling2d_72 (MaxPooling (None, 4, 4, 128)         0         \n",
      "_________________________________________________________________\n",
      "dropout_55 (Dropout)         (None, 4, 4, 128)         0         \n",
      "_________________________________________________________________\n",
      "flatten_29 (Flatten)         (None, 2048)              0         \n",
      "_________________________________________________________________\n",
      "dense_54 (Dense)             (None, 1024)              2098176   \n",
      "_________________________________________________________________\n",
      "batch_normalization_52 (Batc (None, 1024)              4096      \n",
      "_________________________________________________________________\n",
      "leaky_re_lu_15 (LeakyReLU)   (None, 1024)              0         \n",
      "_________________________________________________________________\n",
      "dropout_56 (Dropout)         (None, 1024)              0         \n",
      "_________________________________________________________________\n",
      "dense_55 (Dense)             (None, 43)                44075     \n",
      "=================================================================\n",
      "Total params: 2,254,811\n",
      "Trainable params: 2,252,315\n",
      "Non-trainable params: 2,496\n",
      "_________________________________________________________________\n",
      "Epoch 1/100\n",
      "34799/34799 [==============================] - 8747s - loss: 0.0677 - acc: 0.9806 - val_loss: 0.0849 - val_acc: 0.9868\n",
      "Epoch 2/100\n",
      "34799/34799 [==============================] - 8764s - loss: 0.0282 - acc: 0.9919 - val_loss: 0.0689 - val_acc: 0.9880\n",
      "Epoch 3/100\n",
      "34799/34799 [==============================] - 8764s - loss: 0.0233 - acc: 0.9933 - val_loss: 0.0683 - val_acc: 0.9882\n",
      "Epoch 4/100\n",
      "11545/34799 [========>.....................] - ETA: 5856s - loss: 0.0214 - acc: 0.9939"
     ]
    },
    {
     "ename": "KeyboardInterrupt",
     "evalue": "",
     "output_type": "error",
     "traceback": [
      "\u001b[0;31m---------------------------------------------------------------------------\u001b[0m",
      "\u001b[0;31mKeyboardInterrupt\u001b[0m                         Traceback (most recent call last)",
      "\u001b[0;32m<ipython-input-59-a5afccb7885c>\u001b[0m in \u001b[0;36m<module>\u001b[0;34m()\u001b[0m\n\u001b[1;32m     11\u001b[0m                     \u001b[0msteps_per_epoch\u001b[0m\u001b[0;34m=\u001b[0m\u001b[0mX_train\u001b[0m\u001b[0;34m.\u001b[0m\u001b[0mshape\u001b[0m\u001b[0;34m[\u001b[0m\u001b[0;36m0\u001b[0m\u001b[0;34m]\u001b[0m\u001b[0;34m,\u001b[0m\u001b[0;34m\u001b[0m\u001b[0m\n\u001b[1;32m     12\u001b[0m                     \u001b[0mepochs\u001b[0m\u001b[0;34m=\u001b[0m\u001b[0;36m100\u001b[0m\u001b[0;34m,\u001b[0m\u001b[0mverbose\u001b[0m\u001b[0;34m=\u001b[0m\u001b[0;36m1\u001b[0m\u001b[0;34m,\u001b[0m\u001b[0;34m\u001b[0m\u001b[0m\n\u001b[0;32m---> 13\u001b[0;31m                     \u001b[0mvalidation_data\u001b[0m\u001b[0;34m=\u001b[0m\u001b[0;34m(\u001b[0m\u001b[0mX_val\u001b[0m\u001b[0;34m,\u001b[0m \u001b[0my_val\u001b[0m\u001b[0;34m)\u001b[0m\u001b[0;34m\u001b[0m\u001b[0m\n\u001b[0m\u001b[1;32m     14\u001b[0m                     \u001b[0;31m#callbacks=[LearningRateScheduler(lr_schedule),\u001b[0m\u001b[0;34m\u001b[0m\u001b[0;34m\u001b[0m\u001b[0m\n\u001b[1;32m     15\u001b[0m                     \u001b[0;31m#           ModelCheckpoint('model.h5', save_best_only=True)]\u001b[0m\u001b[0;34m\u001b[0m\u001b[0;34m\u001b[0m\u001b[0m\n",
      "\u001b[0;32m/home/carnd/anaconda3/envs/dl/lib/python3.5/site-packages/keras/legacy/interfaces.py\u001b[0m in \u001b[0;36mwrapper\u001b[0;34m(*args, **kwargs)\u001b[0m\n\u001b[1;32m     85\u001b[0m                 warnings.warn('Update your `' + object_name +\n\u001b[1;32m     86\u001b[0m                               '` call to the Keras 2 API: ' + signature, stacklevel=2)\n\u001b[0;32m---> 87\u001b[0;31m             \u001b[0;32mreturn\u001b[0m \u001b[0mfunc\u001b[0m\u001b[0;34m(\u001b[0m\u001b[0;34m*\u001b[0m\u001b[0margs\u001b[0m\u001b[0;34m,\u001b[0m \u001b[0;34m**\u001b[0m\u001b[0mkwargs\u001b[0m\u001b[0;34m)\u001b[0m\u001b[0;34m\u001b[0m\u001b[0m\n\u001b[0m\u001b[1;32m     88\u001b[0m         \u001b[0mwrapper\u001b[0m\u001b[0;34m.\u001b[0m\u001b[0m_original_function\u001b[0m \u001b[0;34m=\u001b[0m \u001b[0mfunc\u001b[0m\u001b[0;34m\u001b[0m\u001b[0m\n\u001b[1;32m     89\u001b[0m         \u001b[0;32mreturn\u001b[0m \u001b[0mwrapper\u001b[0m\u001b[0;34m\u001b[0m\u001b[0m\n",
      "\u001b[0;32m/home/carnd/anaconda3/envs/dl/lib/python3.5/site-packages/keras/models.py\u001b[0m in \u001b[0;36mfit_generator\u001b[0;34m(self, generator, steps_per_epoch, epochs, verbose, callbacks, validation_data, validation_steps, class_weight, max_queue_size, workers, use_multiprocessing, initial_epoch)\u001b[0m\n\u001b[1;32m   1119\u001b[0m                                         \u001b[0mworkers\u001b[0m\u001b[0;34m=\u001b[0m\u001b[0mworkers\u001b[0m\u001b[0;34m,\u001b[0m\u001b[0;34m\u001b[0m\u001b[0m\n\u001b[1;32m   1120\u001b[0m                                         \u001b[0muse_multiprocessing\u001b[0m\u001b[0;34m=\u001b[0m\u001b[0muse_multiprocessing\u001b[0m\u001b[0;34m,\u001b[0m\u001b[0;34m\u001b[0m\u001b[0m\n\u001b[0;32m-> 1121\u001b[0;31m                                         initial_epoch=initial_epoch)\n\u001b[0m\u001b[1;32m   1122\u001b[0m \u001b[0;34m\u001b[0m\u001b[0m\n\u001b[1;32m   1123\u001b[0m     \u001b[0;34m@\u001b[0m\u001b[0minterfaces\u001b[0m\u001b[0;34m.\u001b[0m\u001b[0mlegacy_generator_methods_support\u001b[0m\u001b[0;34m\u001b[0m\u001b[0m\n",
      "\u001b[0;32m/home/carnd/anaconda3/envs/dl/lib/python3.5/site-packages/keras/legacy/interfaces.py\u001b[0m in \u001b[0;36mwrapper\u001b[0;34m(*args, **kwargs)\u001b[0m\n\u001b[1;32m     85\u001b[0m                 warnings.warn('Update your `' + object_name +\n\u001b[1;32m     86\u001b[0m                               '` call to the Keras 2 API: ' + signature, stacklevel=2)\n\u001b[0;32m---> 87\u001b[0;31m             \u001b[0;32mreturn\u001b[0m \u001b[0mfunc\u001b[0m\u001b[0;34m(\u001b[0m\u001b[0;34m*\u001b[0m\u001b[0margs\u001b[0m\u001b[0;34m,\u001b[0m \u001b[0;34m**\u001b[0m\u001b[0mkwargs\u001b[0m\u001b[0;34m)\u001b[0m\u001b[0;34m\u001b[0m\u001b[0m\n\u001b[0m\u001b[1;32m     88\u001b[0m         \u001b[0mwrapper\u001b[0m\u001b[0;34m.\u001b[0m\u001b[0m_original_function\u001b[0m \u001b[0;34m=\u001b[0m \u001b[0mfunc\u001b[0m\u001b[0;34m\u001b[0m\u001b[0m\n\u001b[1;32m     89\u001b[0m         \u001b[0;32mreturn\u001b[0m \u001b[0mwrapper\u001b[0m\u001b[0;34m\u001b[0m\u001b[0m\n",
      "\u001b[0;32m/home/carnd/anaconda3/envs/dl/lib/python3.5/site-packages/keras/engine/training.py\u001b[0m in \u001b[0;36mfit_generator\u001b[0;34m(self, generator, steps_per_epoch, epochs, verbose, callbacks, validation_data, validation_steps, class_weight, max_queue_size, workers, use_multiprocessing, shuffle, initial_epoch)\u001b[0m\n\u001b[1;32m   2040\u001b[0m                     outs = self.train_on_batch(x, y,\n\u001b[1;32m   2041\u001b[0m                                                \u001b[0msample_weight\u001b[0m\u001b[0;34m=\u001b[0m\u001b[0msample_weight\u001b[0m\u001b[0;34m,\u001b[0m\u001b[0;34m\u001b[0m\u001b[0m\n\u001b[0;32m-> 2042\u001b[0;31m                                                class_weight=class_weight)\n\u001b[0m\u001b[1;32m   2043\u001b[0m \u001b[0;34m\u001b[0m\u001b[0m\n\u001b[1;32m   2044\u001b[0m                     \u001b[0;32mif\u001b[0m \u001b[0;32mnot\u001b[0m \u001b[0misinstance\u001b[0m\u001b[0;34m(\u001b[0m\u001b[0mouts\u001b[0m\u001b[0;34m,\u001b[0m \u001b[0mlist\u001b[0m\u001b[0;34m)\u001b[0m\u001b[0;34m:\u001b[0m\u001b[0;34m\u001b[0m\u001b[0m\n",
      "\u001b[0;32m/home/carnd/anaconda3/envs/dl/lib/python3.5/site-packages/keras/engine/training.py\u001b[0m in \u001b[0;36mtrain_on_batch\u001b[0;34m(self, x, y, sample_weight, class_weight)\u001b[0m\n\u001b[1;32m   1760\u001b[0m             \u001b[0mins\u001b[0m \u001b[0;34m=\u001b[0m \u001b[0mx\u001b[0m \u001b[0;34m+\u001b[0m \u001b[0my\u001b[0m \u001b[0;34m+\u001b[0m \u001b[0msample_weights\u001b[0m\u001b[0;34m\u001b[0m\u001b[0m\n\u001b[1;32m   1761\u001b[0m         \u001b[0mself\u001b[0m\u001b[0;34m.\u001b[0m\u001b[0m_make_train_function\u001b[0m\u001b[0;34m(\u001b[0m\u001b[0;34m)\u001b[0m\u001b[0;34m\u001b[0m\u001b[0m\n\u001b[0;32m-> 1762\u001b[0;31m         \u001b[0moutputs\u001b[0m \u001b[0;34m=\u001b[0m \u001b[0mself\u001b[0m\u001b[0;34m.\u001b[0m\u001b[0mtrain_function\u001b[0m\u001b[0;34m(\u001b[0m\u001b[0mins\u001b[0m\u001b[0;34m)\u001b[0m\u001b[0;34m\u001b[0m\u001b[0m\n\u001b[0m\u001b[1;32m   1763\u001b[0m         \u001b[0;32mif\u001b[0m \u001b[0mlen\u001b[0m\u001b[0;34m(\u001b[0m\u001b[0moutputs\u001b[0m\u001b[0;34m)\u001b[0m \u001b[0;34m==\u001b[0m \u001b[0;36m1\u001b[0m\u001b[0;34m:\u001b[0m\u001b[0;34m\u001b[0m\u001b[0m\n\u001b[1;32m   1764\u001b[0m             \u001b[0;32mreturn\u001b[0m \u001b[0moutputs\u001b[0m\u001b[0;34m[\u001b[0m\u001b[0;36m0\u001b[0m\u001b[0;34m]\u001b[0m\u001b[0;34m\u001b[0m\u001b[0m\n",
      "\u001b[0;32m/home/carnd/anaconda3/envs/dl/lib/python3.5/site-packages/keras/backend/tensorflow_backend.py\u001b[0m in \u001b[0;36m__call__\u001b[0;34m(self, inputs)\u001b[0m\n\u001b[1;32m   2271\u001b[0m         updated = session.run(self.outputs + [self.updates_op],\n\u001b[1;32m   2272\u001b[0m                               \u001b[0mfeed_dict\u001b[0m\u001b[0;34m=\u001b[0m\u001b[0mfeed_dict\u001b[0m\u001b[0;34m,\u001b[0m\u001b[0;34m\u001b[0m\u001b[0m\n\u001b[0;32m-> 2273\u001b[0;31m                               **self.session_kwargs)\n\u001b[0m\u001b[1;32m   2274\u001b[0m         \u001b[0;32mreturn\u001b[0m \u001b[0mupdated\u001b[0m\u001b[0;34m[\u001b[0m\u001b[0;34m:\u001b[0m\u001b[0mlen\u001b[0m\u001b[0;34m(\u001b[0m\u001b[0mself\u001b[0m\u001b[0;34m.\u001b[0m\u001b[0moutputs\u001b[0m\u001b[0;34m)\u001b[0m\u001b[0;34m]\u001b[0m\u001b[0;34m\u001b[0m\u001b[0m\n\u001b[1;32m   2275\u001b[0m \u001b[0;34m\u001b[0m\u001b[0m\n",
      "\u001b[0;32m/home/carnd/anaconda3/envs/dl/lib/python3.5/site-packages/tensorflow/python/client/session.py\u001b[0m in \u001b[0;36mrun\u001b[0;34m(self, fetches, feed_dict, options, run_metadata)\u001b[0m\n\u001b[1;32m    765\u001b[0m     \u001b[0;32mtry\u001b[0m\u001b[0;34m:\u001b[0m\u001b[0;34m\u001b[0m\u001b[0m\n\u001b[1;32m    766\u001b[0m       result = self._run(None, fetches, feed_dict, options_ptr,\n\u001b[0;32m--> 767\u001b[0;31m                          run_metadata_ptr)\n\u001b[0m\u001b[1;32m    768\u001b[0m       \u001b[0;32mif\u001b[0m \u001b[0mrun_metadata\u001b[0m\u001b[0;34m:\u001b[0m\u001b[0;34m\u001b[0m\u001b[0m\n\u001b[1;32m    769\u001b[0m         \u001b[0mproto_data\u001b[0m \u001b[0;34m=\u001b[0m \u001b[0mtf_session\u001b[0m\u001b[0;34m.\u001b[0m\u001b[0mTF_GetBuffer\u001b[0m\u001b[0;34m(\u001b[0m\u001b[0mrun_metadata_ptr\u001b[0m\u001b[0;34m)\u001b[0m\u001b[0;34m\u001b[0m\u001b[0m\n",
      "\u001b[0;32m/home/carnd/anaconda3/envs/dl/lib/python3.5/site-packages/tensorflow/python/client/session.py\u001b[0m in \u001b[0;36m_run\u001b[0;34m(self, handle, fetches, feed_dict, options, run_metadata)\u001b[0m\n\u001b[1;32m    963\u001b[0m     \u001b[0;32mif\u001b[0m \u001b[0mfinal_fetches\u001b[0m \u001b[0;32mor\u001b[0m \u001b[0mfinal_targets\u001b[0m\u001b[0;34m:\u001b[0m\u001b[0;34m\u001b[0m\u001b[0m\n\u001b[1;32m    964\u001b[0m       results = self._do_run(handle, final_targets, final_fetches,\n\u001b[0;32m--> 965\u001b[0;31m                              feed_dict_string, options, run_metadata)\n\u001b[0m\u001b[1;32m    966\u001b[0m     \u001b[0;32melse\u001b[0m\u001b[0;34m:\u001b[0m\u001b[0;34m\u001b[0m\u001b[0m\n\u001b[1;32m    967\u001b[0m       \u001b[0mresults\u001b[0m \u001b[0;34m=\u001b[0m \u001b[0;34m[\u001b[0m\u001b[0;34m]\u001b[0m\u001b[0;34m\u001b[0m\u001b[0m\n",
      "\u001b[0;32m/home/carnd/anaconda3/envs/dl/lib/python3.5/site-packages/tensorflow/python/client/session.py\u001b[0m in \u001b[0;36m_do_run\u001b[0;34m(self, handle, target_list, fetch_list, feed_dict, options, run_metadata)\u001b[0m\n\u001b[1;32m   1013\u001b[0m     \u001b[0;32mif\u001b[0m \u001b[0mhandle\u001b[0m \u001b[0;32mis\u001b[0m \u001b[0;32mNone\u001b[0m\u001b[0;34m:\u001b[0m\u001b[0;34m\u001b[0m\u001b[0m\n\u001b[1;32m   1014\u001b[0m       return self._do_call(_run_fn, self._session, feed_dict, fetch_list,\n\u001b[0;32m-> 1015\u001b[0;31m                            target_list, options, run_metadata)\n\u001b[0m\u001b[1;32m   1016\u001b[0m     \u001b[0;32melse\u001b[0m\u001b[0;34m:\u001b[0m\u001b[0;34m\u001b[0m\u001b[0m\n\u001b[1;32m   1017\u001b[0m       return self._do_call(_prun_fn, self._session, handle, feed_dict,\n",
      "\u001b[0;32m/home/carnd/anaconda3/envs/dl/lib/python3.5/site-packages/tensorflow/python/client/session.py\u001b[0m in \u001b[0;36m_do_call\u001b[0;34m(self, fn, *args)\u001b[0m\n\u001b[1;32m   1020\u001b[0m   \u001b[0;32mdef\u001b[0m \u001b[0m_do_call\u001b[0m\u001b[0;34m(\u001b[0m\u001b[0mself\u001b[0m\u001b[0;34m,\u001b[0m \u001b[0mfn\u001b[0m\u001b[0;34m,\u001b[0m \u001b[0;34m*\u001b[0m\u001b[0margs\u001b[0m\u001b[0;34m)\u001b[0m\u001b[0;34m:\u001b[0m\u001b[0;34m\u001b[0m\u001b[0m\n\u001b[1;32m   1021\u001b[0m     \u001b[0;32mtry\u001b[0m\u001b[0;34m:\u001b[0m\u001b[0;34m\u001b[0m\u001b[0m\n\u001b[0;32m-> 1022\u001b[0;31m       \u001b[0;32mreturn\u001b[0m \u001b[0mfn\u001b[0m\u001b[0;34m(\u001b[0m\u001b[0;34m*\u001b[0m\u001b[0margs\u001b[0m\u001b[0;34m)\u001b[0m\u001b[0;34m\u001b[0m\u001b[0m\n\u001b[0m\u001b[1;32m   1023\u001b[0m     \u001b[0;32mexcept\u001b[0m \u001b[0merrors\u001b[0m\u001b[0;34m.\u001b[0m\u001b[0mOpError\u001b[0m \u001b[0;32mas\u001b[0m \u001b[0me\u001b[0m\u001b[0;34m:\u001b[0m\u001b[0;34m\u001b[0m\u001b[0m\n\u001b[1;32m   1024\u001b[0m       \u001b[0mmessage\u001b[0m \u001b[0;34m=\u001b[0m \u001b[0mcompat\u001b[0m\u001b[0;34m.\u001b[0m\u001b[0mas_text\u001b[0m\u001b[0;34m(\u001b[0m\u001b[0me\u001b[0m\u001b[0;34m.\u001b[0m\u001b[0mmessage\u001b[0m\u001b[0;34m)\u001b[0m\u001b[0;34m\u001b[0m\u001b[0m\n",
      "\u001b[0;32m/home/carnd/anaconda3/envs/dl/lib/python3.5/site-packages/tensorflow/python/client/session.py\u001b[0m in \u001b[0;36m_run_fn\u001b[0;34m(session, feed_dict, fetch_list, target_list, options, run_metadata)\u001b[0m\n\u001b[1;32m   1002\u001b[0m         return tf_session.TF_Run(session, options,\n\u001b[1;32m   1003\u001b[0m                                  \u001b[0mfeed_dict\u001b[0m\u001b[0;34m,\u001b[0m \u001b[0mfetch_list\u001b[0m\u001b[0;34m,\u001b[0m \u001b[0mtarget_list\u001b[0m\u001b[0;34m,\u001b[0m\u001b[0;34m\u001b[0m\u001b[0m\n\u001b[0;32m-> 1004\u001b[0;31m                                  status, run_metadata)\n\u001b[0m\u001b[1;32m   1005\u001b[0m \u001b[0;34m\u001b[0m\u001b[0m\n\u001b[1;32m   1006\u001b[0m     \u001b[0;32mdef\u001b[0m \u001b[0m_prun_fn\u001b[0m\u001b[0;34m(\u001b[0m\u001b[0msession\u001b[0m\u001b[0;34m,\u001b[0m \u001b[0mhandle\u001b[0m\u001b[0;34m,\u001b[0m \u001b[0mfeed_dict\u001b[0m\u001b[0;34m,\u001b[0m \u001b[0mfetch_list\u001b[0m\u001b[0;34m)\u001b[0m\u001b[0;34m:\u001b[0m\u001b[0;34m\u001b[0m\u001b[0m\n",
      "\u001b[0;31mKeyboardInterrupt\u001b[0m: "
     ]
    }
   ],
   "source": [
    "\n",
    "model = cnn_model(flag_BN=True,flag_STN=True)\n",
    "\n",
    "model.compile(loss='categorical_crossentropy',\n",
    "              optimizer=Adam(),\n",
    "              metrics=['accuracy'])\n",
    "\n",
    "epochs = 5\n",
    "datagen = get_datagen()\n",
    "history = model.fit_generator(datagen.flow(X_train, y_train, batch_size=512),\n",
    "                    steps_per_epoch=X_train.shape[0],\n",
    "                    epochs=100,verbose=1,\n",
    "                    validation_data=(X_val, y_val)\n",
    "                    #callbacks=[LearningRateScheduler(lr_schedule),\n",
    "                    #           ModelCheckpoint('model.h5', save_best_only=True)]\n",
    "                    )"
   ]
  },
  {
   "cell_type": "code",
   "execution_count": null,
   "metadata": {
    "collapsed": true
   },
   "outputs": [],
   "source": []
  },
  {
   "cell_type": "code",
   "execution_count": 60,
   "metadata": {
    "collapsed": true
   },
   "outputs": [],
   "source": [
    "model.save('models/STN_BN_DA_CNN.ckpt')\n"
   ]
  },
  {
   "cell_type": "code",
   "execution_count": 61,
   "metadata": {
    "collapsed": false
   },
   "outputs": [
    {
     "name": "stdout",
     "output_type": "stream",
     "text": [
      "12608/12630 [============================>.] - ETA: 0s"
     ]
    },
    {
     "data": {
      "text/plain": [
       "[0.056696130254824374, 0.98875692794932701]"
      ]
     },
     "execution_count": 61,
     "metadata": {},
     "output_type": "execute_result"
    }
   ],
   "source": [
    "model.evaluate(X_test, y_test)"
   ]
  },
  {
   "cell_type": "code",
   "execution_count": 36,
   "metadata": {
    "collapsed": false
   },
   "outputs": [
    {
     "name": "stdout",
     "output_type": "stream",
     "text": [
      "34799\n"
     ]
    }
   ],
   "source": []
  },
  {
   "cell_type": "markdown",
   "metadata": {},
   "source": [
    "# OTHER STUFF"
   ]
  },
  {
   "cell_type": "code",
   "execution_count": 24,
   "metadata": {
    "collapsed": false,
    "deletable": true,
    "editable": true
   },
   "outputs": [
    {
     "ename": "NameError",
     "evalue": "name 'LearningRateScheduler' is not defined",
     "output_type": "error",
     "traceback": [
      "\u001b[0;31m---------------------------------------------------------------------------\u001b[0m",
      "\u001b[0;31mNameError\u001b[0m                                 Traceback (most recent call last)",
      "\u001b[0;32m<ipython-input-24-67e8f541658c>\u001b[0m in \u001b[0;36m<module>\u001b[0;34m()\u001b[0m\n\u001b[1;32m     57\u001b[0m                             \u001b[0mepochs\u001b[0m\u001b[0;34m=\u001b[0m\u001b[0mnb_epoch\u001b[0m\u001b[0;34m,\u001b[0m\u001b[0;34m\u001b[0m\u001b[0m\n\u001b[1;32m     58\u001b[0m                             \u001b[0mvalidation_data\u001b[0m\u001b[0;34m=\u001b[0m\u001b[0;34m(\u001b[0m\u001b[0mX_val\u001b[0m\u001b[0;34m,\u001b[0m \u001b[0my_val\u001b[0m\u001b[0;34m)\u001b[0m\u001b[0;34m,\u001b[0m\u001b[0;34m\u001b[0m\u001b[0m\n\u001b[0;32m---> 59\u001b[0;31m                             callbacks=[LearningRateScheduler(lr_schedule),\n\u001b[0m\u001b[1;32m     60\u001b[0m                                        ModelCheckpoint('model.h5',save_best_only=True)]\n\u001b[1;32m     61\u001b[0m                            )\n",
      "\u001b[0;31mNameError\u001b[0m: name 'LearningRateScheduler' is not defined"
     ]
    }
   ],
   "source": [
    "#Keras tutorial \n",
    "from keras.callbacks import LearningRateScheduler, ModelCheckpoint\n",
    "\n",
    "\n",
    "def cnn_model():\n",
    "    model = Sequential()\n",
    "\n",
    "    model.add(Conv2D(32, (3, 3), padding='same',\n",
    "                     input_shape=(32,32,3),\n",
    "                     activation='relu'))\n",
    "    #model.add(Conv2D(32, (3, 3), activation='relu'))\n",
    "    model.add(MaxPooling2D(pool_size=(2, 2)))\n",
    "    model.add(Dropout(0.2))\n",
    "\n",
    "    model.add(Conv2D(64, (3, 3), padding='same',\n",
    "                     activation='relu'))\n",
    "    #model.add(Conv2D(64, (3, 3), activation='relu'))\n",
    "    model.add(MaxPooling2D(pool_size=(2, 2)))\n",
    "    model.add(Dropout(0.2))\n",
    "\n",
    "    model.add(Conv2D(128, (3, 3), padding='same',\n",
    "                     activation='relu'))\n",
    "    #model.add(Conv2D(128, (3, 3), activation='relu'))\n",
    "    model.add(MaxPooling2D(pool_size=(2, 2)))\n",
    "    model.add(Dropout(0.2))\n",
    "\n",
    "    model.add(Flatten())\n",
    "    model.add(Dense(512, activation='relu'))\n",
    "    model.add(Dropout(0.5))\n",
    "    model.add(Dense(43, activation='softmax'))\n",
    "    return model\n",
    "\n",
    "\n",
    "\n",
    "datagen = ImageDataGenerator(featurewise_center=False, \n",
    "                            featurewise_std_normalization=False, \n",
    "                            width_shift_range=0.1,\n",
    "                            height_shift_range=0.1,\n",
    "                            zoom_range=0.2,\n",
    "                            shear_range=0.1,\n",
    "                            rotation_range=10.,)\n",
    "\n",
    "model = cnn_model()\n",
    "# let's train the model using SGD + momentum (how original).\n",
    "lr = 0.01\n",
    "sgd = SGD(lr=lr, decay=1e-6, momentum=0.9, nesterov=True)\n",
    "model.compile(loss='categorical_crossentropy',\n",
    "          optimizer=sgd,\n",
    "          metrics=['accuracy'])\n",
    "\n",
    "\n",
    "def lr_schedule(epoch):\n",
    "    return lr*(0.1**int(epoch/10))\n",
    "\n",
    "nb_epoch = 30\n",
    "model.fit_generator(datagen.flow(X_train, y_train  , batch_size=128),\n",
    "                            steps_per_epoch=X_train.shape[0],\n",
    "                            epochs=nb_epoch,\n",
    "                            validation_data=(X_val, y_val),\n",
    "                            callbacks=[LearningRateScheduler(lr_schedule),\n",
    "                                       ModelCheckpoint('model.h5',save_best_only=True)]\n",
    "                           )"
   ]
  },
  {
   "cell_type": "code",
   "execution_count": null,
   "metadata": {
    "collapsed": false,
    "deletable": true,
    "editable": true
   },
   "outputs": [],
   "source": []
  },
  {
   "cell_type": "code",
   "execution_count": null,
   "metadata": {
    "collapsed": false,
    "deletable": true,
    "editable": true
   },
   "outputs": [],
   "source": []
  },
  {
   "cell_type": "code",
   "execution_count": null,
   "metadata": {
    "collapsed": false,
    "deletable": true,
    "editable": true
   },
   "outputs": [],
   "source": [
    "import os\n",
    "from keras.models import load_model\n",
    "from keras.models import Sequential\n",
    "from keras.layers import Dense, Activation, Dropout,Convolution2D,Conv2D,MaxPooling2D,Flatten\n",
    "from keras.optimizers import Adam\n",
    "\n",
    "# number of classes\n",
    "nb_classes = 43\n",
    "# input image dimensions\n",
    "img_rows, img_cols, img_ch = 32, 32, 3\n",
    "# number of convolutional filters to use\n",
    "nb_filter1 = 32\n",
    "nb_filter2 = 64\n",
    "nb_filter3 = 128\n",
    "# size of pooling area for max pooling\n",
    "pool_size = (2, 2)\n",
    "pool_strides = (1,1)\n",
    "# convolution kernel size\n",
    "kernel_size = (5, 5)\n",
    "# number of hidden units in the first fully connected layer\n",
    "nb_fc1=512\n",
    "nb_fc2=128\n",
    "\n",
    "\n",
    "\n",
    "model = Sequential()\n",
    "\n",
    "# Convolution / Max / Pooling / Dropout\n",
    "\n",
    "model.add(Conv2D(32, (5, 5), border_mode='same', input_shape=(32, 32, 3)))\n",
    "model.add(MaxPooling2D(pool_size=(2, 2)))\n",
    "model.add(Dropout(0.5))\n",
    "model.add(Activation('relu'))\n",
    "\n",
    "#model.add(Conv2D(32, (5, 5), border_mode='same', input_shape=(32, 32, 3)))\n",
    "#model.add(MaxPooling2D(pool_size=(2, 2)))\n",
    "#model.add(Dropout(0.5))\n",
    "#model.add(Activation('relu'))\n",
    "\n",
    "\n",
    "#model.add(Conv2D(nb_filter1, kernel_size, strides=pool_strides, padding='same', data_format=\"channels_last\", \n",
    "#                    input_shape=(img_rows,img_cols,img_ch),name='conv1'))\n",
    "#model.add(MaxPooling2D(pool_size=pool_size,strides=pool_strides,name='maxpool1'))\n",
    "#model.add(Dropout(0.5))\n",
    "\n",
    "#model.add(Activation('relu',name='relu1'))\n",
    "model.add(Conv2D(nb_filter2, kernel_size,strides=pool_strides,padding='same',name='conv2'))\n",
    "model.add(Activation('relu',name='relu2'))\n",
    "model.add(MaxPooling2D(pool_size=pool_size,strides=None,name='maxpool2'))\n",
    "model.add(Conv2D(nb_filter3, kernel_size,padding='same',strides=pool_strides, \n",
    "                        name='conv3'))\n",
    "model.add(Activation('relu',name='relu3'))\n",
    "model.add(MaxPooling2D(pool_size=pool_size,strides=None,name='maxpool3'))\n",
    "model.add(Flatten(name='flatten'))\n",
    "model.add(Dropout(0.5,name='dropout1'))\n",
    "model.add(Dense(nb_fc1, name='hidden1'))\n",
    "model.add(Activation('relu',name='relu4'))\n",
    "model.add(Dropout(0.5,name='dropout2'))\n",
    "model.add(Dense(nb_fc2,  name='hidden2'))\n",
    "model.add(Activation('relu',name='relu5'))\n",
    "model.add(Dense(nb_classes, name='output'))\n",
    "model.add(Activation('softmax',name='softmax'))\n",
    "\n",
    "model.summary()\n",
    "\n",
    "\n",
    "nb_epoch = 10\n",
    "batch_size=128\n",
    "\n",
    "\n",
    "\n",
    "adam = Adam(lr=1e-4, beta_1=0.9, beta_2=0.999, epsilon=1e-08, decay=0.0)\n",
    "model.compile(optimizer=adam,\n",
    "          loss='categorical_crossentropy',\n",
    "          metrics=['accuracy'])\n",
    "\n",
    "history = model.fit(X_train, Y_train,\n",
    "                    batch_size=batch_size, nb_epoch=nb_epoch,\n",
    "                    verbose=2, validation_data=(X_val, Y_val))\n",
    "\n",
    "\n",
    "\n",
    "# STOP: Do not change the tests below. Your implementation should pass these tests.\n",
    "assert(history.history['val_acc'][-1] > 0.9), \"The validation accuracy is: %.3f\" % history.history['val_acc'][-1]"
   ]
  },
  {
   "cell_type": "code",
   "execution_count": null,
   "metadata": {
    "collapsed": true,
    "deletable": true,
    "editable": true
   },
   "outputs": [],
   "source": []
  }
 ],
 "metadata": {
  "anaconda-cloud": {},
  "kernelspec": {
   "display_name": "Python [conda env:dl]",
   "language": "python",
   "name": "conda-env-dl-py"
  },
  "language_info": {
   "codemirror_mode": {
    "name": "ipython",
    "version": 3
   },
   "file_extension": ".py",
   "mimetype": "text/x-python",
   "name": "python",
   "nbconvert_exporter": "python",
   "pygments_lexer": "ipython3",
   "version": "3.5.2"
  }
 },
 "nbformat": 4,
 "nbformat_minor": 1
}
