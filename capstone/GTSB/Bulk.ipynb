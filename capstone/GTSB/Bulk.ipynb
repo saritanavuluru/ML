{
 "cells": [
  {
   "cell_type": "code",
   "execution_count": 1,
   "metadata": {},
   "outputs": [
    {
     "name": "stderr",
     "output_type": "stream",
     "text": [
      "Using TensorFlow backend.\n"
     ]
    }
   ],
   "source": [
    "\n",
    "import numpy as np\n",
    "np.random.seed(42)\n",
    "import sklearn\n",
    "import os\n",
    "#import helper\n",
    "import keras\n",
    "import pickle\n",
    "import math\n",
    "from keras.layers.advanced_activations import LeakyReLU \n",
    "from sklearn.utils import shuffle\n",
    "from sklearn.model_selection import train_test_split\n",
    "from keras.layers.normalization import BatchNormalization\n",
    "from keras.preprocessing.image import ImageDataGenerator\n",
    "from skimage import exposure\n",
    "\n",
    "from keras.models import Sequential\n",
    "from keras.layers.core import Dense, Dropout, Activation, Flatten,Lambda\n",
    "from keras.layers import Convolution2D, MaxPooling2D, Conv2D\n",
    "from keras.optimizers import SGD, Adam, RMSprop\n",
    "from keras.utils import np_utils\n",
    "import matplotlib.pyplot as plt\n",
    "import random\n",
    "import statistics\n",
    "%matplotlib inline\n",
    "import pandas as pd\n",
    "\n",
    "from tqdm import tqdm\n",
    "\n",
    "from keras.regularizers import l2\n",
    "\n",
    "import random\n",
    "import csv\n",
    "from tensorflow.contrib.layers import flatten\n",
    "from skimage import transform as transf\n",
    "#from prettytable import PrettyTable\n",
    "%matplotlib inline\n",
    "\n",
    "SEED = 22"
   ]
  },
  {
   "cell_type": "code",
   "execution_count": 2,
   "metadata": {
    "collapsed": true
   },
   "outputs": [],
   "source": [
    "# Load pickled data\n",
    "\n",
    "def load_split_input_data() :\n",
    "\n",
    "    # TODO: fill this in based on where you saved the training and testing data\n",
    "    training_file = './data/train.p'\n",
    "    testing_file = './data/test.p'\n",
    "    validation_file = './data/valid.p'\n",
    "\n",
    "\n",
    "    with open(training_file, mode='rb') as f:\n",
    "        train = pickle.load(f)\n",
    "    with open(testing_file, mode='rb') as f:\n",
    "        test = pickle.load(f)\n",
    "    with open(validation_file, mode='rb') as f:\n",
    "        valid = pickle.load(f)\n",
    "\n",
    "    X_train, y_train = train['features'], train['labels']\n",
    "    X_test, y_test = test['features'], test['labels']\n",
    "    X_val, y_val = valid['features'], valid['labels']\n",
    "\n",
    "    print(len(X_train))\n",
    "    print(len(X_test))\n",
    "    print(len(X_val))\n",
    "    print(len(y_val))\n",
    "\n",
    "    # STOP: Do not change the tests below. Your implementation should pass these tests. \n",
    "    assert(X_train.shape[0] == y_train.shape[0]), \"The number of images is not equal to the number of labels.\"\n",
    "    assert(X_test.shape[0] == y_test.shape[0]), \"The number of images is not equal to the number of labels.\"\n",
    "    assert(X_val.shape[0] == y_val.shape[0]), \"The number of images is not equal to the number of labels.\"\n",
    "    \n",
    "    return X_train, y_train, X_test, y_test, X_val, y_val\n",
    "\n",
    "\n",
    "    \n",
    "\n",
    "\n",
    "\n"
   ]
  },
  {
   "cell_type": "code",
   "execution_count": 3,
   "metadata": {
    "collapsed": true
   },
   "outputs": [],
   "source": [
    "#greyscale\n",
    "# Convert to grayscale\n",
    "\n",
    "def convert_to_grayscale(X_train,X_test, X_val):\n",
    "\n",
    "    X_train_rgb = X_train\n",
    "    X_val_rgb = X_val\n",
    "    X_train_gry = np.sum(X_train/3, \n",
    "                     axis=3, keepdims=True)\n",
    "\n",
    "    X_test_rgb = X_test\n",
    "    X_test_gry = np.sum(X_test/3, axis=3, keepdims=True)\n",
    "    X_val_gry = np.sum(X_val/3, axis=3, keepdims=True)\n",
    "    \n",
    "    print('RGB shape:', X_train_rgb.shape)\n",
    "    print('Grayscale shape:', X_train_gry.shape)\n",
    "    X_train = X_train_gry\n",
    "    X_test = X_test_gry\n",
    "    X_val = X_val_gry\n",
    "    \n",
    "    assert(X_train.shape[1:] == (32,32,1)), \"The dimensions of the images are not 32 x 32 x 1.\"\n",
    "    return X_train,X_test, X_val"
   ]
  },
  {
   "cell_type": "code",
   "execution_count": 4,
   "metadata": {
    "collapsed": true
   },
   "outputs": [],
   "source": [
    "def hist_equalize(dataset):\n",
    "    hist_ds = []\n",
    "    for img in  dataset:\n",
    "        img_eq = exposure.equalize_hist(img)\n",
    "        hist_ds.append(img_eq)\n",
    "    return np.asarray(hist_ds) \n",
    "    "
   ]
  },
  {
   "cell_type": "code",
   "execution_count": 5,
   "metadata": {
    "collapsed": true
   },
   "outputs": [],
   "source": [
    "def hist_equalize_set(X_train,  X_test,  X_val):\n",
    "\n",
    "    #X_train, X_test , X_val = convert_to_grayscale(X_train, X_test, X_val)\n",
    "    \n",
    "    #hist equalize\n",
    "    \n",
    "    X_train = hist_equalize(X_train)\n",
    "    X_test = hist_equalize(X_test)\n",
    "    X_val = hist_equalize(X_val)\n",
    "    \n",
    "    \n",
    "    print(\"X_train: \", len(X_train))\n",
    "    print(\"X_val: \", len(X_val))\n",
    "    return X_train,  X_test,  X_val\n"
   ]
  },
  {
   "cell_type": "code",
   "execution_count": 6,
   "metadata": {
    "collapsed": true
   },
   "outputs": [],
   "source": [
    "def noralize(X_train, X_test, X_val)    :\n",
    "    X_train = (X_train - X_train.mean()) / (np.max(X_train) - np.min(X_train))\n",
    "    X_test = (X_test - X_test.mean()) / (np.max(X_test) - np.min(X_test))\n",
    "    X_val = (X_val - X_val.mean())/(np.max(X_val)-np.min(X_val))\n",
    "    return X_train, X_test, X_val"
   ]
  },
  {
   "cell_type": "code",
   "execution_count": 7,
   "metadata": {
    "collapsed": true
   },
   "outputs": [],
   "source": [
    "import matplotlib\n",
    "matplotlib.rcParams['font.size'] = 8\n",
    "\n",
    "def adaptive_equalize(data):\n",
    "    #print(data[0].shape)\n",
    "    #print(data[0].squeeze().shape)\n",
    "    print(\"Applying the Adaptive Equalization Tranformation\")\n",
    "    ae = []\n",
    "    for i in tqdm(range(len(data))):\n",
    "        #print(i)\n",
    "        \n",
    "        img = exposure.equalize_adapthist(data[i].squeeze(), clip_limit=0.03)\n",
    "        #print(img.shape)\n",
    "        #print(\"...\")\n",
    "        #print(type(img[0][0]))\n",
    "        img = np.expand_dims(img, axis=2)\n",
    "        #print(img.shape)\n",
    "        ae.append(np.asarray(img))\n",
    "    #print(len(ae))\n",
    "    return np.asarray(ae)\n",
    "\n",
    "def adaptive_equalize_set(train,test,val):\n",
    "    train = adaptive_equalize(train)\n",
    "    test = adaptive_equalize(test)\n",
    "    val = adaptive_equalize(val)\n",
    "    return train,test,val\n",
    "\n",
    "  \n",
    "\n",
    "\n",
    "def contrast_stretch_set(train,test,val):\n",
    "    train = contrast_stretch(train)\n",
    "    test = contrast_stretch(test)\n",
    "    val = contrast_stretch(val)\n",
    "    return train,test,val\n",
    "\n",
    "  \n",
    "def contrast_stretch(data):\n",
    "    #print(data.shape)\n",
    "    print(\"Applying the  Contrast-Stretch Transformation\")\n",
    "    cs = []\n",
    "    for i in tqdm(range(len(data))):\n",
    "        #print(i)\n",
    "        p2, p98 = np.percentile(data[i].squeeze(), (2,98))\n",
    "\n",
    "        img = exposure.rescale_intensity(data[i].squeeze(), in_range=(p2, p98))\n",
    "        img = np.expand_dims(img, axis=2)\n",
    "        #print(img.shape)\n",
    "        cs.append(np.asarray(img))\n",
    "    #print(len(d))\n",
    "    return cs\n",
    "\n",
    "#print(X_aug.squeeze().shape)\n",
    "#a = contrast_stretch(np.asarray([img_d,img_b]))\n",
    "#helper.plot_images(-1,a,2,\"\")\n"
   ]
  },
  {
   "cell_type": "code",
   "execution_count": 8,
   "metadata": {},
   "outputs": [
    {
     "name": "stdout",
     "output_type": "stream",
     "text": [
      "34799\n",
      "12630\n",
      "4410\n",
      "4410\n",
      "RGB shape: (34799, 32, 32, 3)\n",
      "Grayscale shape: (34799, 32, 32, 1)\n"
     ]
    }
   ],
   "source": [
    "X_train, y_train, X_test, y_test,X_val,y_val = load_split_input_data()\n",
    "X_train_g, X_test_g,X_val_g = convert_to_grayscale(X_train, X_test,X_val)"
   ]
  },
  {
   "cell_type": "code",
   "execution_count": 23,
   "metadata": {
    "collapsed": true
   },
   "outputs": [],
   "source": [
    "n_classes=43\n",
    "datagen = keras.preprocessing.image.ImageDataGenerator(\n",
    "    rotation_range=10,\n",
    "    width_shift_range=0.1,\n",
    "    height_shift_range=0.1,\n",
    "    shear_range=0.1,\n",
    "    zoom_range=0.2,\n",
    "    fill_mode='nearest',\n",
    "   # horizontal_flip=True,\n",
    ")\n",
    "import os\n",
    "import numpy as np\n",
    "from tqdm import tqdm\n",
    "from sklearn.utils import shuffle\n",
    "\n",
    "\n",
    "\n",
    "\n",
    "\n",
    "def data_augment(X,y):\n",
    "\n",
    "    \n",
    "    img_shape = [X.shape[1], X.shape[2], X.shape[3]]\n",
    "    img_shape.insert(0,0)\n",
    "    \n",
    "    data_shape = np.asarray(img_shape)\n",
    "    total_image_per_class = 1000\n",
    "    \n",
    "    X_augmented =np.empty(data_shape)\n",
    "    y_augmented =np.empty(0,dtype='uint8')\n",
    "    \n",
    "\n",
    "\n",
    "    print('Augmenting  Data...')\n",
    "    for i in tqdm(range(n_classes)):\n",
    "    #for i in tqdm(range(3)):\n",
    "            #print(i)\n",
    "            index = [y==i]\n",
    "            images_for_i_class = X[y==i]\n",
    "            y_i_class = y[y==i]\n",
    "            X_augmented_i = np.empty(data_shape)\n",
    "            #print(X_augmented_i.shape)\n",
    "            y_augmented_i = np.empty(0,dtype='uint8')\n",
    "            for X_b,y_b in datagen.flow(images_for_i_class, y_i_class, batch_size=len(y_i_class), seed=9345+i*37):            \n",
    "                X_augmented_i = np.append(X_augmented_i, X_b, axis=0)\n",
    "                y_augmented_i = np.append(y_augmented_i, y_b, axis=0)\n",
    "\n",
    "                if len(X_augmented_i) >= total_image_per_class:\n",
    "                    break\n",
    "            X_augmented_i, y_augmented_i = shuffle(X_augmented_i, y_augmented_i, random_state=9345)\n",
    "            X_augmented = np.append(X_augmented, X_augmented_i[:200], axis=0)\n",
    "            y_augmented = np.append(y_augmented, y_augmented_i[:200], axis=0)     \n",
    "    print(\"shufle\")\n",
    "    X_augmented, y_augmented = shuffle(X_augmented, y_augmented, random_state=9345)\n",
    "    print(\"X_augmented shape: \"+str(X_augmented.shape))\n",
    "    print(\"y_augmented shape: \"+str(y_augmented.shape))\n",
    "    return X_augmented, y_augmented\n",
    "    \n",
    "    # Storing for checkpoint2\n",
    "    #X_augmented = X_augmented.astype('float32')\n",
    "\n",
    "    \n",
    "    \n",
    "\n"
   ]
  },
  {
   "cell_type": "code",
   "execution_count": null,
   "metadata": {
    "collapsed": true,
    "scrolled": true
   },
   "outputs": [],
   "source": [
    "\n",
    "X_train_h, X_test_h, X_val_h = hist_equalize_set(X_train_g, X_test_g, X_val_g)\n",
    "X_train_n, X_test_n,X_val_n = noralize(X_train_g, X_test_g,X_val_g)\n",
    "X_train_hae ,X_test_hae, X_val_hae = adaptive_equalize_set(X_train_h, X_test_h, X_val_h)\n",
    "X_train_ae, X_test_ae, X_val_ae = adaptive_equalize_set(X_train_n,X_test_n,X_val_n)\n",
    "X_train_hcs,X_test_hcs,X_val_hcs = contrast_stretch_set(X_train_h,X_test_h,X_val_h)\n",
    "X_train_cs,X_test_cs,X_val_cs = contrast_stretch_set(X_train_n,X_test_n,X_val_n)\n",
    "X_aug_n,y_aug_n = data_augment(X_train_n, y_train)\n",
    "X_aug_h,y_aug_h = data_augment(X_train_h, y_train)\n",
    "X_aug_hae,y_aug_hae = data_augment(X_train_hae, y_train)\n",
    "X_aug_ae,y_aug_ae = data_augment(X_train_ae, y_train)\n",
    "X_aug_cs,y_aug_cs = data_augment(np.asarray(X_train_cs), y_train)\n",
    "X_aug_hcs,y_aug_hcs = data_augment(np.asarray(X_train_hcs), y_train)\n"
   ]
  },
  {
   "cell_type": "code",
   "execution_count": 11,
   "metadata": {},
   "outputs": [
    {
     "name": "stdout",
     "output_type": "stream",
     "text": [
      "(104397, 32, 32, 1)\n",
      "(104397,)\n"
     ]
    }
   ],
   "source": [
    "X_all = X_train_h\n",
    "y_all = y_train\n",
    "X_all = np.append(X_all,np.asarray(X_train_hcs),axis=0)\n",
    "y_all = np.append(y_all,y_train,axis=0)\n",
    "\n",
    "X_all = np.append(X_all,X_train_hae,axis=0)\n",
    "y_all= np.append(y_all,y_train,axis=0)\n",
    "print(X_all.shape)\n",
    "print(y_all.shape)"
   ]
  },
  {
   "cell_type": "code",
   "execution_count": 39,
   "metadata": {},
   "outputs": [
    {
     "name": "stdout",
     "output_type": "stream",
     "text": [
      "(104397, 32, 32, 1)\n",
      "(104397,)\n"
     ]
    }
   ],
   "source": [
    "\n",
    "\n",
    "X_aug_all, y_aug_all = data_augment(X_all,y_all)\n",
    "print(X_aug_all.shape)\n",
    "print(y_aug_all.shape)\n"
   ]
  },
  {
   "cell_type": "code",
   "execution_count": 9,
   "metadata": {
    "collapsed": true
   },
   "outputs": [],
   "source": [
    "#Save to Disk\n",
    "def save_to_disk(X_train,y_train,X_test,y_test,X_val,y_val,X_aug,y_aug,flag_color,preop):\n",
    "# Save the data for easy access\n",
    "    \n",
    "    \n",
    "    assert(len(X_train) == len(y_train)), \"The number of images is not equal to the number of labels.\"\n",
    "    assert(len(X_test) == len(y_test)), \"The number of images is not equal to the number of labels.\"\n",
    "    assert(len(X_val) == len(y_val)), \"The number of images is not equal to the number of labels.\"\n",
    "\n",
    "    if flag_color == True:\n",
    "        label=\"_\"+preop+\"_color\"\n",
    "    else:\n",
    "        label = \"_\"+preop+\"_gray\"\n",
    "    \n",
    "    print(label)\n",
    "    \n",
    "    \n",
    "    pickle_file = 'preprocessed'+label+\".p\"\n",
    "    print(pickle_file)\n",
    "    if not os.path.isfile(pickle_file):\n",
    "        print('Saving data to'+pickle_file+' file...')\n",
    "        try:\n",
    "            with open(pickle_file, 'wb') as pfile:\n",
    "                pickle.dump(\n",
    "                    {\n",
    "                        'y_train': y_train,\n",
    "                        'X_train': X_train,\n",
    "                        'X_val': X_val,\n",
    "                        'y_val': y_val,\n",
    "                        'X_test': X_test,\n",
    "                        'y_test': y_test,\n",
    "                        'X_aug': X_aug,\n",
    "                        'y_aug':y_aug\n",
    "\n",
    "                    },\n",
    "                    pfile, pickle.HIGHEST_PROTOCOL)\n",
    "        except Exception as e:\n",
    "                print('Unable to save data to', pickle_file, ':', e)\n",
    "                raise\n",
    "        \n",
    "        print('Data cached in pickle file.')\n",
    "def save_aug_all_to_disk(X_aug_all,y_aug_all):\n",
    "    assert(len(X_aug_all) == len(y_aug_all)), \"The number of images is not equal to the number of labels.\"\n",
    "\n",
    "    \n",
    "    label=\"preprocessed_aug_all_gray\"\n",
    "    \n",
    "    \n",
    "    print(label)\n",
    "    \n",
    "    \n",
    "    pickle_file = label+\".p\"\n",
    "    print(pickle_file)\n",
    "    if not os.path.isfile(pickle_file):\n",
    "        print('Saving data to'+pickle_file+' file...')\n",
    "        try:\n",
    "            with open(pickle_file, 'wb') as pfile:\n",
    "                pickle.dump(\n",
    "                    {\n",
    "                        'y_aug_all': y_aug_all,\n",
    "                        'X_aug_all': X_aug_all,\n",
    "                        \n",
    "\n",
    "                    },\n",
    "                    pfile, pickle.HIGHEST_PROTOCOL)\n",
    "        except Exception as e:\n",
    "                print('Unable to save data to', pickle_file, ':', e)\n",
    "                raise\n",
    "        \n",
    "        print('Data cached in pickle file.')\n",
    "\n",
    "\n",
    "def load_preprocessed_data(pickle_file):\n",
    "\n",
    "    print(pickle_file)\n",
    "    with open(pickle_file, 'rb') as f:\n",
    "        pickle_data = pickle.load(f)\n",
    "        X_train = pickle_data['X_train']\n",
    "   \n",
    "        y_train = pickle_data['y_train']\n",
    "        X_val = pickle_data['X_val']\n",
    "        y_val = pickle_data['y_val']\n",
    "        X_test = pickle_data['X_test']\n",
    "        y_test = pickle_data['y_test']\n",
    "        X_aug = pickle_data['X_aug']\n",
    "        y_aug = pickle_data['y_aug']\n",
    "\n",
    "        del pickle_data  # Free up memory\n",
    "\n",
    "        print(\"X_train: \", len(X_train))\n",
    "        print(\"y_train: \", len(y_train))\n",
    "        print(\"X_val: \", len(X_val))\n",
    "        print(\"y_val: \", len(y_val))\n",
    "        print(\"X_test: \", len(X_test))\n",
    "        print(\"y_test: \", len(y_test))\n",
    "        print(\"X_aug: \", len(X_aug))\n",
    "        print(\"y_aug: \", len(y_aug))\n",
    "        # STOP: Do not change the tests below. Your implementation should pass these tests. \n",
    "        assert(len(X_train) == len(y_train)), \"The number of images is not equal to the number of labels.\"\n",
    "        assert(len(X_test) == len(y_test)), \"The number of images is not equal to the number of labels.\"\n",
    "        assert(len(X_val) == len(y_val)), \"The number of images is not equal to the number of labels.\"\n",
    "\n",
    "        print('Data and modules loaded.')\n",
    "        \n",
    "    return X_train,y_train,X_test,y_test,X_val,y_val,X_aug,y_aug\n",
    "\n",
    "#save_to_disk(X_train[:4],y_train[:4],X_test[:4],y_test[:4],X_val[:4],y_val[:4],False,\"original\")\n",
    "def load_preprocessed_aug(pickle_file):\n",
    "\n",
    "    print(pickle_file)\n",
    "    with open(pickle_file, 'rb') as f:\n",
    "        pickle_data = pickle.load(f)\n",
    "        X_aug_all = pickle_data['X_aug_all']\n",
    "   \n",
    "        y_aug_all = pickle_data['y_aug_all']\n",
    "        \n",
    "\n",
    "        del pickle_data  # Free up memory\n",
    "\n",
    "        print(\"X_aug_all: \", len(X_aug_all))\n",
    "        print(\"y_aug_all: \", len(y_aug_all))\n",
    "       \n",
    "        # STOP: Do not change the tests below. Your implementation should pass these tests. \n",
    "        assert(len(X_aug_all) == len(y_aug_all)), \"The number of images is not equal to the number of labels.\"\n",
    "        print('Data and modules loaded.')\n",
    "        \n",
    "    return X_aug_all,y_aug_all\n",
    "\n",
    "#save_to_disk(X_train[:4],y_train[:4],X_test[:4],y_test[:4],X_val[:4],y_val[:4],False,\"original\")\n"
   ]
  },
  {
   "cell_type": "code",
   "execution_count": null,
   "metadata": {
    "collapsed": true
   },
   "outputs": [],
   "source": [
    "save_to_disk(X_train_n,y_train,X_test_n,y_test,X_val_n,y_val,X_aug_n,y_aug_n,False,\"norm\")\n",
    "save_to_disk(X_train_h,y_train,X_test_h,y_test,X_val_h,y_val,X_aug_h,y_aug_h,False,\"hist\")\n",
    "save_to_disk(X_train_hae,y_train,X_test_hae,y_test,X_val_hae,y_val,X_aug_hae,y_aug_hae,False,\"hae\")\n",
    "save_to_disk(X_train_ae,y_train,X_test_ae,y_test,X_val_ae,y_val,X_aug_ae,y_aug_ae,False,\"ae\")\n",
    "save_to_disk(X_train_hcs,y_train,X_test_hcs,y_test,X_val_hcs,y_val,X_aug_hcs,y_aug_hcs,False,\"hcs\")\n",
    "save_to_disk(X_train_cs,y_train,X_test_cs,y_test,X_val_cs,y_val,X_aug_cs,y_aug_cs,False,\"cs\")\n",
    "save_aug_all_to_disk(X_aug_all,y_aug_all)"
   ]
  },
  {
   "cell_type": "code",
   "execution_count": 10,
   "metadata": {},
   "outputs": [
    {
     "name": "stdout",
     "output_type": "stream",
     "text": [
      "./preprocessed/preprocessed_norm_gray.p\n",
      "X_train:  34799\n",
      "y_train:  34799\n",
      "X_val:  4410\n",
      "y_val:  4410\n",
      "X_test:  12630\n",
      "y_test:  12630\n",
      "X_aug:  8600\n",
      "y_aug:  8600\n",
      "Data and modules loaded.\n",
      "./preprocessed/preprocessed_hist_gray.p\n",
      "X_train:  34799\n",
      "y_train:  34799\n",
      "X_val:  4410\n",
      "y_val:  4410\n",
      "X_test:  12630\n",
      "y_test:  12630\n",
      "X_aug:  8600\n",
      "y_aug:  8600\n",
      "Data and modules loaded.\n",
      "./preprocessed/preprocessed_hae_gray.p\n",
      "X_train:  34799\n",
      "y_train:  34799\n",
      "X_val:  4410\n",
      "y_val:  4410\n",
      "X_test:  12630\n",
      "y_test:  12630\n",
      "X_aug:  8600\n",
      "y_aug:  8600\n",
      "Data and modules loaded.\n",
      "./preprocessed/preprocessed_ae_gray.p\n",
      "X_train:  34799\n",
      "y_train:  34799\n",
      "X_val:  4410\n",
      "y_val:  4410\n",
      "X_test:  12630\n",
      "y_test:  12630\n",
      "X_aug:  8600\n",
      "y_aug:  8600\n",
      "Data and modules loaded.\n",
      "./preprocessed/preprocessed_hcs_gray.p\n",
      "X_train:  34799\n",
      "y_train:  34799\n",
      "X_val:  4410\n",
      "y_val:  4410\n",
      "X_test:  12630\n",
      "y_test:  12630\n",
      "X_aug:  8600\n",
      "y_aug:  8600\n",
      "Data and modules loaded.\n",
      "./preprocessed/preprocessed_cs_gray.p\n",
      "X_train:  34799\n",
      "y_train:  34799\n",
      "X_val:  4410\n",
      "y_val:  4410\n",
      "X_test:  12630\n",
      "y_test:  12630\n",
      "X_aug:  8600\n",
      "y_aug:  8600\n",
      "Data and modules loaded.\n",
      "./preprocessed/preprocessed_aug_all_gray.p\n",
      "X_aug_all:  12900\n",
      "y_aug_all:  12900\n",
      "Data and modules loaded.\n"
     ]
    }
   ],
   "source": [
    "X_train_n,y_train,X_test_n,y_test,X_val_n,y_val,X_aug_n,y_aug_n = load_preprocessed_data(\"./preprocessed/preprocessed_norm_gray.p\")\n",
    "X_train_h,y_train,X_test_h,y_test,X_val_h,y_val,X_aug_h,y_aug_h = load_preprocessed_data(\"./preprocessed/preprocessed_hist_gray.p\")\n",
    "X_train_hae,y_train,X_test_hae,y_test,X_val_hae,y_val,X_aug_hae,y_aug_hae = load_preprocessed_data(\"./preprocessed/preprocessed_hae_gray.p\")\n",
    "X_train_ae,y_train,X_test_ae,y_test,X_val_ae,y_val,X_aug_ae,y_aug_ae = load_preprocessed_data(\"./preprocessed/preprocessed_ae_gray.p\")\n",
    "X_train_hcs,y_train,X_test_hcs,y_test,X_val_hcs,y_val,X_aug_hcs,y_aug_hcs = load_preprocessed_data(\"./preprocessed/preprocessed_hcs_gray.p\")\n",
    "X_train_cs,y_train,X_test_cs,y_test,X_val_cs,y_val,X_aug_cs,y_aug_cs = load_preprocessed_data(\"./preprocessed/preprocessed_cs_gray.p\")\n",
    "X_aug_all, y_aug_all = load_preprocessed_aug(\"./preprocessed/preprocessed_aug_all_gray.p\")"
   ]
  },
  {
   "cell_type": "code",
   "execution_count": 12,
   "metadata": {},
   "outputs": [
    {
     "name": "stdout",
     "output_type": "stream",
     "text": [
      "len(X_aug_all):117297\n",
      "len(X_all):104397\n"
     ]
    }
   ],
   "source": [
    "#augment\n",
    "#X_aug_n=y_aug_n=X_aug_h=y_aug_h=X_aug_hae=y_aug_ae=X_aug_cs=y_aug_hcs=[]\n",
    "X_aug_n = np.append(X_aug_n,X_train_n,axis=0)\n",
    "y_aug_n = np.append(y_aug_n,y_train,axis=0)\n",
    "\n",
    "X_aug_h = np.append(X_aug_h,X_train_h,axis=0)\n",
    "y_aug_h = np.append(y_aug_h,y_train,axis=0)\n",
    "\n",
    "X_aug_hae = np.append(X_aug_hae,X_train_hae,axis=0)\n",
    "y_aug_hae = np.append(y_aug_hae,y_train,axis=0)\n",
    "\n",
    "X_aug_ae = np.append(X_aug_ae,X_train_ae,axis=0)\n",
    "y_aug_ae = np.append(y_aug_ae,y_train,axis=0)\n",
    "\n",
    "X_aug_cs = np.append(X_aug_cs,X_train_cs,axis=0)\n",
    "y_aug_cs = np.append(y_aug_cs,y_train,axis=0)\n",
    "\n",
    "X_aug_hcs = np.append(X_aug_hcs,X_train_hcs,axis=0)\n",
    "y_aug_hcs = np.append(y_aug_hcs,y_train,axis=0)\n",
    "\n",
    "\n",
    "X_aug_all = np.append(X_aug_all,X_all,axis=0)\n",
    "y_aug_all = np.append(y_aug_all,y_all,axis=0)\n",
    "\n",
    "assert(len(X_aug_n) == len(y_aug_n)), \"The number of images is not equal to the number of labels.\"\n",
    "assert(len(X_aug_h) == len(y_aug_h)), \"The number of images is not equal to the number of labels.\"\n",
    "assert(len(X_aug_hae) == len(y_aug_hae)), \"The number of images is not equal to the number of labels.\"\n",
    "assert(len(X_aug_ae) == len(y_aug_ae)), \"The number of images is not equal to the number of labels.\"\n",
    "assert(len(X_aug_cs) == len(y_aug_cs)), \"The number of images is not equal to the number of labels.\"\n",
    "assert(len(X_aug_hcs) == len(y_aug_hcs)), \"The number of images is not equal to the number of labels.\"\n",
    "assert(len(X_aug_all) == len(y_aug_all)), \"The number of images is not equal to the number of labels.\"\n",
    "\n",
    "\n",
    "print(\"len(X_aug_all):\"+str(len(X_aug_all)))\n",
    "print(\"len(X_all):\"+str(len(X_all)))\n"
   ]
  },
  {
   "cell_type": "code",
   "execution_count": 117,
   "metadata": {},
   "outputs": [
    {
     "name": "stdout",
     "output_type": "stream",
     "text": [
      "len(X_aug_all):117297\n",
      "len(X_all):104397\n"
     ]
    }
   ],
   "source": [
    "\n"
   ]
  },
  {
   "cell_type": "code",
   "execution_count": 13,
   "metadata": {
    "collapsed": true
   },
   "outputs": [],
   "source": [
    "y_train_e = np_utils.to_categorical(y_train,num_classes=43)\n",
    "y_test_e = np_utils.to_categorical(y_test, num_classes=43)\n",
    "y_val_e = np_utils.to_categorical(y_val, num_classes=43)\n",
    "\n",
    "y_aug_n_e= np_utils.to_categorical(y_aug_n,num_classes=43)\n",
    "y_aug_h_e= np_utils.to_categorical(y_aug_h,num_classes=43)\n",
    "y_aug_hae_e= np_utils.to_categorical(y_aug_hae,num_classes=43)\n",
    "y_aug_ae_e= np_utils.to_categorical(y_aug_ae,num_classes=43)\n",
    "y_aug_cs_e= np_utils.to_categorical(y_aug_cs,num_classes=43)\n",
    "y_aug_hcs_e= np_utils.to_categorical(y_aug_hcs,num_classes=43)\n",
    "y_aug_all_e = np_utils.to_categorical(y_aug_all,num_classes=43)\n",
    "y_all_e = np_utils.to_categorical(y_all,num_classes=43)\n",
    "\n"
   ]
  },
  {
   "cell_type": "code",
   "execution_count": null,
   "metadata": {
    "collapsed": true
   },
   "outputs": [],
   "source": [
    "\n",
    "'''\n",
    "ae_train = X_train_ae\n",
    "ae_test = X_test_ae\n",
    "ae_val = X_val_ae\n",
    "hae_train = X_train_hae\n",
    "hae_test = X_test_hae\n",
    "hae_val = X_val\n",
    "cs_train =X_train_cs\n",
    "cs_test = X_test_cs\n",
    "cs_val = X_test_cs\n",
    "hcs_train=X_train_hcs\n",
    "hcs_test=X_train_hcs\n",
    "hcs_val = X_train_hcs\n",
    "'''\n"
   ]
  },
  {
   "cell_type": "code",
   "execution_count": null,
   "metadata": {
    "collapsed": true
   },
   "outputs": [],
   "source": []
  },
  {
   "cell_type": "code",
   "execution_count": null,
   "metadata": {
    "collapsed": true
   },
   "outputs": [],
   "source": []
  },
  {
   "cell_type": "code",
   "execution_count": 14,
   "metadata": {
    "collapsed": true
   },
   "outputs": [],
   "source": [
    "def plot_image(image, nr, nc, i, label=\"\"):\n",
    "    \"\"\"\n",
    "    Plot a single image.\n",
    "    If 'i' is greater than 0, then plot this image as \n",
    "    a subplot of a larger plot.\n",
    "    \"\"\"\n",
    "    \n",
    "    if i>0: \n",
    "        plt.subplot(nr, nc, i)\n",
    "    else:\n",
    "        plt.figure(figsize=(3*nr,nc))\n",
    "        \n",
    "    plt.xticks(())\n",
    "    plt.yticks(())\n",
    "    plt.xlabel(label)\n",
    "    plt.tight_layout()\n",
    "    plt.imshow(image, cmap=\"gray\")\n",
    "\n",
    "\n",
    "def plot_3_datasets(dataset1, dataset2, dataset3, count=0):\n",
    "    if count==0 :\n",
    "        count = len(dataset1)\n",
    "    nc = 3\n",
    "    nr = count\n",
    "    for i in range(count):\n",
    "\n",
    "        plot_image(dataset1[i].squeeze(), nr, nc, 3*i+1)\n",
    "        plot_image(dataset2[i].squeeze, nr, nc, 3*i+2)\n",
    "        plot_image(dataset2[i].squeeze, nr, nc, 3*i+3)\n",
    "\n",
    "            \n",
    "#plot_2_datasets(np.asarray(dark[0:4]), conv_to_grayscale(np.asarray(dark[0:4])))    \n",
    "    \n",
    "def plot_2_datasets(dataset1, dataset2, count=0):\n",
    "    \n",
    "        if count==0 :\n",
    "            count = len(dataset1)\n",
    "        \n",
    "      \n",
    "        nc = 2\n",
    "        nr = count\n",
    "        \n",
    "        #plt.figure(figsize=(nr,nc))\n",
    "        for i in range(count):\n",
    "        \n",
    "            plot_image(dataset1[i].squeeze(), nr, nc, 2*i+1)\n",
    "            \n",
    "            image = dataset2[i].squeeze()\n",
    "            plot_image(image, nr, nc, 2*i+2)\n",
    "            #print(\"image mean=\", image.mean())\n",
    "\n",
    "#plot_2_datasets(np.asarray(dark[0:4]), conv_to_grayscale(np.asarray(dark[0:4])))        \n",
    "    \n",
    "def plot_images(img_class, images, ncol, desc):\n",
    "    \"\"\"\n",
    "    Plot all of the images in the list 'class_images'\n",
    "    \"\"\"\n",
    "    nimages = len(images)\n",
    "    nrow = math.ceil(nimages/ncol)\n",
    "    plt.figure(figsize=(3*nrow,ncol))\n",
    "    if (img_class == -1):\n",
    "        print(\"There are {} images in the {} dataset\".format(nimages, desc))\n",
    "    else:\n",
    "        print(\"class {} has {} images in the {} dataset\".format(img_class,nimages, desc))\n",
    "    for image,i in zip(images, range(nimages)):\n",
    "        #print(i)\n",
    "        plot_image(image.squeeze(), nrow, ncol, i+1)\n",
    "        \n",
    "#plot_images(0,X_train[0:43],9,\"\")\n",
    "from scipy import misc\n",
    "def get_image_per_class(X, y):\n",
    "    \"\"\" \n",
    "    Plot a representatative of each image class in a 5x10 image grid\n",
    "\n",
    "    The training dataset is traversed until a sample of each class\n",
    "    is encountered and cached.\n",
    "\n",
    "    Another loop then travereses all of the cached images and displays them.\n",
    "    The two loops are required because we want to display the image samples\n",
    "    in class order, not in the order they are encountered.\n",
    "    \"\"\"\n",
    "    signs_left = n_classes\n",
    "    class_images = [None for x in range(signs_left)]\n",
    "\n",
    "    i = 0\n",
    "    while signs_left>0:\n",
    "        if class_images[y[i]] == None:\n",
    "            image = X[i]\n",
    "            class_images[y[i]] = image\n",
    "            signs_left -= 1\n",
    "        i += 1\n",
    "    return class_images\n",
    "\n",
    "def summarize_stats(class_images, y_train, y_valid):\n",
    "    \"\"\"\n",
    "    'class_images' is a list of images, one per class.\n",
    "    This function plots this images list, and print underneath each one its class, \n",
    "    the number of training samples, the percent of training samples, \n",
    "    and the percent of validation samples\n",
    "    \"\"\"\n",
    "    # Create a histogram of the classes\n",
    "    y_train_hist = np.bincount(y_train)\n",
    "    y_valid_hist = np.bincount(y_valid)\n",
    "\n",
    "    nr = 5; nc = 9\n",
    "    plt.figure(figsize=(3*nr,nc))\n",
    "    for image,i in zip(class_images, range(len(class_images))):\n",
    "        label = (str(i) + \"\\n\"                                            # class\n",
    "              + str(y_train_hist[i]) + \"\\n\"                               # no. of training samples\n",
    "              + \"{:.1f}%\".format(100 * y_train_hist[i]/sum(y_train_hist))  + \"\\n\"   # representation in training samples\n",
    "              + \"{:.1f}%\".format(100 * y_valid_hist[i]/sum(y_valid_hist)))     # representation in validation samples\n",
    "        plot_image(image.squeeze(), nr, nc, i+1, label)\n",
    "\n",
    "        "
   ]
  },
  {
   "cell_type": "code",
   "execution_count": 15,
   "metadata": {
    "collapsed": true
   },
   "outputs": [],
   "source": [
    "def get_num_instances(img_class, y):\n",
    "    \"\"\"\n",
    "    Return the number of instances for 'img_class' in dataset 'y'\n",
    "    \"\"\"\n",
    "    y_hist = np.bincount(y)\n",
    "    n_instances = y_hist[img_class]\n",
    "    return n_instances\n",
    "\n",
    "def get_class_images(img_class, X, y):\n",
    "    \"\"\"\n",
    "    Return a list containing all of the images of class 'img_class', \n",
    "    from dataset X\n",
    "    \"\"\"\n",
    "    n_instances = get_num_instances(img_class, y)\n",
    "    class_images = []\n",
    "    i = 0\n",
    "    while n_instances>0:\n",
    "        if y[i] == img_class:\n",
    "            image = X[i].squeeze()\n",
    "            class_images.append(image)\n",
    "            n_instances -= 1\n",
    "        i += 1\n",
    "    return class_images\n",
    "\n",
    "import math\n",
    "def plot_class_images(img_class, class_images, ncol, desc):\n",
    "    \"\"\"\n",
    "    Plot all of the images in the list 'class_images'\n",
    "    \"\"\"\n",
    "    nimages = len(class_images)\n",
    "    nrow = math.ceil(nimages/ncol)\n",
    "    #plt.figure(figsize=(nrow,ncol))\n",
    "    print(\"class {} has {} images in the {} dataset\".format(img_class,nimages, desc))\n",
    "    for image,i in zip(class_images, range(nimages)):\n",
    "        plot_image(image, nrow, ncol, i)\n",
    "    \n",
    "def plot_class(img_class, X, y, ncol, desc):\n",
    "    \"\"\"\n",
    "    Plot the images in class 'img_class' from dataset X.\n",
    "    \"\"\"\n",
    "    class_images = get_class_images(img_class, X, y)\n",
    "    plot_class_images(img_class, class_images, ncol,  desc)"
   ]
  },
  {
   "cell_type": "code",
   "execution_count": 16,
   "metadata": {
    "collapsed": true
   },
   "outputs": [],
   "source": [
    "def get_num_instances(img_class, y):\n",
    "    \"\"\"\n",
    "    Return the number of instances for 'img_class' in dataset 'y'\n",
    "    \"\"\"\n",
    "    y_hist = np.bincount(y)\n",
    "    n_instances = y_hist[img_class]\n",
    "    return n_instances\n",
    "\n",
    "def get_imgs_for_class(img_class, X, y,count=0):\n",
    "    \"\"\"\n",
    "    Return a list containing all of the images of class 'img_class', \n",
    "    from dataset X\n",
    "    \"\"\"\n",
    "    n_instances = get_num_instances(img_class, y)\n",
    "    if (count < n_instances and count > 0):\n",
    "        n_instances = count\n",
    "        print(n_instances)   \n",
    "    class_images = []\n",
    "    i = 0\n",
    "    while n_instances>0:\n",
    "        if y[i] == img_class:\n",
    "            image = X[i].squeeze()\n",
    "            class_images.append(image)\n",
    "            n_instances -= 1\n",
    "        i += 1\n",
    "    return class_images\n",
    "\n",
    "def get_imgs_for_classes(img_classes, X, y, count=-1):\n",
    "    classes_imgs = []\n",
    "    print(type(img_classes))\n",
    "    print(len(img_classes))\n",
    "    print(img_classes[1])\n",
    "    print(img_classes)\n",
    "    for i  in range(len(img_classes)) :\n",
    "        class_imgs = get_class_images(img_classes[i],X,y)\n",
    "        print(len(class_imgs))\n",
    "        print(type(class_imgs))\n",
    "\n",
    "        classes_imgs.extend(class_imgs)\n",
    "    return classes_imgs\n",
    "        \n",
    "#classes_imgs = get_imgs_for_classes((0,42), X_train, y_train)  \n",
    "#print(len(classes_imgs))     \n",
    "#class_imgs = get_class_images(0,X_train, y_train)\n",
    "#class_imgs_hcs = get_class_images(0,X_train_hcs, y_train)\n",
    "\n",
    "#class_mgs = get_class_images(0,X_train, y_train)\n"
   ]
  },
  {
   "cell_type": "code",
   "execution_count": null,
   "metadata": {
    "collapsed": true
   },
   "outputs": [],
   "source": [
    "\n"
   ]
  },
  {
   "cell_type": "code",
   "execution_count": null,
   "metadata": {
    "collapsed": true
   },
   "outputs": [],
   "source": [
    "plot_images(0,class_imgs_cs[:20],5,\"\")"
   ]
  },
  {
   "cell_type": "code",
   "execution_count": null,
   "metadata": {
    "collapsed": true
   },
   "outputs": [],
   "source": [
    "plot_images(0,class_imgs_hae[:20],5,\"\")"
   ]
  },
  {
   "cell_type": "code",
   "execution_count": null,
   "metadata": {
    "collapsed": true
   },
   "outputs": [],
   "source": [
    "plot_images(0,class_imgs_hae[:20],5,\"\")"
   ]
  },
  {
   "cell_type": "code",
   "execution_count": null,
   "metadata": {
    "collapsed": true
   },
   "outputs": [],
   "source": [
    "plot_images(0,class_imgs_test_hae[:20],5,\"\")"
   ]
  },
  {
   "cell_type": "code",
   "execution_count": null,
   "metadata": {
    "collapsed": true
   },
   "outputs": [],
   "source": [
    "plot_images(0,class_imgs_hcs[:20],5,\"\")"
   ]
  },
  {
   "cell_type": "code",
   "execution_count": null,
   "metadata": {
    "collapsed": true
   },
   "outputs": [],
   "source": [
    "plot_images(0,class_imgs_test_hcs[:20],5,\"\")"
   ]
  },
  {
   "cell_type": "code",
   "execution_count": 17,
   "metadata": {},
   "outputs": [
    {
     "data": {
      "image/png": "[encoded data removed]",
      "text/plain": [
       "<matplotlib.figure.Figure at 0x7fb5066972e8>"
      ]
     },
     "metadata": {},
     "output_type": "display_data"
    }
   ],
   "source": [
    "\n",
    "\n",
    "\n",
    "\n",
    "plot_image(X_train[0],1,8,1,\"\")\n",
    "plot_image(X_train_g[0].squeeze(),1,8,2,\"\")\n",
    "plot_image(X_train_h[0].squeeze(),1,8,3,\"\")\n",
    "plot_image(X_train_n[0].squeeze(),1,8,4,\"\")\n",
    "plot_image(X_train_hae[0].squeeze(),1,8,5,\"\")\n",
    "plot_image(X_train_ae[0].squeeze(),1,8,6,\"\")\n",
    "plot_image(X_train_cs[0].squeeze(),1,8,7,\"\")\n",
    "plot_image(X_train_hcs[0].squeeze(),1,8,8,\"\")\n"
   ]
  },
  {
   "cell_type": "code",
   "execution_count": null,
   "metadata": {
    "collapsed": true
   },
   "outputs": [],
   "source": [
    "plot_images(-1,X_test_h[:20],5,\"\" )"
   ]
  },
  {
   "cell_type": "markdown",
   "metadata": {},
   "source": [
    "# SPATIAL TRANSFORMER "
   ]
  },
  {
   "cell_type": "code",
   "execution_count": 18,
   "metadata": {
    "collapsed": true
   },
   "outputs": [],
   "source": [
    "from keras.layers.core import Layer\n",
    "import tensorflow as tf\n",
    "\n",
    "class SpatialTransformer(Layer):\n",
    "    \"\"\"Spatial Transformer Layer\n",
    "    Implements a spatial transformer layer as described in [1]_.\n",
    "    Borrowed from [2]_:\n",
    "    downsample_fator : float\n",
    "        A value of 1 will keep the orignal size of the image.\n",
    "        Values larger than 1 will down sample the image. Values below 1 will\n",
    "        upsample the image.\n",
    "        example image: height= 100, width = 200\n",
    "        downsample_factor = 2\n",
    "        output image will then be 50, 100\n",
    "    References\n",
    "    ----------\n",
    "    .. [1]  Spatial Transformer Networks\n",
    "            Max Jaderberg, Karen Simonyan, Andrew Zisserman, Koray Kavukcuoglu\n",
    "            Submitted on 5 Jun 2015\n",
    "    .. [2]  https://github.com/skaae/transformer_network/blob/master/transformerlayer.py\n",
    "    .. [3]  https://github.com/EderSantana/seya/blob/keras1/seya/layers/attention.py\n",
    "    \"\"\"\n",
    "\n",
    "    def __init__(self,\n",
    "                 localization_net,\n",
    "                 output_size,\n",
    "                 **kwargs):\n",
    "        self.locnet = localization_net\n",
    "        self.output_size = output_size\n",
    "        super(SpatialTransformer, self).__init__(**kwargs)\n",
    "\n",
    "    def build(self, input_shape):\n",
    "        self.locnet.build(input_shape)\n",
    "        self.trainable_weights = self.locnet.trainable_weights\n",
    "        #self.regularizers = self.locnet.regularizers //NOT SUER ABOUT THIS, THERE IS NO MORE SUCH PARAMETR AT self.locnet\n",
    "        #self.constraints = self.locnet.constraints\n",
    "\n",
    "    def compute_output_shape(self, input_shape):\n",
    "        output_size = self.output_size\n",
    "        return (None,\n",
    "                int(output_size[0]),\n",
    "                int(output_size[1]),\n",
    "                int(input_shape[-1]))\n",
    "\n",
    "    def call(self, X, mask=None):\n",
    "        affine_transformation = self.locnet.call(X)\n",
    "        output = self._transform(affine_transformation, X, self.output_size)\n",
    "        return output\n",
    "\n",
    "    def _repeat(self, x, num_repeats):\n",
    "        ones = tf.ones((1, num_repeats), dtype='int32')\n",
    "        x = tf.reshape(x, shape=(-1,1))\n",
    "        x = tf.matmul(x, ones)\n",
    "        return tf.reshape(x, [-1])\n",
    "\n",
    "    def _interpolate(self, image, x, y, output_size):\n",
    "        batch_size = tf.shape(image)[0]\n",
    "        height = tf.shape(image)[1]\n",
    "        width = tf.shape(image)[2]\n",
    "        num_channels = tf.shape(image)[3]\n",
    "\n",
    "        x = tf.cast(x , dtype='float32')\n",
    "        y = tf.cast(y , dtype='float32')\n",
    "\n",
    "        height_float = tf.cast(height, dtype='float32')\n",
    "        width_float = tf.cast(width, dtype='float32')\n",
    "\n",
    "        output_height = output_size[0]\n",
    "        output_width  = output_size[1]\n",
    "\n",
    "        x = .5*(x + 1.0)*(width_float)\n",
    "        y = .5*(y + 1.0)*(height_float)\n",
    "\n",
    "        x0 = tf.cast(tf.floor(x), 'int32')\n",
    "        x1 = x0 + 1\n",
    "        y0 = tf.cast(tf.floor(y), 'int32')\n",
    "        y1 = y0 + 1\n",
    "\n",
    "        max_y = tf.cast(height - 1, dtype='int32')\n",
    "        max_x = tf.cast(width - 1,  dtype='int32')\n",
    "        zero = tf.zeros([], dtype='int32')\n",
    "\n",
    "        x0 = tf.clip_by_value(x0, zero, max_x)\n",
    "        x1 = tf.clip_by_value(x1, zero, max_x)\n",
    "        y0 = tf.clip_by_value(y0, zero, max_y)\n",
    "        y1 = tf.clip_by_value(y1, zero, max_y)\n",
    "\n",
    "        flat_image_dimensions = width*height\n",
    "        pixels_batch = tf.range(batch_size)*flat_image_dimensions\n",
    "        flat_output_dimensions = output_height*output_width\n",
    "        base = self._repeat(pixels_batch, flat_output_dimensions)\n",
    "        base_y0 = base + y0*width\n",
    "        base_y1 = base + y1*width\n",
    "        indices_a = base_y0 + x0\n",
    "        indices_b = base_y1 + x0\n",
    "        indices_c = base_y0 + x1\n",
    "        indices_d = base_y1 + x1\n",
    "\n",
    "        flat_image = tf.reshape(image, shape=(-1, num_channels))\n",
    "        flat_image = tf.cast(flat_image, dtype='float32')\n",
    "        pixel_values_a = tf.gather(flat_image, indices_a)\n",
    "        pixel_values_b = tf.gather(flat_image, indices_b)\n",
    "        pixel_values_c = tf.gather(flat_image, indices_c)\n",
    "        pixel_values_d = tf.gather(flat_image, indices_d)\n",
    "\n",
    "        x0 = tf.cast(x0, 'float32')\n",
    "        x1 = tf.cast(x1, 'float32')\n",
    "        y0 = tf.cast(y0, 'float32')\n",
    "        y1 = tf.cast(y1, 'float32')\n",
    "\n",
    "        area_a = tf.expand_dims(((x1 - x) * (y1 - y)), 1)\n",
    "        area_b = tf.expand_dims(((x1 - x) * (y - y0)), 1)\n",
    "        area_c = tf.expand_dims(((x - x0) * (y1 - y)), 1)\n",
    "        area_d = tf.expand_dims(((x - x0) * (y - y0)), 1)\n",
    "        output = tf.add_n([area_a*pixel_values_a,\n",
    "                           area_b*pixel_values_b,\n",
    "                           area_c*pixel_values_c,\n",
    "                           area_d*pixel_values_d])\n",
    "        return output\n",
    "\n",
    "    def _meshgrid(self, height, width):\n",
    "        x_linspace = tf.linspace(-1., 1., width)\n",
    "        y_linspace = tf.linspace(-1., 1., height)\n",
    "        x_coordinates, y_coordinates = tf.meshgrid(x_linspace, y_linspace)\n",
    "        x_coordinates = tf.reshape(x_coordinates, [-1])\n",
    "        y_coordinates = tf.reshape(y_coordinates, [-1])\n",
    "        ones = tf.ones_like(x_coordinates)\n",
    "        indices_grid = tf.concat([x_coordinates, y_coordinates, ones], 0)\n",
    "        return indices_grid\n",
    "\n",
    "    def _transform(self, affine_transformation, input_shape, output_size):\n",
    "        batch_size = tf.shape(input_shape)[0]\n",
    "        height = tf.shape(input_shape)[1]\n",
    "        width = tf.shape(input_shape)[2]\n",
    "        num_channels = tf.shape(input_shape)[3]\n",
    "\n",
    "        affine_transformation = tf.reshape(affine_transformation, shape=(batch_size,2,3))\n",
    "\n",
    "        affine_transformation = tf.reshape(affine_transformation, (-1, 2, 3))\n",
    "        affine_transformation = tf.cast(affine_transformation, 'float32')\n",
    "\n",
    "        width = tf.cast(width, dtype='float32')\n",
    "        height = tf.cast(height, dtype='float32')\n",
    "        output_height = output_size[0]\n",
    "        output_width = output_size[1]\n",
    "        indices_grid = self._meshgrid(output_height, output_width)\n",
    "        indices_grid = tf.expand_dims(indices_grid, 0)\n",
    "        indices_grid = tf.reshape(indices_grid, [-1]) # flatten?\n",
    "\n",
    "        indices_grid = tf.tile(indices_grid, tf.stack([batch_size]))\n",
    "        indices_grid = tf.reshape(indices_grid, (batch_size, 3, -1))\n",
    "\n",
    "        transformed_grid = tf.matmul(affine_transformation, indices_grid)\n",
    "        x_s = tf.slice(transformed_grid, [0, 0, 0], [-1, 1, -1])\n",
    "        y_s = tf.slice(transformed_grid, [0, 1, 0], [-1, 1, -1])\n",
    "        x_s_flatten = tf.reshape(x_s, [-1])\n",
    "        y_s_flatten = tf.reshape(y_s, [-1])\n",
    "\n",
    "        transformed_image = self._interpolate(input_shape,\n",
    "                                                x_s_flatten,\n",
    "                                                y_s_flatten,\n",
    "                                                output_size)\n",
    "\n",
    "        transformed_image = tf.reshape(transformed_image, shape=(batch_size,\n",
    "                                                                output_height,\n",
    "                                                                output_width,\n",
    "                                                                num_channels))\n",
    "        return transformed_image\n"
   ]
  },
  {
   "cell_type": "markdown",
   "metadata": {},
   "source": [
    "# LOCNET"
   ]
  },
  {
   "cell_type": "code",
   "execution_count": 19,
   "metadata": {
    "collapsed": true
   },
   "outputs": [],
   "source": [
    "def locnet():\n",
    "\n",
    "    # initial weights\n",
    "    b = np.zeros((2, 3), dtype='float32')\n",
    "    b[0, 0] = 1\n",
    "    b[1, 1] = 1\n",
    "    W = np.zeros((50, 6), dtype='float32')\n",
    "    weights = [W, b.flatten()]\n",
    "\n",
    "    input_shape = (32,32,1)\n",
    "\n",
    "    #locnet\n",
    "    locnet = Sequential()\n",
    "    locnet.add(MaxPooling2D(pool_size=(2,2), input_shape=input_shape))\n",
    "    locnet.add(Conv2D(20, (5, 5)))\n",
    "    locnet.add(MaxPooling2D(pool_size=(2,2)))\n",
    "    locnet.add(Conv2D(20, (5, 5)))\n",
    "\n",
    "    locnet.add(Flatten())\n",
    "    locnet.add(Dense(50))\n",
    "    locnet.add(LeakyReLU(alpha=0.5))\n",
    "    locnet.add(Dense(6, weights=weights))\n",
    "    return locnet\n",
    "    #locnet.add(Activation('sigmoid'))"
   ]
  },
  {
   "cell_type": "markdown",
   "metadata": {},
   "source": [
    "#  CNN model "
   ]
  },
  {
   "cell_type": "code",
   "execution_count": 20,
   "metadata": {
    "collapsed": true
   },
   "outputs": [],
   "source": [
    "def cnn_model(flag_BN=False, flag_STN=False):\n",
    "\n",
    "    \n",
    "    model = Sequential()\n",
    "    if flag_STN == True:\n",
    "        lnet = locnet()\n",
    "        print(lnet)\n",
    "        model.add(SpatialTransformer(localization_net=lnet,\n",
    "                            input_shape=(32,32,1),output_size=(32,32)))\n",
    "    model.add(Conv2D(32, (3, 3), padding='same',\n",
    "                     input_shape=( 32, 32,1)))                    \n",
    "    #model.add(Conv2D(32, (3, 3), activation='relu'))\n",
    "    if flag_BN == True:\n",
    "        model.add(BatchNormalization())\n",
    "        \n",
    "    model.add(LeakyReLU(alpha=0.5))\n",
    "    model.add(MaxPooling2D(pool_size=(2, 2)))\n",
    "    model.add(Dropout(0.2))\n",
    "\n",
    "    model.add(Conv2D(64, (3, 3), padding='same'))\n",
    "\n",
    "    #model.add(Conv2D(64, (3, 3), activation='relu'))\n",
    "    if flag_BN == True:\n",
    "        model.add(BatchNormalization())  \n",
    "    model.add(LeakyReLU(alpha=0.5))\n",
    "    model.add(MaxPooling2D(pool_size=(2, 2)))\n",
    "    model.add(Dropout(0.2))\n",
    "\n",
    "    model.add(Conv2D(128, (3, 3), padding='same'))\n",
    "    #model.add(Conv2D(128, (3, 3), activation='relu'))\n",
    "    if flag_BN == True:\n",
    "        model.add(BatchNormalization())  \n",
    "    model.add(LeakyReLU(alpha=0.5))\n",
    "    model.add(MaxPooling2D(pool_size=(2, 2)))\n",
    "    model.add(Dropout(0.2))\n",
    "\n",
    "    model.add(Flatten())\n",
    "    model.add(Dense(1024))\n",
    "    if flag_BN == True:\n",
    "        model.add(BatchNormalization())  \n",
    "    model.add(LeakyReLU(alpha=0.5))\n",
    "    model.add(Dropout(0.5))\n",
    "    model.add(Dense(43, activation='softmax'))\n",
    "\n",
    "    model.summary()\n",
    "    return model"
   ]
  },
  {
   "cell_type": "code",
   "execution_count": 21,
   "metadata": {},
   "outputs": [
    {
     "name": "stdout",
     "output_type": "stream",
     "text": [
      "_________________________________________________________________\n",
      "Layer (type)                 Output Shape              Param #   \n",
      "=================================================================\n",
      "conv2d_1 (Conv2D)            (None, 32, 32, 16)        32        \n",
      "_________________________________________________________________\n",
      "max_pooling2d_1 (MaxPooling2 (None, 16, 16, 16)        0         \n",
      "_________________________________________________________________\n",
      "conv2d_2 (Conv2D)            (None, 14, 14, 64)        9280      \n",
      "_________________________________________________________________\n",
      "max_pooling2d_2 (MaxPooling2 (None, 7, 7, 64)          0         \n",
      "_________________________________________________________________\n",
      "conv2d_3 (Conv2D)            (None, 5, 5, 128)         73856     \n",
      "_________________________________________________________________\n",
      "max_pooling2d_3 (MaxPooling2 (None, 5, 5, 128)         0         \n",
      "_________________________________________________________________\n",
      "flatten_1 (Flatten)          (None, 3200)              0         \n",
      "_________________________________________________________________\n",
      "dense_1 (Dense)              (None, 128)               409728    \n",
      "_________________________________________________________________\n",
      "activation_1 (Activation)    (None, 128)               0         \n",
      "_________________________________________________________________\n",
      "dense_2 (Dense)              (None, 64)                8256      \n",
      "_________________________________________________________________\n",
      "activation_2 (Activation)    (None, 64)                0         \n",
      "_________________________________________________________________\n",
      "dense_3 (Dense)              (None, 6)                 390       \n",
      "=================================================================\n",
      "Total params: 501,542\n",
      "Trainable params: 501,542\n",
      "Non-trainable params: 0\n",
      "_________________________________________________________________\n",
      "<keras.models.Sequential object at 0x7fb506697630>\n"
     ]
    }
   ],
   "source": [
    "def deep_locnet(input_shape=(32,32,1)):\n",
    "\n",
    " \n",
    "    b = np.zeros((2, 3), dtype='float32')\n",
    "    b[0, 0] = 1\n",
    "    b[1, 1] = 1\n",
    "    W = np.zeros((64, 6), dtype='float32')\n",
    "    weights = [W, b.flatten()]\n",
    "    locnet = Sequential()\n",
    "\n",
    "    locnet.add(Conv2D(16, (1,1), padding='valid', input_shape=input_shape))\n",
    "    locnet.add(MaxPooling2D(pool_size=(2, 2)))\n",
    "    locnet.add(Conv2D(64, (3,3), padding='valid'))\n",
    "    locnet.add(MaxPooling2D(pool_size=(2, 2)))\n",
    "    locnet.add(Conv2D(128, (3, 3), padding='valid'))\n",
    "    locnet.add(MaxPooling2D(pool_size=(1, 1)))\n",
    "   \n",
    "\n",
    "\n",
    "    locnet.add(Flatten())\n",
    "    locnet.add(Dense(128))\n",
    "    locnet.add(Activation('elu'))\n",
    "    locnet.add(Dense(64))\n",
    "    locnet.add(Activation('elu'))\n",
    "    locnet.add(Dense(6, weights=weights))\n",
    "    locnet.summary()\n",
    "    return locnet\n",
    "l = deep_locnet()\n",
    "print(l)"
   ]
  },
  {
   "cell_type": "code",
   "execution_count": 22,
   "metadata": {
    "collapsed": true
   },
   "outputs": [],
   "source": [
    "def deep_cnn_model(flag_BN=True, flag_STN=True):\n",
    "\n",
    "    \n",
    "    model = Sequential()\n",
    " \n",
    "    if flag_STN == True:\n",
    "        lnet = deep_locnet()\n",
    "        print(lnet)\n",
    "        model.add(SpatialTransformer(localization_net=lnet, input_shape=(32,32,1),\n",
    "                           output_size=(32,32)))\n",
    "    \n",
    "    model.add(Conv2D(32, (3, 3), padding='same',\n",
    "                     input_shape=( 32, 32,1)))                    \n",
    "    #model.add(Conv2D(32, (3, 3), activation='relu'))\n",
    "    if flag_BN == True:\n",
    "        model.add(BatchNormalization())\n",
    "        \n",
    "    model.add(LeakyReLU(alpha=0.5))\n",
    "    model.add(MaxPooling2D(pool_size=(2, 2)))\n",
    "    model.add(Dropout(0.2))\n",
    "\n",
    "  \n",
    "    model.add(Conv2D(64, (3, 3), padding='same'))\n",
    "\n",
    "    #model.add(Conv2D(64, (3, 3), activation='relu'))\n",
    "    if flag_BN == True:\n",
    "        model.add(BatchNormalization())  \n",
    "    model.add(LeakyReLU(alpha=0.5))\n",
    "    model.add(MaxPooling2D(pool_size=(2, 2)))\n",
    "    model.add(Dropout(0.2))\n",
    "\n",
    "    model.add(Conv2D(128, (3, 3), padding='same'))\n",
    "    #model.add(Conv2D(128, (3, 3), activation='relu'))\n",
    "    if flag_BN == True:\n",
    "        model.add(BatchNormalization())  \n",
    "    model.add(LeakyReLU(alpha=0.5))\n",
    "    model.add(MaxPooling2D(pool_size=(2, 2)))\n",
    "    model.add(Dropout(0.2))\n",
    "    \n",
    "    model.add(Conv2D(256, (3, 3), padding='same'))\n",
    "    #model.add(Conv2D(128, (3, 3), activation='relu'))\n",
    "    if flag_BN == True:\n",
    "        model.add(BatchNormalization())  \n",
    "    model.add(LeakyReLU(alpha=0.5))\n",
    "    model.add(MaxPooling2D(pool_size=(2, 2)))\n",
    "    model.add(Dropout(0.2))\n",
    "\n",
    "    model.add(Flatten())\n",
    "    model.add(Dense(512))\n",
    "    if flag_BN == True:\n",
    "        model.add(BatchNormalization())  \n",
    "    model.add(LeakyReLU(alpha=0.5))\n",
    "    model.add(Dropout(0.5))\n",
    "    model.add(Dense(43, activation='softmax'))\n",
    "\n",
    "    #model.summary()\n",
    "    return model"
   ]
  },
  {
   "cell_type": "markdown",
   "metadata": {},
   "source": [
    "# CNN  with Batch Normalization"
   ]
  },
  {
   "cell_type": "code",
   "execution_count": 124,
   "metadata": {},
   "outputs": [
    {
     "name": "stdout",
     "output_type": "stream",
     "text": [
      "_________________________________________________________________\n",
      "Layer (type)                 Output Shape              Param #   \n",
      "=================================================================\n",
      "conv2d_120 (Conv2D)          (None, 32, 32, 16)        32        \n",
      "_________________________________________________________________\n",
      "max_pooling2d_115 (MaxPoolin (None, 16, 16, 16)        0         \n",
      "_________________________________________________________________\n",
      "conv2d_121 (Conv2D)          (None, 14, 14, 64)        9280      \n",
      "_________________________________________________________________\n",
      "max_pooling2d_116 (MaxPoolin (None, 7, 7, 64)          0         \n",
      "_________________________________________________________________\n",
      "conv2d_122 (Conv2D)          (None, 5, 5, 128)         73856     \n",
      "_________________________________________________________________\n",
      "max_pooling2d_117 (MaxPoolin (None, 5, 5, 128)         0         \n",
      "_________________________________________________________________\n",
      "flatten_40 (Flatten)         (None, 3200)              0         \n",
      "_________________________________________________________________\n",
      "dense_88 (Dense)             (None, 128)               409728    \n",
      "_________________________________________________________________\n",
      "activation_19 (Activation)   (None, 128)               0         \n",
      "_________________________________________________________________\n",
      "dense_89 (Dense)             (None, 64)                8256      \n",
      "_________________________________________________________________\n",
      "activation_20 (Activation)   (None, 64)                0         \n",
      "_________________________________________________________________\n",
      "dense_90 (Dense)             (None, 6)                 390       \n",
      "=================================================================\n",
      "Total params: 501,542\n",
      "Trainable params: 501,542\n",
      "Non-trainable params: 0\n",
      "_________________________________________________________________\n",
      "<keras.models.Sequential object at 0x7efdc94b0b00>\n"
     ]
    }
   ],
   "source": [
    "l = deep_cnn_model(flag_BN=True,flag_STN=True)"
   ]
  },
  {
   "cell_type": "code",
   "execution_count": 125,
   "metadata": {
    "collapsed": true
   },
   "outputs": [],
   "source": [
    "\n",
    "\n",
    "#y_aug = np_utils.to_categorical(y_aug,num_classes=43)"
   ]
  },
  {
   "cell_type": "code",
   "execution_count": 126,
   "metadata": {},
   "outputs": [
    {
     "name": "stdout",
     "output_type": "stream",
     "text": [
      "(34799, 32, 32, 1)\n",
      "(34799, 43)\n",
      "(12630, 32, 32, 1)\n",
      "(12630, 43)\n",
      "(4410, 32, 32, 1)\n",
      "(4410, 43)\n"
     ]
    }
   ],
   "source": [
    "#def print_shape(X_tr,y_tr,X_te,y_te,X_va,y_va)\n",
    "print(X_train_g.shape)\n",
    "print(y_train_e.shape)\n",
    "print(X_test_g.shape)\n",
    "print(y_test_e.shape)\n",
    "print(X_val_g.shape)\n",
    "print(y_val_e.shape)\n",
    "\n"
   ]
  },
  {
   "cell_type": "code",
   "execution_count": 55,
   "metadata": {
    "collapsed": true
   },
   "outputs": [],
   "source": [
    "\n",
    "\n",
    "from keras.callbacks import LearningRateScheduler, ModelCheckpoint,ReduceLROnPlateau\n",
    "\n",
    "\n",
    "\n",
    "    if flag_aug == True:\n",
    "        label = \"_\"+str(i)+\"_aug_\"\n",
    "    else:\n",
    "        label = \"_\"+str(i)+\"_\"\n",
    "    if flag_BN==False:\n",
    "        label = label+\"nobn_\"\n",
    "        \n",
    "    batch_size = 512\n",
    "    epochs = 15\n",
    "    #model_g = cnn_model(flag_BN=True)\n",
    "    lr=0.01\n",
    "    adam = Adam(lr=lr)\n",
    "    #def lr_schedule(epochs):\n",
    "    #    return lr * (0.01 ** int(epochs / 10))\n",
    "    model.compile(loss='categorical_crossentropy',\n",
    "                  optimizer=adam,\n",
    "                  metrics=['accuracy'])\n",
    "     \n",
    "    checkpointer = ModelCheckpoint(filepath=\"weights_\"+label+\".hdf5\", verbose=1, save_best_only=True, save_weights_only=True)\n",
    "    reduce_lr = ReduceLROnPlateau(monitor='val_loss', factor=0.2,\n",
    "              patience=3, min_lr=0.0001)\n",
    "    try:\n",
    "        print(\"Train model\")\n",
    "\n",
    "        history =  model.fit(X_tr, y_tr,\n",
    "                    batch_size=batch_size,\n",
    "                    epochs=epochs,\n",
    "                    validation_data=(X_v, y_v),\n",
    "                    shuffle=True,\n",
    "                    callbacks=[checkpointer])\n",
    "                    #callbacks=[checkpointer,LearningRateScheduler(lr_schedule)])\n",
    "                    #callbacks=[checkpointer,reduce_lr])\n",
    "\n",
    "    except KeyboardInterrupt:\n",
    "        print(\"training interrupted\")\n",
    "\n",
    "    \n",
    "    #model.load_weights(\"weights_\"+label+\".hdf5\")\n",
    "    evaluate = model.evaluate(X_te,y_te)\n",
    "    print(\"---------------------------------------\")\n",
    "    print(evaluate)\n",
    "    \n",
    "    return history, model, evaluate\n"
   ]
  },
  {
   "cell_type": "code",
   "execution_count": 142,
   "metadata": {},
   "outputs": [
    {
     "name": "stdout",
     "output_type": "stream",
     "text": [
      "_________________________________________________________________\n",
      "Layer (type)                 Output Shape              Param #   \n",
      "=================================================================\n",
      "conv2d_169 (Conv2D)          (None, 32, 32, 16)        32        \n",
      "_________________________________________________________________\n",
      "max_pooling2d_164 (MaxPoolin (None, 16, 16, 16)        0         \n",
      "_________________________________________________________________\n",
      "conv2d_170 (Conv2D)          (None, 14, 14, 64)        9280      \n",
      "_________________________________________________________________\n",
      "max_pooling2d_165 (MaxPoolin (None, 7, 7, 64)          0         \n",
      "_________________________________________________________________\n",
      "conv2d_171 (Conv2D)          (None, 5, 5, 128)         73856     \n",
      "_________________________________________________________________\n",
      "max_pooling2d_166 (MaxPoolin (None, 5, 5, 128)         0         \n",
      "_________________________________________________________________\n",
      "flatten_59 (Flatten)         (None, 3200)              0         \n",
      "_________________________________________________________________\n",
      "dense_127 (Dense)            (None, 128)               409728    \n",
      "_________________________________________________________________\n",
      "activation_21 (Activation)   (None, 128)               0         \n",
      "_________________________________________________________________\n",
      "dense_128 (Dense)            (None, 64)                8256      \n",
      "_________________________________________________________________\n",
      "activation_22 (Activation)   (None, 64)                0         \n",
      "_________________________________________________________________\n",
      "dense_129 (Dense)            (None, 6)                 390       \n",
      "=================================================================\n",
      "Total params: 501,542\n",
      "Trainable params: 501,542\n",
      "Non-trainable params: 0\n",
      "_________________________________________________________________\n",
      "<keras.models.Sequential object at 0x7eff2306c668>\n"
     ]
    },
    {
     "name": "stderr",
     "output_type": "stream",
     "text": [
      "/home/carnd/anaconda3/envs/dl/lib/python3.5/site-packages/keras/models.py:848: UserWarning: The `nb_epoch` argument in `fit` has been renamed `epochs`.\n",
      "  warnings.warn('The `nb_epoch` argument in `fit` '\n"
     ]
    },
    {
     "name": "stdout",
     "output_type": "stream",
     "text": [
      "Train on 34799 samples, validate on 4410 samples\n",
      "Epoch 1/10\n",
      "34304/34799 [============================>.] - ETA: 0s - loss: 1.8216 - acc: 0.5139Epoch 00000: val_loss improved from inf to 4.46147, saving model to weights_0.hdf5\n",
      "34799/34799 [==============================] - 29s - loss: 1.8041 - acc: 0.5182 - val_loss: 4.4615 - val_acc: 0.0190\n",
      "Epoch 2/10\n",
      "34304/34799 [============================>.] - ETA: 0s - loss: 0.3354 - acc: 0.8999Epoch 00001: val_loss did not improve\n",
      "34799/34799 [==============================] - 23s - loss: 0.3330 - acc: 0.9008 - val_loss: 5.4322 - val_acc: 0.0204\n",
      "Epoch 3/10\n",
      "34304/34799 [============================>.] - ETA: 0s - loss: 0.1525 - acc: 0.9564Epoch 00002: val_loss did not improve\n",
      "34799/34799 [==============================] - 23s - loss: 0.1518 - acc: 0.9566 - val_loss: 5.5519 - val_acc: 0.0204\n",
      "Epoch 4/10\n",
      "34304/34799 [============================>.] - ETA: 0s - loss: 0.0935 - acc: 0.9742Epoch 00003: val_loss did not improve\n",
      "34799/34799 [==============================] - 23s - loss: 0.0934 - acc: 0.9742 - val_loss: 5.1658 - val_acc: 0.0302\n",
      "Epoch 5/10\n",
      "34304/34799 [============================>.] - ETA: 0s - loss: 0.0622 - acc: 0.9827Epoch 00004: val_loss improved from 4.46147 to 3.56407, saving model to weights_0.hdf5\n",
      "34799/34799 [==============================] - 23s - loss: 0.0621 - acc: 0.9827 - val_loss: 3.5641 - val_acc: 0.1866\n",
      "Epoch 6/10\n",
      "34304/34799 [============================>.] - ETA: 0s - loss: 0.0498 - acc: 0.9864Epoch 00005: val_loss improved from 3.56407 to 1.96473, saving model to weights_0.hdf5\n",
      "34799/34799 [==============================] - 23s - loss: 0.0498 - acc: 0.9863 - val_loss: 1.9647 - val_acc: 0.3937\n",
      "Epoch 7/10\n",
      "34304/34799 [============================>.] - ETA: 0s - loss: 0.0368 - acc: 0.9905Epoch 00006: val_loss improved from 1.96473 to 0.56402, saving model to weights_0.hdf5\n",
      "34799/34799 [==============================] - 23s - loss: 0.0367 - acc: 0.9905 - val_loss: 0.5640 - val_acc: 0.8215\n",
      "Epoch 8/10\n",
      "34304/34799 [============================>.] - ETA: 0s - loss: 0.0317 - acc: 0.9918Epoch 00007: val_loss improved from 0.56402 to 0.12876, saving model to weights_0.hdf5\n",
      "34799/34799 [==============================] - 23s - loss: 0.0317 - acc: 0.9918 - val_loss: 0.1288 - val_acc: 0.9626\n",
      "Epoch 9/10\n",
      "34304/34799 [============================>.] - ETA: 0s - loss: 0.0256 - acc: 0.9930Epoch 00008: val_loss improved from 0.12876 to 0.08081, saving model to weights_0.hdf5\n",
      "34799/34799 [==============================] - 23s - loss: 0.0259 - acc: 0.9928 - val_loss: 0.0808 - val_acc: 0.9760\n",
      "Epoch 10/10\n",
      "34304/34799 [============================>.] - ETA: 0s - loss: 0.0218 - acc: 0.9943Epoch 00009: val_loss improved from 0.08081 to 0.05448, saving model to weights_0.hdf5\n",
      "34799/34799 [==============================] - 23s - loss: 0.0218 - acc: 0.9943 - val_loss: 0.0545 - val_acc: 0.9850\n"
     ]
    }
   ],
   "source": [
    "\n",
    "#model = cnn_model(flag_BN=True,flag_STN=True)\n",
    "\n",
    "model = deep_cnn_model(flag_BN=True,flag_STN=True)\n",
    "\n",
    "# Compile and train the model\n",
    "model.compile(loss='categorical_crossentropy',\n",
    "              optimizer=Adam(),\n",
    "              metrics=['accuracy'])\n",
    "checkpointer = ModelCheckpoint(filepath=\"weights_\"+str(0)+\".hdf5\", verbose=1, save_best_only=True, save_weights_only=True)\n",
    "history = model.fit(X_train_hae, y_train_e,\n",
    "                    batch_size=512, nb_epoch=10,\n",
    "                    callbacks=[checkpointer],\n",
    "                    verbose=1, validation_data=(X_val_hae, y_val_e))"
   ]
  },
  {
   "cell_type": "code",
   "execution_count": 145,
   "metadata": {},
   "outputs": [
    {
     "name": "stdout",
     "output_type": "stream",
     "text": [
      "12576/12630 [============================>.] - ETA: 0s[0.1178240984808049, 0.96524148859490688]\n"
     ]
    }
   ],
   "source": [
    "e=model.evaluate(X_test_hae,y_test_e)\n",
    "print(e)"
   ]
  },
  {
   "cell_type": "code",
   "execution_count": 151,
   "metadata": {},
   "outputs": [
    {
     "name": "stdout",
     "output_type": "stream",
     "text": [
      "<keras.models.Sequential object at 0x7eff1f9ef780>\n",
      "_________________________________________________________________\n",
      "Layer (type)                 Output Shape              Param #   \n",
      "=================================================================\n",
      "spatial_transformer_26 (Spat (None, 32, 32, 1)         14896     \n",
      "_________________________________________________________________\n",
      "conv2d_192 (Conv2D)          (None, 32, 32, 32)        320       \n",
      "_________________________________________________________________\n",
      "batch_normalization_80 (Batc (None, 32, 32, 32)        128       \n",
      "_________________________________________________________________\n",
      "leaky_re_lu_160 (LeakyReLU)  (None, 32, 32, 32)        0         \n",
      "_________________________________________________________________\n",
      "max_pooling2d_187 (MaxPoolin (None, 16, 16, 32)        0         \n",
      "_________________________________________________________________\n",
      "dropout_141 (Dropout)        (None, 16, 16, 32)        0         \n",
      "_________________________________________________________________\n",
      "conv2d_193 (Conv2D)          (None, 16, 16, 64)        18496     \n",
      "_________________________________________________________________\n",
      "batch_normalization_81 (Batc (None, 16, 16, 64)        256       \n",
      "_________________________________________________________________\n",
      "leaky_re_lu_161 (LeakyReLU)  (None, 16, 16, 64)        0         \n",
      "_________________________________________________________________\n",
      "max_pooling2d_188 (MaxPoolin (None, 8, 8, 64)          0         \n",
      "_________________________________________________________________\n",
      "dropout_142 (Dropout)        (None, 8, 8, 64)          0         \n",
      "_________________________________________________________________\n",
      "conv2d_194 (Conv2D)          (None, 8, 8, 128)         73856     \n",
      "_________________________________________________________________\n",
      "batch_normalization_82 (Batc (None, 8, 8, 128)         512       \n",
      "_________________________________________________________________\n",
      "leaky_re_lu_162 (LeakyReLU)  (None, 8, 8, 128)         0         \n",
      "_________________________________________________________________\n",
      "max_pooling2d_189 (MaxPoolin (None, 4, 4, 128)         0         \n",
      "_________________________________________________________________\n",
      "dropout_143 (Dropout)        (None, 4, 4, 128)         0         \n",
      "_________________________________________________________________\n",
      "flatten_66 (Flatten)         (None, 2048)              0         \n",
      "_________________________________________________________________\n",
      "dense_144 (Dense)            (None, 1024)              2098176   \n",
      "_________________________________________________________________\n",
      "batch_normalization_83 (Batc (None, 1024)              4096      \n",
      "_________________________________________________________________\n",
      "leaky_re_lu_163 (LeakyReLU)  (None, 1024)              0         \n",
      "_________________________________________________________________\n",
      "dropout_144 (Dropout)        (None, 1024)              0         \n",
      "_________________________________________________________________\n",
      "dense_145 (Dense)            (None, 43)                44075     \n",
      "=================================================================\n",
      "Total params: 2,254,811\n",
      "Trainable params: 2,252,315\n",
      "Non-trainable params: 2,496\n",
      "_________________________________________________________________\n"
     ]
    },
    {
     "name": "stderr",
     "output_type": "stream",
     "text": [
      "/home/carnd/anaconda3/envs/dl/lib/python3.5/site-packages/keras/models.py:848: UserWarning: The `nb_epoch` argument in `fit` has been renamed `epochs`.\n",
      "  warnings.warn('The `nb_epoch` argument in `fit` '\n"
     ]
    },
    {
     "name": "stdout",
     "output_type": "stream",
     "text": [
      "Train on 117297 samples, validate on 4410 samples\n",
      "Epoch 1/10\n",
      "117248/117297 [============================>.] - ETA: 0s - loss: 0.8800 - acc: 0.7584Epoch 00000: val_loss improved from inf to 1.16850, saving model to weights_cnn_all_aug_onHAE.hdf5\n",
      "117297/117297 [==============================] - 64s - loss: 0.8799 - acc: 0.7585 - val_loss: 1.1685 - val_acc: 0.7091\n",
      "Epoch 2/10\n",
      "117248/117297 [============================>.] - ETA: 0s - loss: 0.2378 - acc: 0.9322Epoch 00001: val_loss improved from 1.16850 to 0.16431, saving model to weights_cnn_all_aug_onHAE.hdf5\n",
      "117297/117297 [==============================] - 58s - loss: 0.2378 - acc: 0.9322 - val_loss: 0.1643 - val_acc: 0.9571\n",
      "Epoch 3/10\n",
      "117248/117297 [============================>.] - ETA: 0s - loss: 0.1500 - acc: 0.9575Epoch 00002: val_loss improved from 0.16431 to 0.04527, saving model to weights_cnn_all_aug_onHAE.hdf5\n",
      "117297/117297 [==============================] - 58s - loss: 0.1499 - acc: 0.9575 - val_loss: 0.0453 - val_acc: 0.9884\n",
      "Epoch 4/10\n",
      "117248/117297 [============================>.] - ETA: 0s - loss: 0.1126 - acc: 0.9681Epoch 00003: val_loss improved from 0.04527 to 0.03903, saving model to weights_cnn_all_aug_onHAE.hdf5\n",
      "117297/117297 [==============================] - 58s - loss: 0.1126 - acc: 0.9681 - val_loss: 0.0390 - val_acc: 0.9875\n",
      "Epoch 5/10\n",
      "117248/117297 [============================>.] - ETA: 0s - loss: 0.0893 - acc: 0.9746Epoch 00004: val_loss improved from 0.03903 to 0.03057, saving model to weights_cnn_all_aug_onHAE.hdf5\n",
      "117297/117297 [==============================] - 58s - loss: 0.0893 - acc: 0.9746 - val_loss: 0.0306 - val_acc: 0.9902\n",
      "Epoch 6/10\n",
      "117248/117297 [============================>.] - ETA: 0s - loss: 0.0745 - acc: 0.9790Epoch 00005: val_loss improved from 0.03057 to 0.02194, saving model to weights_cnn_all_aug_onHAE.hdf5\n",
      "117297/117297 [==============================] - 58s - loss: 0.0745 - acc: 0.9790 - val_loss: 0.0219 - val_acc: 0.9916\n",
      "Epoch 7/10\n",
      "117248/117297 [============================>.] - ETA: 0s - loss: 0.0666 - acc: 0.9806Epoch 00006: val_loss did not improve\n",
      "117297/117297 [==============================] - 58s - loss: 0.0666 - acc: 0.9806 - val_loss: 0.0234 - val_acc: 0.9934\n",
      "Epoch 8/10\n",
      "117248/117297 [============================>.] - ETA: 0s - loss: 0.0573 - acc: 0.9835Epoch 00007: val_loss did not improve\n",
      "117297/117297 [==============================] - 58s - loss: 0.0573 - acc: 0.9835 - val_loss: 0.0250 - val_acc: 0.9912\n",
      "Epoch 9/10\n",
      "117248/117297 [============================>.] - ETA: 0s - loss: 0.0506 - acc: 0.9849Epoch 00008: val_loss did not improve\n",
      "117297/117297 [==============================] - 58s - loss: 0.0506 - acc: 0.9849 - val_loss: 0.0348 - val_acc: 0.9889\n",
      "Epoch 10/10\n",
      "117248/117297 [============================>.] - ETA: 0s - loss: 0.0463 - acc: 0.9862Epoch 00009: val_loss improved from 0.02194 to 0.02179, saving model to weights_cnn_all_aug_onHAE.hdf5\n",
      "117297/117297 [==============================] - 58s - loss: 0.0463 - acc: 0.9862 - val_loss: 0.0218 - val_acc: 0.9937\n",
      "12576/12630 [============================>.] - ETA: 0s[0.080855799676543022, 0.97790973876453258]\n",
      "12512/12630 [============================>.] - ETA: 0s[0.11754032743708337, 0.97165479027649193]\n",
      "12608/12630 [============================>.] - ETA: 0s[0.11255056674493387, 0.97244655591386331]\n"
     ]
    }
   ],
   "source": [
    "\n",
    "#model = cnn_model(flag_BN=True,flag_STN=True)\n",
    "\n",
    "model = cnn_model(flag_BN=True,flag_STN=True)\n",
    "\n",
    "# Compile and train the model\n",
    "model.compile(loss='categorical_crossentropy',\n",
    "              optimizer=Adam(),\n",
    "              metrics=['accuracy'])\n",
    "checkpointer = ModelCheckpoint(filepath=\"weights_cnn_all_aug_onHAE.hdf5\", verbose=1, save_best_only=True, save_weights_only=True)\n",
    "try:\n",
    "    history = model.fit(X_aug_all, y_aug_all_e,\n",
    "                    batch_size=512, nb_epoch=10,\n",
    "                    callbacks=[checkpointer],\n",
    "                    verbose=1, validation_data=(X_val_hae, y_val_e))\n",
    "except KeyboardInterrupt:\n",
    "        print(\"training interrupted\")\n",
    "        \n",
    "print(model.evaluate(X_test_hae,y_test_e))\n",
    "print(model.evaluate(np.asarray(X_test_hcs),y_test_e))\n",
    "print(model.evaluate(X_test_h,y_test_e))"
   ]
  },
  {
   "cell_type": "code",
   "execution_count": null,
   "metadata": {
    "collapsed": true
   },
   "outputs": [],
   "source": [
    "model.save(\"cnn_model_all_aug_97.h5\")\n",
    "\n"
   ]
  },
  {
   "cell_type": "code",
   "execution_count": 172,
   "metadata": {},
   "outputs": [
    {
     "ename": "KeyboardInterrupt",
     "evalue": "",
     "output_type": "error",
     "traceback": [
      "\u001b[0;31m---------------------------------------------------------------------------\u001b[0m",
      "\u001b[0;31mKeyboardInterrupt\u001b[0m                         Traceback (most recent call last)",
      "\u001b[0;32m<ipython-input-172-5883fa2222db>\u001b[0m in \u001b[0;36m<module>\u001b[0;34m()\u001b[0m\n\u001b[1;32m      1\u001b[0m \u001b[0;34m\u001b[0m\u001b[0m\n\u001b[0;32m----> 2\u001b[0;31m \u001b[0ma\u001b[0m \u001b[0;34m=\u001b[0m \u001b[0mmodel\u001b[0m\u001b[0;34m.\u001b[0m\u001b[0mpredict\u001b[0m\u001b[0;34m(\u001b[0m\u001b[0mX_test_hae\u001b[0m\u001b[0;34m,\u001b[0m\u001b[0mbatch_size\u001b[0m\u001b[0;34m=\u001b[0m\u001b[0;36m1\u001b[0m\u001b[0;34m)\u001b[0m\u001b[0;34m\u001b[0m\u001b[0m\n\u001b[0m",
      "\u001b[0;32m/home/carnd/anaconda3/envs/dl/lib/python3.5/site-packages/keras/models.py\u001b[0m in \u001b[0;36mpredict\u001b[0;34m(self, x, batch_size, verbose)\u001b[0m\n\u001b[1;32m    911\u001b[0m         \u001b[0;32mif\u001b[0m \u001b[0;32mnot\u001b[0m \u001b[0mself\u001b[0m\u001b[0;34m.\u001b[0m\u001b[0mbuilt\u001b[0m\u001b[0;34m:\u001b[0m\u001b[0;34m\u001b[0m\u001b[0m\n\u001b[1;32m    912\u001b[0m             \u001b[0mself\u001b[0m\u001b[0;34m.\u001b[0m\u001b[0mbuild\u001b[0m\u001b[0;34m(\u001b[0m\u001b[0;34m)\u001b[0m\u001b[0;34m\u001b[0m\u001b[0m\n\u001b[0;32m--> 913\u001b[0;31m         \u001b[0;32mreturn\u001b[0m \u001b[0mself\u001b[0m\u001b[0;34m.\u001b[0m\u001b[0mmodel\u001b[0m\u001b[0;34m.\u001b[0m\u001b[0mpredict\u001b[0m\u001b[0;34m(\u001b[0m\u001b[0mx\u001b[0m\u001b[0;34m,\u001b[0m \u001b[0mbatch_size\u001b[0m\u001b[0;34m=\u001b[0m\u001b[0mbatch_size\u001b[0m\u001b[0;34m,\u001b[0m \u001b[0mverbose\u001b[0m\u001b[0;34m=\u001b[0m\u001b[0mverbose\u001b[0m\u001b[0;34m)\u001b[0m\u001b[0;34m\u001b[0m\u001b[0m\n\u001b[0m\u001b[1;32m    914\u001b[0m \u001b[0;34m\u001b[0m\u001b[0m\n\u001b[1;32m    915\u001b[0m     \u001b[0;32mdef\u001b[0m \u001b[0mpredict_on_batch\u001b[0m\u001b[0;34m(\u001b[0m\u001b[0mself\u001b[0m\u001b[0;34m,\u001b[0m \u001b[0mx\u001b[0m\u001b[0;34m)\u001b[0m\u001b[0;34m:\u001b[0m\u001b[0;34m\u001b[0m\u001b[0m\n",
      "\u001b[0;32m/home/carnd/anaconda3/envs/dl/lib/python3.5/site-packages/keras/engine/training.py\u001b[0m in \u001b[0;36mpredict\u001b[0;34m(self, x, batch_size, verbose, steps)\u001b[0m\n\u001b[1;32m   1711\u001b[0m         \u001b[0mf\u001b[0m \u001b[0;34m=\u001b[0m \u001b[0mself\u001b[0m\u001b[0;34m.\u001b[0m\u001b[0mpredict_function\u001b[0m\u001b[0;34m\u001b[0m\u001b[0m\n\u001b[1;32m   1712\u001b[0m         return self._predict_loop(f, ins, batch_size=batch_size,\n\u001b[0;32m-> 1713\u001b[0;31m                                   verbose=verbose, steps=steps)\n\u001b[0m\u001b[1;32m   1714\u001b[0m \u001b[0;34m\u001b[0m\u001b[0m\n\u001b[1;32m   1715\u001b[0m     def train_on_batch(self, x, y,\n",
      "\u001b[0;32m/home/carnd/anaconda3/envs/dl/lib/python3.5/site-packages/keras/engine/training.py\u001b[0m in \u001b[0;36m_predict_loop\u001b[0;34m(self, f, ins, batch_size, verbose, steps)\u001b[0m\n\u001b[1;32m   1267\u001b[0m                 \u001b[0;32melse\u001b[0m\u001b[0;34m:\u001b[0m\u001b[0;34m\u001b[0m\u001b[0m\n\u001b[1;32m   1268\u001b[0m                     \u001b[0mins_batch\u001b[0m \u001b[0;34m=\u001b[0m \u001b[0m_slice_arrays\u001b[0m\u001b[0;34m(\u001b[0m\u001b[0mins\u001b[0m\u001b[0;34m,\u001b[0m \u001b[0mbatch_ids\u001b[0m\u001b[0;34m)\u001b[0m\u001b[0;34m\u001b[0m\u001b[0m\n\u001b[0;32m-> 1269\u001b[0;31m                 \u001b[0mbatch_outs\u001b[0m \u001b[0;34m=\u001b[0m \u001b[0mf\u001b[0m\u001b[0;34m(\u001b[0m\u001b[0mins_batch\u001b[0m\u001b[0;34m)\u001b[0m\u001b[0;34m\u001b[0m\u001b[0m\n\u001b[0m\u001b[1;32m   1270\u001b[0m                 \u001b[0;32mif\u001b[0m \u001b[0;32mnot\u001b[0m \u001b[0misinstance\u001b[0m\u001b[0;34m(\u001b[0m\u001b[0mbatch_outs\u001b[0m\u001b[0;34m,\u001b[0m \u001b[0mlist\u001b[0m\u001b[0;34m)\u001b[0m\u001b[0;34m:\u001b[0m\u001b[0;34m\u001b[0m\u001b[0m\n\u001b[1;32m   1271\u001b[0m                     \u001b[0mbatch_outs\u001b[0m \u001b[0;34m=\u001b[0m \u001b[0;34m[\u001b[0m\u001b[0mbatch_outs\u001b[0m\u001b[0;34m]\u001b[0m\u001b[0;34m\u001b[0m\u001b[0m\n",
      "\u001b[0;32m/home/carnd/anaconda3/envs/dl/lib/python3.5/site-packages/keras/backend/tensorflow_backend.py\u001b[0m in \u001b[0;36m__call__\u001b[0;34m(self, inputs)\u001b[0m\n\u001b[1;32m   2271\u001b[0m         updated = session.run(self.outputs + [self.updates_op],\n\u001b[1;32m   2272\u001b[0m                               \u001b[0mfeed_dict\u001b[0m\u001b[0;34m=\u001b[0m\u001b[0mfeed_dict\u001b[0m\u001b[0;34m,\u001b[0m\u001b[0;34m\u001b[0m\u001b[0m\n\u001b[0;32m-> 2273\u001b[0;31m                               **self.session_kwargs)\n\u001b[0m\u001b[1;32m   2274\u001b[0m         \u001b[0;32mreturn\u001b[0m \u001b[0mupdated\u001b[0m\u001b[0;34m[\u001b[0m\u001b[0;34m:\u001b[0m\u001b[0mlen\u001b[0m\u001b[0;34m(\u001b[0m\u001b[0mself\u001b[0m\u001b[0;34m.\u001b[0m\u001b[0moutputs\u001b[0m\u001b[0;34m)\u001b[0m\u001b[0;34m]\u001b[0m\u001b[0;34m\u001b[0m\u001b[0m\n\u001b[1;32m   2275\u001b[0m \u001b[0;34m\u001b[0m\u001b[0m\n",
      "\u001b[0;32m/home/carnd/anaconda3/envs/dl/lib/python3.5/site-packages/tensorflow/python/client/session.py\u001b[0m in \u001b[0;36mrun\u001b[0;34m(self, fetches, feed_dict, options, run_metadata)\u001b[0m\n\u001b[1;32m    765\u001b[0m     \u001b[0;32mtry\u001b[0m\u001b[0;34m:\u001b[0m\u001b[0;34m\u001b[0m\u001b[0m\n\u001b[1;32m    766\u001b[0m       result = self._run(None, fetches, feed_dict, options_ptr,\n\u001b[0;32m--> 767\u001b[0;31m                          run_metadata_ptr)\n\u001b[0m\u001b[1;32m    768\u001b[0m       \u001b[0;32mif\u001b[0m \u001b[0mrun_metadata\u001b[0m\u001b[0;34m:\u001b[0m\u001b[0;34m\u001b[0m\u001b[0m\n\u001b[1;32m    769\u001b[0m         \u001b[0mproto_data\u001b[0m \u001b[0;34m=\u001b[0m \u001b[0mtf_session\u001b[0m\u001b[0;34m.\u001b[0m\u001b[0mTF_GetBuffer\u001b[0m\u001b[0;34m(\u001b[0m\u001b[0mrun_metadata_ptr\u001b[0m\u001b[0;34m)\u001b[0m\u001b[0;34m\u001b[0m\u001b[0m\n",
      "\u001b[0;32m/home/carnd/anaconda3/envs/dl/lib/python3.5/site-packages/tensorflow/python/client/session.py\u001b[0m in \u001b[0;36m_run\u001b[0;34m(self, handle, fetches, feed_dict, options, run_metadata)\u001b[0m\n\u001b[1;32m    963\u001b[0m     \u001b[0;32mif\u001b[0m \u001b[0mfinal_fetches\u001b[0m \u001b[0;32mor\u001b[0m \u001b[0mfinal_targets\u001b[0m\u001b[0;34m:\u001b[0m\u001b[0;34m\u001b[0m\u001b[0m\n\u001b[1;32m    964\u001b[0m       results = self._do_run(handle, final_targets, final_fetches,\n\u001b[0;32m--> 965\u001b[0;31m                              feed_dict_string, options, run_metadata)\n\u001b[0m\u001b[1;32m    966\u001b[0m     \u001b[0;32melse\u001b[0m\u001b[0;34m:\u001b[0m\u001b[0;34m\u001b[0m\u001b[0m\n\u001b[1;32m    967\u001b[0m       \u001b[0mresults\u001b[0m \u001b[0;34m=\u001b[0m \u001b[0;34m[\u001b[0m\u001b[0;34m]\u001b[0m\u001b[0;34m\u001b[0m\u001b[0m\n",
      "\u001b[0;32m/home/carnd/anaconda3/envs/dl/lib/python3.5/site-packages/tensorflow/python/client/session.py\u001b[0m in \u001b[0;36m_do_run\u001b[0;34m(self, handle, target_list, fetch_list, feed_dict, options, run_metadata)\u001b[0m\n\u001b[1;32m   1013\u001b[0m     \u001b[0;32mif\u001b[0m \u001b[0mhandle\u001b[0m \u001b[0;32mis\u001b[0m \u001b[0;32mNone\u001b[0m\u001b[0;34m:\u001b[0m\u001b[0;34m\u001b[0m\u001b[0m\n\u001b[1;32m   1014\u001b[0m       return self._do_call(_run_fn, self._session, feed_dict, fetch_list,\n\u001b[0;32m-> 1015\u001b[0;31m                            target_list, options, run_metadata)\n\u001b[0m\u001b[1;32m   1016\u001b[0m     \u001b[0;32melse\u001b[0m\u001b[0;34m:\u001b[0m\u001b[0;34m\u001b[0m\u001b[0m\n\u001b[1;32m   1017\u001b[0m       return self._do_call(_prun_fn, self._session, handle, feed_dict,\n",
      "\u001b[0;32m/home/carnd/anaconda3/envs/dl/lib/python3.5/site-packages/tensorflow/python/client/session.py\u001b[0m in \u001b[0;36m_do_call\u001b[0;34m(self, fn, *args)\u001b[0m\n\u001b[1;32m   1020\u001b[0m   \u001b[0;32mdef\u001b[0m \u001b[0m_do_call\u001b[0m\u001b[0;34m(\u001b[0m\u001b[0mself\u001b[0m\u001b[0;34m,\u001b[0m \u001b[0mfn\u001b[0m\u001b[0;34m,\u001b[0m \u001b[0;34m*\u001b[0m\u001b[0margs\u001b[0m\u001b[0;34m)\u001b[0m\u001b[0;34m:\u001b[0m\u001b[0;34m\u001b[0m\u001b[0m\n\u001b[1;32m   1021\u001b[0m     \u001b[0;32mtry\u001b[0m\u001b[0;34m:\u001b[0m\u001b[0;34m\u001b[0m\u001b[0m\n\u001b[0;32m-> 1022\u001b[0;31m       \u001b[0;32mreturn\u001b[0m \u001b[0mfn\u001b[0m\u001b[0;34m(\u001b[0m\u001b[0;34m*\u001b[0m\u001b[0margs\u001b[0m\u001b[0;34m)\u001b[0m\u001b[0;34m\u001b[0m\u001b[0m\n\u001b[0m\u001b[1;32m   1023\u001b[0m     \u001b[0;32mexcept\u001b[0m \u001b[0merrors\u001b[0m\u001b[0;34m.\u001b[0m\u001b[0mOpError\u001b[0m \u001b[0;32mas\u001b[0m \u001b[0me\u001b[0m\u001b[0;34m:\u001b[0m\u001b[0;34m\u001b[0m\u001b[0m\n\u001b[1;32m   1024\u001b[0m       \u001b[0mmessage\u001b[0m \u001b[0;34m=\u001b[0m \u001b[0mcompat\u001b[0m\u001b[0;34m.\u001b[0m\u001b[0mas_text\u001b[0m\u001b[0;34m(\u001b[0m\u001b[0me\u001b[0m\u001b[0;34m.\u001b[0m\u001b[0mmessage\u001b[0m\u001b[0;34m)\u001b[0m\u001b[0;34m\u001b[0m\u001b[0m\n",
      "\u001b[0;32m/home/carnd/anaconda3/envs/dl/lib/python3.5/site-packages/tensorflow/python/client/session.py\u001b[0m in \u001b[0;36m_run_fn\u001b[0;34m(session, feed_dict, fetch_list, target_list, options, run_metadata)\u001b[0m\n\u001b[1;32m   1002\u001b[0m         return tf_session.TF_Run(session, options,\n\u001b[1;32m   1003\u001b[0m                                  \u001b[0mfeed_dict\u001b[0m\u001b[0;34m,\u001b[0m \u001b[0mfetch_list\u001b[0m\u001b[0;34m,\u001b[0m \u001b[0mtarget_list\u001b[0m\u001b[0;34m,\u001b[0m\u001b[0;34m\u001b[0m\u001b[0m\n\u001b[0;32m-> 1004\u001b[0;31m                                  status, run_metadata)\n\u001b[0m\u001b[1;32m   1005\u001b[0m \u001b[0;34m\u001b[0m\u001b[0m\n\u001b[1;32m   1006\u001b[0m     \u001b[0;32mdef\u001b[0m \u001b[0m_prun_fn\u001b[0m\u001b[0;34m(\u001b[0m\u001b[0msession\u001b[0m\u001b[0;34m,\u001b[0m \u001b[0mhandle\u001b[0m\u001b[0;34m,\u001b[0m \u001b[0mfeed_dict\u001b[0m\u001b[0;34m,\u001b[0m \u001b[0mfetch_list\u001b[0m\u001b[0;34m)\u001b[0m\u001b[0;34m:\u001b[0m\u001b[0;34m\u001b[0m\u001b[0m\n",
      "\u001b[0;31mKeyboardInterrupt\u001b[0m: "
     ]
    }
   ],
   "source": [
    "\n",
    "a = model.predict(X_test_hae,batch_size=1)"
   ]
  },
  {
   "cell_type": "code",
   "execution_count": 175,
   "metadata": {},
   "outputs": [
    {
     "name": "stdout",
     "output_type": "stream",
     "text": [
      "conv_layers\n",
      "3\n",
      "<class 'numpy.ndarray'>\n",
      "Top 3 Predicitons:\n",
      "\t11: 1.0\n",
      "\t30: 8.86395e-10\n",
      "\t27: 2.94324e-12\n",
      "\n",
      "Actual: 11\n"
     ]
    },
    {
     "data": {
      "image/png": "[encoded data removed]",
      "text/plain": [
       "<matplotlib.figure.Figure at 0x7eff10abeac8>"
      ]
     },
     "metadata": {},
     "output_type": "display_data"
    },
    {
     "name": "stdout",
     "output_type": "stream",
     "text": [
      "Visualizing Convolutions Layer 0\n"
     ]
    },
    {
     "data": {
      "image/png": "[encoded data removed]",
      "text/plain": [
       "<matplotlib.figure.Figure at 0x7eff10556b38>"
      ]
     },
     "metadata": {},
     "output_type": "display_data"
    },
    {
     "name": "stdout",
     "output_type": "stream",
     "text": [
      "Visualizing Convolutions Layer 1\n"
     ]
    },
    {
     "data": {
      "image/png": "[encoded data removed]",
      "text/plain": [
       "<matplotlib.figure.Figure at 0x7eff13c934e0>"
      ]
     },
     "metadata": {},
     "output_type": "display_data"
    },
    {
     "name": "stdout",
     "output_type": "stream",
     "text": [
      "Visualizing Convolutions Layer 2\n"
     ]
    },
    {
     "data": {
      "image/png": "[encoded data removed]",
      "text/plain": [
       "<matplotlib.figure.Figure at 0x7eff11d1ee10>"
      ]
     },
     "metadata": {},
     "output_type": "display_data"
    },
    {
     "name": "stdout",
     "output_type": "stream",
     "text": [
      "Top 3 Predicitons:\n",
      "\t12: 0.999988\n",
      "\t17: 5.23141e-06\n",
      "\t16: 2.51519e-06\n",
      "\n",
      "Actual: 12\n"
     ]
    },
    {
     "data": {
      "image/png": "[encoded data removed]",
      "text/plain": [
       "<matplotlib.figure.Figure at 0x7eff1c127080>"
      ]
     },
     "metadata": {},
     "output_type": "display_data"
    },
    {
     "name": "stdout",
     "output_type": "stream",
     "text": [
      "Visualizing Convolutions Layer 0\n"
     ]
    },
    {
     "data": {
      "image/png": "[encoded data removed]",
      "text/plain": [
       "<matplotlib.figure.Figure at 0x7eff1175e128>"
      ]
     },
     "metadata": {},
     "output_type": "display_data"
    },
    {
     "name": "stdout",
     "output_type": "stream",
     "text": [
      "Visualizing Convolutions Layer 1\n"
     ]
    },
    {
     "data": {
      "image/png": "[encoded data removed]",
      "text/plain": [
       "<matplotlib.figure.Figure at 0x7eff0fb13ac8>"
      ]
     },
     "metadata": {},
     "output_type": "display_data"
    },
    {
     "name": "stdout",
     "output_type": "stream",
     "text": [
      "Visualizing Convolutions Layer 2\n"
     ]
    },
    {
     "data": {
      "image/png": "[encoded data removed]",
      "text/plain": [
       "<matplotlib.figure.Figure at 0x7eff0e936080>"
      ]
     },
     "metadata": {},
     "output_type": "display_data"
    },
    {
     "name": "stdout",
     "output_type": "stream",
     "text": [
      "Top 3 Predicitons:\n",
      "\t3: 0.999181\n",
      "\t5: 0.000804155\n",
      "\t2: 1.44207e-05\n",
      "\n",
      "Actual: 3\n"
     ]
    },
    {
     "data": {
      "image/png": "[encoded data removed]",
      "text/plain": [
       "<matplotlib.figure.Figure at 0x7eff1394e8d0>"
      ]
     },
     "metadata": {},
     "output_type": "display_data"
    },
    {
     "name": "stdout",
     "output_type": "stream",
     "text": [
      "Visualizing Convolutions Layer 0\n"
     ]
    },
    {
     "data": {
      "image/png": "[encoded data removed]",
      "text/plain": [
       "<matplotlib.figure.Figure at 0x7eff137a1c50>"
      ]
     },
     "metadata": {},
     "output_type": "display_data"
    },
    {
     "name": "stdout",
     "output_type": "stream",
     "text": [
      "Visualizing Convolutions Layer 1\n"
     ]
    },
    {
     "data": {
      "image/png": "[encoded data removed]",
      "text/plain": [
       "<matplotlib.figure.Figure at 0x7eff0db5c5c0>"
      ]
     },
     "metadata": {},
     "output_type": "display_data"
    },
    {
     "name": "stdout",
     "output_type": "stream",
     "text": [
      "Visualizing Convolutions Layer 2\n"
     ]
    },
    {
     "data": {
      "image/png": "[encoded data removed]",
      "text/plain": [
       "<matplotlib.figure.Figure at 0x7eff13de9780>"
      ]
     },
     "metadata": {},
     "output_type": "display_data"
    }
   ],
   "source": [
    "from math import sqrt\n",
    "\n",
    "import matplotlib.pyplot as plt\n",
    "from keras import backend as K\n",
    "\n",
    "n_imgs = 3\n",
    "#model_fn = 'cnn_moddel....h5'\n",
    "\n",
    "# Function by gcalmettes from http://stackoverflow.com/questions/11159436/multiple-figures-in-a-single-window\n",
    "def plot_figures(figures, nrows = 1, ncols=1, titles=False):\n",
    "    \"\"\"Plot a dictionary of figures.\n",
    "\n",
    "    Parameters\n",
    "    ----------\n",
    "    figures : <title, figure> dictionary\n",
    "    ncols : number of columns of subplots wanted in the display\n",
    "    nrows : number of rows of subplots wanted in the figure\n",
    "    \"\"\"\n",
    "\n",
    "    fig, axeslist = plt.subplots(ncols=ncols, nrows=nrows)\n",
    "    for ind,title in enumerate(sorted(figures.keys(), key=lambda s: int(s[3:]))):\n",
    "        axeslist.ravel()[ind].imshow(figures[title], cmap=plt.gray())\n",
    "        if titles:\n",
    "            axeslist.ravel()[ind].set_title(title)\n",
    "\n",
    "    for ind in range(nrows*ncols):\n",
    "        axeslist.ravel()[ind].set_axis_off()\n",
    "\n",
    "    if titles:\n",
    "        plt.tight_layout()\n",
    "    plt.show()\n",
    "\n",
    "\n",
    "def get_dim(num):\n",
    "    \"\"\"\n",
    "    Simple function to get the dimensions of a square-ish shape for plotting\n",
    "    num images\n",
    "    \"\"\"\n",
    "\n",
    "    s = sqrt(num)\n",
    "    if round(s) < s:\n",
    "        return (int(s), int(s)+1)\n",
    "    else:\n",
    "        return (int(s)+1, int(s)+1)\n",
    "\n",
    "# Load the best model\n",
    "#model = load_model(model_fn)\n",
    "\n",
    "# Get the convolutional layers\n",
    "conv_layers = [layer for layer in model.layers if isinstance(layer, MaxPooling2D)]\n",
    "print(\"conv_layers\")\n",
    "# Pick random images to visualize\n",
    "print(n_imgs)\n",
    "imgs_to_visualize = np.random.choice(np.arange(0, len(X_test_h)), n_imgs)\n",
    "print(type(imgs_to_visualize))\n",
    "#print(imgs_to_visualize)\n",
    "\n",
    "# Use a keras function to extract the conv layer data\n",
    "convout_func = K.function([model.layers[0].input, K.learning_phase()], [layer.output for layer in conv_layers])\n",
    "conv_imgs_filts = convout_func([X_test_h[imgs_to_visualize], 0])\n",
    "# Also get the prediction so we know what we predicted\n",
    "\n",
    "#vis_imgs = []\n",
    "#for i in imgs_to_visualize:\n",
    "#    vis_imgs.append(X_test_hae[i])\n",
    "#a = X_test_hae[imgs_to_visualize]\n",
    "#print(np.asarray(vis_imgs).shape)\n",
    "#print(a.shape)\n",
    "\n",
    "x_sel = X_test_h[imgs_to_visualize]\n",
    "y_sel = y_test[imgs_to_visualize]\n",
    "\n",
    "\n",
    "predictions = model.predict(X_test_h[imgs_to_visualize],batch_size=1)\n",
    "#print(predictions)\n",
    "imshow = plt.imshow #alias\n",
    "# Loop through each image disply relevant info\n",
    "for img_count, img_to_visualize in enumerate(imgs_to_visualize):\n",
    "\n",
    "    # Get top 3 predictions \n",
    "    top3_ind = predictions[img_count].argsort()[-3:]\n",
    "    #top3_species = np.array(LABELS)[top3_ind]\n",
    "    top3_preds = predictions[img_count][top3_ind]\n",
    "\n",
    "    # Get the actual leaf species\n",
    "    actual = y_test[img_to_visualize]\n",
    "\n",
    "    # Display the top 3 predictions and the actual species\n",
    "    print(\"Top 3 Predicitons:\")\n",
    "    for i in range(2, -1, -1):\n",
    "        print(\"\\t%s: %s\" % (top3_ind[i], top3_preds[i]))\n",
    "    print(\"\\nActual: %s\" % actual)\n",
    "\n",
    "    # Show the original image\n",
    "    plt.title(\"Image used: #%d (digit=%d)\" % (img_to_visualize, y_test[img_to_visualize]))\n",
    "    # For Theano users comment the line below and\n",
    "    imshow(X_test_h[img_to_visualize][:, :, 0], cmap='gray')\n",
    "    # imshow(X_img_val[img_to_visualize][0], cmap='gray') # uncomment this\n",
    "    plt.tight_layout()\n",
    "    plt.show()\n",
    "\n",
    "    # Plot the filter images\n",
    "    for i, conv_imgs_filt in enumerate(conv_imgs_filts):\n",
    "        conv_img_filt = conv_imgs_filt[img_count]\n",
    "        print(\"Visualizing Convolutions Layer %d\" % i)\n",
    "        # Get it ready for the plot_figures function\n",
    "        # For Theano users comment the line below and\n",
    "        fig_dict = {'flt{0}'.format(i): conv_img_filt[:, :, i] for i in range(conv_img_filt.shape[-1])}\n",
    "        # fig_dict = {'flt{0}'.format(i): conv_img_filt[i] for i in range(conv_img_filt.shape[-1])} # uncomment this\n",
    "        plot_figures(fig_dict, *get_dim(len(fig_dict)))"
   ]
  },
  {
   "cell_type": "code",
   "execution_count": null,
   "metadata": {
    "collapsed": true
   },
   "outputs": [],
   "source": []
  },
  {
   "cell_type": "code",
   "execution_count": null,
   "metadata": {
    "collapsed": true
   },
   "outputs": [],
   "source": []
  },
  {
   "cell_type": "code",
   "execution_count": 104,
   "metadata": {},
   "outputs": [
    {
     "name": "stdout",
     "output_type": "stream",
     "text": [
      "_________________________________________________________________\n",
      "Layer (type)                 Output Shape              Param #   \n",
      "=================================================================\n",
      "conv2d_23 (Conv2D)           (None, 32, 32, 16)        32        \n",
      "_________________________________________________________________\n",
      "max_pooling2d_23 (MaxPooling (None, 16, 16, 16)        0         \n",
      "_________________________________________________________________\n",
      "conv2d_24 (Conv2D)           (None, 14, 14, 64)        9280      \n",
      "_________________________________________________________________\n",
      "max_pooling2d_24 (MaxPooling (None, 7, 7, 64)          0         \n",
      "_________________________________________________________________\n",
      "conv2d_25 (Conv2D)           (None, 5, 5, 128)         73856     \n",
      "_________________________________________________________________\n",
      "max_pooling2d_25 (MaxPooling (None, 5, 5, 128)         0         \n",
      "_________________________________________________________________\n",
      "flatten_8 (Flatten)          (None, 3200)              0         \n",
      "_________________________________________________________________\n",
      "dense_18 (Dense)             (None, 128)               409728    \n",
      "_________________________________________________________________\n",
      "activation_7 (Activation)    (None, 128)               0         \n",
      "_________________________________________________________________\n",
      "dense_19 (Dense)             (None, 64)                8256      \n",
      "_________________________________________________________________\n",
      "activation_8 (Activation)    (None, 64)                0         \n",
      "_________________________________________________________________\n",
      "dense_20 (Dense)             (None, 6)                 390       \n",
      "=================================================================\n",
      "Total params: 501,542\n",
      "Trainable params: 501,542\n",
      "Non-trainable params: 0\n",
      "_________________________________________________________________\n",
      "<keras.models.Sequential object at 0x7fb4b27bf860>\n"
     ]
    },
    {
     "name": "stderr",
     "output_type": "stream",
     "text": [
      "/home/carnd/anaconda3/envs/dl/lib/python3.5/site-packages/keras/models.py:848: UserWarning: The `nb_epoch` argument in `fit` has been renamed `epochs`.\n",
      "  warnings.warn('The `nb_epoch` argument in `fit` '\n"
     ]
    },
    {
     "name": "stdout",
     "output_type": "stream",
     "text": [
      "Train on 117297 samples, validate on 4410 samples\n",
      "Epoch 1/100\n",
      "117200/117297 [============================>.] - ETA: 0s - loss: 0.7821 - acc: 0.7873Epoch 00000: val_loss improved from inf to 0.06858, saving model to weights_8.hdf5\n",
      "117297/117297 [==============================] - 89s - loss: 0.7817 - acc: 0.7875 - val_loss: 0.0686 - val_acc: 0.9848\n",
      "Epoch 2/100\n",
      "117200/117297 [============================>.] - ETA: 0s - loss: 0.1505 - acc: 0.9571Epoch 00001: val_loss improved from 0.06858 to 0.03046, saving model to weights_8.hdf5\n",
      "117297/117297 [==============================] - 86s - loss: 0.1505 - acc: 0.9571 - val_loss: 0.0305 - val_acc: 0.9916\n",
      "Epoch 3/100\n",
      "117200/117297 [============================>.] - ETA: 0s - loss: 0.1007 - acc: 0.9717Epoch 00002: val_loss improved from 0.03046 to 0.02439, saving model to weights_8.hdf5\n",
      "117297/117297 [==============================] - 86s - loss: 0.1007 - acc: 0.9717 - val_loss: 0.0244 - val_acc: 0.9909\n",
      "Epoch 4/100\n",
      "117200/117297 [============================>.] - ETA: 0s - loss: 0.0743 - acc: 0.9786Epoch 00003: val_loss did not improve\n",
      "117297/117297 [==============================] - 86s - loss: 0.0742 - acc: 0.9786 - val_loss: 0.0275 - val_acc: 0.9907\n",
      "Epoch 5/100\n",
      "117200/117297 [============================>.] - ETA: 0s - loss: 0.1022 - acc: 0.9719Epoch 00004: val_loss did not improve\n",
      "117297/117297 [==============================] - 86s - loss: 0.1023 - acc: 0.9719 - val_loss: 0.0576 - val_acc: 0.9823\n",
      "Epoch 6/100\n",
      "117200/117297 [============================>.] - ETA: 0s - loss: 0.0879 - acc: 0.9744Epoch 00005: val_loss improved from 0.02439 to 0.02049, saving model to weights_8.hdf5\n",
      "117297/117297 [==============================] - 86s - loss: 0.0879 - acc: 0.9744 - val_loss: 0.0205 - val_acc: 0.9943\n",
      "Epoch 7/100\n",
      "117200/117297 [============================>.] - ETA: 0s - loss: 0.0552 - acc: 0.9837Epoch 00006: val_loss did not improve\n",
      "117297/117297 [==============================] - 86s - loss: 0.0552 - acc: 0.9837 - val_loss: 0.0261 - val_acc: 0.9934\n",
      "Epoch 8/100\n",
      "117200/117297 [============================>.] - ETA: 0s - loss: 0.0535 - acc: 0.9839Epoch 00007: val_loss improved from 0.02049 to 0.02002, saving model to weights_8.hdf5\n",
      "117297/117297 [==============================] - 86s - loss: 0.0535 - acc: 0.9839 - val_loss: 0.0200 - val_acc: 0.9939\n",
      "Epoch 9/100\n",
      "117200/117297 [============================>.] - ETA: 0s - loss: 0.0442 - acc: 0.9868Epoch 00008: val_loss improved from 0.02002 to 0.01803, saving model to weights_8.hdf5\n",
      "117297/117297 [==============================] - 86s - loss: 0.0442 - acc: 0.9868 - val_loss: 0.0180 - val_acc: 0.9948\n",
      "Epoch 10/100\n",
      "117200/117297 [============================>.] - ETA: 0s - loss: 0.0472 - acc: 0.9855Epoch 00009: val_loss did not improve\n",
      "117297/117297 [==============================] - 86s - loss: 0.0472 - acc: 0.9855 - val_loss: 0.0256 - val_acc: 0.9923\n",
      "Epoch 11/100\n",
      "117200/117297 [============================>.] - ETA: 0s - loss: 0.0462 - acc: 0.9862Epoch 00010: val_loss improved from 0.01803 to 0.01681, saving model to weights_8.hdf5\n",
      "117297/117297 [==============================] - 86s - loss: 0.0462 - acc: 0.9862 - val_loss: 0.0168 - val_acc: 0.9952\n",
      "Epoch 12/100\n",
      "117200/117297 [============================>.] - ETA: 0s - loss: 0.0400 - acc: 0.9877Epoch 00011: val_loss did not improve\n",
      "117297/117297 [==============================] - 86s - loss: 0.0400 - acc: 0.9877 - val_loss: 0.0213 - val_acc: 0.9941\n",
      "Epoch 13/100\n",
      "117200/117297 [============================>.] - ETA: 0s - loss: 0.0411 - acc: 0.9879Epoch 00012: val_loss did not improve\n",
      "117297/117297 [==============================] - 86s - loss: 0.0410 - acc: 0.9879 - val_loss: 0.0293 - val_acc: 0.9921\n",
      "Epoch 14/100\n",
      "117200/117297 [============================>.] - ETA: 0s - loss: 0.0716 - acc: 0.9813Epoch 00013: val_loss did not improve\n",
      "117297/117297 [==============================] - 86s - loss: 0.0715 - acc: 0.9813 - val_loss: 0.0245 - val_acc: 0.9925\n",
      "Epoch 15/100\n",
      "117200/117297 [============================>.] - ETA: 0s - loss: 0.0574 - acc: 0.9831Epoch 00014: val_loss improved from 0.01681 to 0.01680, saving model to weights_8.hdf5\n",
      "117297/117297 [==============================] - 86s - loss: 0.0574 - acc: 0.9831 - val_loss: 0.0168 - val_acc: 0.9946\n",
      "Epoch 16/100\n",
      "117200/117297 [============================>.] - ETA: 0s - loss: 0.0459 - acc: 0.9865Epoch 00015: val_loss did not improve\n",
      "117297/117297 [==============================] - 86s - loss: 0.0459 - acc: 0.9865 - val_loss: 0.0200 - val_acc: 0.9943\n",
      "Epoch 17/100\n",
      "117200/117297 [============================>.] - ETA: 0s - loss: 0.0290 - acc: 0.9913Epoch 00016: val_loss did not improve\n",
      "117297/117297 [==============================] - 86s - loss: 0.0290 - acc: 0.9912 - val_loss: 0.0193 - val_acc: 0.9943\n",
      "Epoch 18/100\n",
      "117200/117297 [============================>.] - ETA: 0s - loss: 0.0361 - acc: 0.9892Epoch 00017: val_loss did not improve\n",
      "117297/117297 [==============================] - 86s - loss: 0.0361 - acc: 0.9893 - val_loss: 0.0279 - val_acc: 0.9927\n",
      "Epoch 19/100\n",
      "117200/117297 [============================>.] - ETA: 0s - loss: 0.0379 - acc: 0.9885Epoch 00018: val_loss did not improve\n",
      "117297/117297 [==============================] - 86s - loss: 0.0379 - acc: 0.9885 - val_loss: 0.0322 - val_acc: 0.9907\n",
      "Epoch 20/100\n",
      "117200/117297 [============================>.] - ETA: 0s - loss: 0.0316 - acc: 0.9905Epoch 00019: val_loss improved from 0.01680 to 0.01628, saving model to weights_8.hdf5\n",
      "117297/117297 [==============================] - 86s - loss: 0.0317 - acc: 0.9905 - val_loss: 0.0163 - val_acc: 0.9946\n",
      "Epoch 21/100\n",
      "117200/117297 [============================>.] - ETA: 0s - loss: 0.0476 - acc: 0.9863Epoch 00020: val_loss did not improve\n",
      "117297/117297 [==============================] - 86s - loss: 0.0476 - acc: 0.9864 - val_loss: 0.0304 - val_acc: 0.9912\n",
      "Epoch 22/100\n",
      " 65600/117297 [===============>..............] - ETA: 37s - loss: 0.0307 - acc: 0.9905"
     ]
    },
    {
     "ename": "KeyboardInterrupt",
     "evalue": "",
     "output_type": "error",
     "traceback": [
      "\u001b[0;31m---------------------------------------------------------------------------\u001b[0m",
      "\u001b[0;31mKeyboardInterrupt\u001b[0m                         Traceback (most recent call last)",
      "\u001b[0;32m<ipython-input-104-05cb17d22896>\u001b[0m in \u001b[0;36m<module>\u001b[0;34m()\u001b[0m\n\u001b[1;32m     14\u001b[0m                     \u001b[0mbatch_size\u001b[0m\u001b[0;34m=\u001b[0m\u001b[0;36m200\u001b[0m\u001b[0;34m,\u001b[0m \u001b[0mnb_epoch\u001b[0m\u001b[0;34m=\u001b[0m\u001b[0;36m100\u001b[0m\u001b[0;34m,\u001b[0m\u001b[0;34m\u001b[0m\u001b[0m\n\u001b[1;32m     15\u001b[0m                     \u001b[0mcallbacks\u001b[0m\u001b[0;34m=\u001b[0m\u001b[0;34m[\u001b[0m\u001b[0mcheckpointer\u001b[0m\u001b[0;34m]\u001b[0m\u001b[0;34m,\u001b[0m\u001b[0;34m\u001b[0m\u001b[0m\n\u001b[0;32m---> 16\u001b[0;31m                     verbose=1, validation_data=(X_val_hae, y_val_e))\n\u001b[0m",
      "\u001b[0;32m/home/carnd/anaconda3/envs/dl/lib/python3.5/site-packages/keras/models.py\u001b[0m in \u001b[0;36mfit\u001b[0;34m(self, x, y, batch_size, epochs, verbose, callbacks, validation_split, validation_data, shuffle, class_weight, sample_weight, initial_epoch, **kwargs)\u001b[0m\n\u001b[1;32m    865\u001b[0m                               \u001b[0mclass_weight\u001b[0m\u001b[0;34m=\u001b[0m\u001b[0mclass_weight\u001b[0m\u001b[0;34m,\u001b[0m\u001b[0;34m\u001b[0m\u001b[0m\n\u001b[1;32m    866\u001b[0m                               \u001b[0msample_weight\u001b[0m\u001b[0;34m=\u001b[0m\u001b[0msample_weight\u001b[0m\u001b[0;34m,\u001b[0m\u001b[0;34m\u001b[0m\u001b[0m\n\u001b[0;32m--> 867\u001b[0;31m                               initial_epoch=initial_epoch)\n\u001b[0m\u001b[1;32m    868\u001b[0m \u001b[0;34m\u001b[0m\u001b[0m\n\u001b[1;32m    869\u001b[0m     def evaluate(self, x, y, batch_size=32, verbose=1,\n",
      "\u001b[0;32m/home/carnd/anaconda3/envs/dl/lib/python3.5/site-packages/keras/engine/training.py\u001b[0m in \u001b[0;36mfit\u001b[0;34m(self, x, y, batch_size, epochs, verbose, callbacks, validation_split, validation_data, shuffle, class_weight, sample_weight, initial_epoch, steps_per_epoch, validation_steps, **kwargs)\u001b[0m\n\u001b[1;32m   1596\u001b[0m                               \u001b[0minitial_epoch\u001b[0m\u001b[0;34m=\u001b[0m\u001b[0minitial_epoch\u001b[0m\u001b[0;34m,\u001b[0m\u001b[0;34m\u001b[0m\u001b[0m\n\u001b[1;32m   1597\u001b[0m                               \u001b[0msteps_per_epoch\u001b[0m\u001b[0;34m=\u001b[0m\u001b[0msteps_per_epoch\u001b[0m\u001b[0;34m,\u001b[0m\u001b[0;34m\u001b[0m\u001b[0m\n\u001b[0;32m-> 1598\u001b[0;31m                               validation_steps=validation_steps)\n\u001b[0m\u001b[1;32m   1599\u001b[0m \u001b[0;34m\u001b[0m\u001b[0m\n\u001b[1;32m   1600\u001b[0m     def evaluate(self, x, y,\n",
      "\u001b[0;32m/home/carnd/anaconda3/envs/dl/lib/python3.5/site-packages/keras/engine/training.py\u001b[0m in \u001b[0;36m_fit_loop\u001b[0;34m(self, f, ins, out_labels, batch_size, epochs, verbose, callbacks, val_f, val_ins, shuffle, callback_metrics, initial_epoch, steps_per_epoch, validation_steps)\u001b[0m\n\u001b[1;32m   1181\u001b[0m                     \u001b[0mbatch_logs\u001b[0m\u001b[0;34m[\u001b[0m\u001b[0;34m'size'\u001b[0m\u001b[0;34m]\u001b[0m \u001b[0;34m=\u001b[0m \u001b[0mlen\u001b[0m\u001b[0;34m(\u001b[0m\u001b[0mbatch_ids\u001b[0m\u001b[0;34m)\u001b[0m\u001b[0;34m\u001b[0m\u001b[0m\n\u001b[1;32m   1182\u001b[0m                     \u001b[0mcallbacks\u001b[0m\u001b[0;34m.\u001b[0m\u001b[0mon_batch_begin\u001b[0m\u001b[0;34m(\u001b[0m\u001b[0mbatch_index\u001b[0m\u001b[0;34m,\u001b[0m \u001b[0mbatch_logs\u001b[0m\u001b[0;34m)\u001b[0m\u001b[0;34m\u001b[0m\u001b[0m\n\u001b[0;32m-> 1183\u001b[0;31m                     \u001b[0mouts\u001b[0m \u001b[0;34m=\u001b[0m \u001b[0mf\u001b[0m\u001b[0;34m(\u001b[0m\u001b[0mins_batch\u001b[0m\u001b[0;34m)\u001b[0m\u001b[0;34m\u001b[0m\u001b[0m\n\u001b[0m\u001b[1;32m   1184\u001b[0m                     \u001b[0;32mif\u001b[0m \u001b[0;32mnot\u001b[0m \u001b[0misinstance\u001b[0m\u001b[0;34m(\u001b[0m\u001b[0mouts\u001b[0m\u001b[0;34m,\u001b[0m \u001b[0mlist\u001b[0m\u001b[0;34m)\u001b[0m\u001b[0;34m:\u001b[0m\u001b[0;34m\u001b[0m\u001b[0m\n\u001b[1;32m   1185\u001b[0m                         \u001b[0mouts\u001b[0m \u001b[0;34m=\u001b[0m \u001b[0;34m[\u001b[0m\u001b[0mouts\u001b[0m\u001b[0;34m]\u001b[0m\u001b[0;34m\u001b[0m\u001b[0m\n",
      "\u001b[0;32m/home/carnd/anaconda3/envs/dl/lib/python3.5/site-packages/keras/backend/tensorflow_backend.py\u001b[0m in \u001b[0;36m__call__\u001b[0;34m(self, inputs)\u001b[0m\n\u001b[1;32m   2271\u001b[0m         updated = session.run(self.outputs + [self.updates_op],\n\u001b[1;32m   2272\u001b[0m                               \u001b[0mfeed_dict\u001b[0m\u001b[0;34m=\u001b[0m\u001b[0mfeed_dict\u001b[0m\u001b[0;34m,\u001b[0m\u001b[0;34m\u001b[0m\u001b[0m\n\u001b[0;32m-> 2273\u001b[0;31m                               **self.session_kwargs)\n\u001b[0m\u001b[1;32m   2274\u001b[0m         \u001b[0;32mreturn\u001b[0m \u001b[0mupdated\u001b[0m\u001b[0;34m[\u001b[0m\u001b[0;34m:\u001b[0m\u001b[0mlen\u001b[0m\u001b[0;34m(\u001b[0m\u001b[0mself\u001b[0m\u001b[0;34m.\u001b[0m\u001b[0moutputs\u001b[0m\u001b[0;34m)\u001b[0m\u001b[0;34m]\u001b[0m\u001b[0;34m\u001b[0m\u001b[0m\n\u001b[1;32m   2275\u001b[0m \u001b[0;34m\u001b[0m\u001b[0m\n",
      "\u001b[0;32m/home/carnd/anaconda3/envs/dl/lib/python3.5/site-packages/tensorflow/python/client/session.py\u001b[0m in \u001b[0;36mrun\u001b[0;34m(self, fetches, feed_dict, options, run_metadata)\u001b[0m\n\u001b[1;32m    765\u001b[0m     \u001b[0;32mtry\u001b[0m\u001b[0;34m:\u001b[0m\u001b[0;34m\u001b[0m\u001b[0m\n\u001b[1;32m    766\u001b[0m       result = self._run(None, fetches, feed_dict, options_ptr,\n\u001b[0;32m--> 767\u001b[0;31m                          run_metadata_ptr)\n\u001b[0m\u001b[1;32m    768\u001b[0m       \u001b[0;32mif\u001b[0m \u001b[0mrun_metadata\u001b[0m\u001b[0;34m:\u001b[0m\u001b[0;34m\u001b[0m\u001b[0m\n\u001b[1;32m    769\u001b[0m         \u001b[0mproto_data\u001b[0m \u001b[0;34m=\u001b[0m \u001b[0mtf_session\u001b[0m\u001b[0;34m.\u001b[0m\u001b[0mTF_GetBuffer\u001b[0m\u001b[0;34m(\u001b[0m\u001b[0mrun_metadata_ptr\u001b[0m\u001b[0;34m)\u001b[0m\u001b[0;34m\u001b[0m\u001b[0m\n",
      "\u001b[0;32m/home/carnd/anaconda3/envs/dl/lib/python3.5/site-packages/tensorflow/python/client/session.py\u001b[0m in \u001b[0;36m_run\u001b[0;34m(self, handle, fetches, feed_dict, options, run_metadata)\u001b[0m\n\u001b[1;32m    963\u001b[0m     \u001b[0;32mif\u001b[0m \u001b[0mfinal_fetches\u001b[0m \u001b[0;32mor\u001b[0m \u001b[0mfinal_targets\u001b[0m\u001b[0;34m:\u001b[0m\u001b[0;34m\u001b[0m\u001b[0m\n\u001b[1;32m    964\u001b[0m       results = self._do_run(handle, final_targets, final_fetches,\n\u001b[0;32m--> 965\u001b[0;31m                              feed_dict_string, options, run_metadata)\n\u001b[0m\u001b[1;32m    966\u001b[0m     \u001b[0;32melse\u001b[0m\u001b[0;34m:\u001b[0m\u001b[0;34m\u001b[0m\u001b[0m\n\u001b[1;32m    967\u001b[0m       \u001b[0mresults\u001b[0m \u001b[0;34m=\u001b[0m \u001b[0;34m[\u001b[0m\u001b[0;34m]\u001b[0m\u001b[0;34m\u001b[0m\u001b[0m\n",
      "\u001b[0;32m/home/carnd/anaconda3/envs/dl/lib/python3.5/site-packages/tensorflow/python/client/session.py\u001b[0m in \u001b[0;36m_do_run\u001b[0;34m(self, handle, target_list, fetch_list, feed_dict, options, run_metadata)\u001b[0m\n\u001b[1;32m   1013\u001b[0m     \u001b[0;32mif\u001b[0m \u001b[0mhandle\u001b[0m \u001b[0;32mis\u001b[0m \u001b[0;32mNone\u001b[0m\u001b[0;34m:\u001b[0m\u001b[0;34m\u001b[0m\u001b[0m\n\u001b[1;32m   1014\u001b[0m       return self._do_call(_run_fn, self._session, feed_dict, fetch_list,\n\u001b[0;32m-> 1015\u001b[0;31m                            target_list, options, run_metadata)\n\u001b[0m\u001b[1;32m   1016\u001b[0m     \u001b[0;32melse\u001b[0m\u001b[0;34m:\u001b[0m\u001b[0;34m\u001b[0m\u001b[0m\n\u001b[1;32m   1017\u001b[0m       return self._do_call(_prun_fn, self._session, handle, feed_dict,\n",
      "\u001b[0;32m/home/carnd/anaconda3/envs/dl/lib/python3.5/site-packages/tensorflow/python/client/session.py\u001b[0m in \u001b[0;36m_do_call\u001b[0;34m(self, fn, *args)\u001b[0m\n\u001b[1;32m   1020\u001b[0m   \u001b[0;32mdef\u001b[0m \u001b[0m_do_call\u001b[0m\u001b[0;34m(\u001b[0m\u001b[0mself\u001b[0m\u001b[0;34m,\u001b[0m \u001b[0mfn\u001b[0m\u001b[0;34m,\u001b[0m \u001b[0;34m*\u001b[0m\u001b[0margs\u001b[0m\u001b[0;34m)\u001b[0m\u001b[0;34m:\u001b[0m\u001b[0;34m\u001b[0m\u001b[0m\n\u001b[1;32m   1021\u001b[0m     \u001b[0;32mtry\u001b[0m\u001b[0;34m:\u001b[0m\u001b[0;34m\u001b[0m\u001b[0m\n\u001b[0;32m-> 1022\u001b[0;31m       \u001b[0;32mreturn\u001b[0m \u001b[0mfn\u001b[0m\u001b[0;34m(\u001b[0m\u001b[0;34m*\u001b[0m\u001b[0margs\u001b[0m\u001b[0;34m)\u001b[0m\u001b[0;34m\u001b[0m\u001b[0m\n\u001b[0m\u001b[1;32m   1023\u001b[0m     \u001b[0;32mexcept\u001b[0m \u001b[0merrors\u001b[0m\u001b[0;34m.\u001b[0m\u001b[0mOpError\u001b[0m \u001b[0;32mas\u001b[0m \u001b[0me\u001b[0m\u001b[0;34m:\u001b[0m\u001b[0;34m\u001b[0m\u001b[0m\n\u001b[1;32m   1024\u001b[0m       \u001b[0mmessage\u001b[0m \u001b[0;34m=\u001b[0m \u001b[0mcompat\u001b[0m\u001b[0;34m.\u001b[0m\u001b[0mas_text\u001b[0m\u001b[0;34m(\u001b[0m\u001b[0me\u001b[0m\u001b[0;34m.\u001b[0m\u001b[0mmessage\u001b[0m\u001b[0;34m)\u001b[0m\u001b[0;34m\u001b[0m\u001b[0m\n",
      "\u001b[0;32m/home/carnd/anaconda3/envs/dl/lib/python3.5/site-packages/tensorflow/python/client/session.py\u001b[0m in \u001b[0;36m_run_fn\u001b[0;34m(session, feed_dict, fetch_list, target_list, options, run_metadata)\u001b[0m\n\u001b[1;32m   1002\u001b[0m         return tf_session.TF_Run(session, options,\n\u001b[1;32m   1003\u001b[0m                                  \u001b[0mfeed_dict\u001b[0m\u001b[0;34m,\u001b[0m \u001b[0mfetch_list\u001b[0m\u001b[0;34m,\u001b[0m \u001b[0mtarget_list\u001b[0m\u001b[0;34m,\u001b[0m\u001b[0;34m\u001b[0m\u001b[0m\n\u001b[0;32m-> 1004\u001b[0;31m                                  status, run_metadata)\n\u001b[0m\u001b[1;32m   1005\u001b[0m \u001b[0;34m\u001b[0m\u001b[0m\n\u001b[1;32m   1006\u001b[0m     \u001b[0;32mdef\u001b[0m \u001b[0m_prun_fn\u001b[0m\u001b[0;34m(\u001b[0m\u001b[0msession\u001b[0m\u001b[0;34m,\u001b[0m \u001b[0mhandle\u001b[0m\u001b[0;34m,\u001b[0m \u001b[0mfeed_dict\u001b[0m\u001b[0;34m,\u001b[0m \u001b[0mfetch_list\u001b[0m\u001b[0;34m)\u001b[0m\u001b[0;34m:\u001b[0m\u001b[0;34m\u001b[0m\u001b[0m\n",
      "\u001b[0;31mKeyboardInterrupt\u001b[0m: "
     ]
    }
   ],
   "source": [
    "from keras.callbacks import LearningRateScheduler, ModelCheckpoint,ReduceLROnPlateau\n",
    "\n",
    "#model = cnn_model(flag_BN=True,flag_STN=True)\n",
    "adam = Adam(lr = 0.0.01)\n",
    "\n",
    "\n",
    "\n",
    "model = deep_cnn_model(flag_BN=True,flag_STN=True)\n",
    "\n",
    "# Compile and train the model\n",
    "model.compile(loss='categorical_crossentropy',\n",
    "              optimizer=adam,\n",
    "              metrics=['accuracy'])\n",
    "checkpointer = ModelCheckpoint(filepath=\"weights_\"+str(8)+\".hdf5\", verbose=1, save_best_only=True, save_weights_only=True)\n",
    "history = model.fit(X_aug_all, y_aug_all_e,\n",
    "                    batch_size=200, nb_epoch=100,\n",
    "                    callbacks=[checkpointer],\n",
    "                    verbose=1, validation_data=(X_val_hae, y_val_e))"
   ]
  },
  {
   "cell_type": "code",
   "execution_count": 107,
   "metadata": {},
   "outputs": [
    {
     "ename": "NameError",
     "evalue": "name 'history' is not defined",
     "output_type": "error",
     "traceback": [
      "\u001b[0;31m---------------------------------------------------------------------------\u001b[0m",
      "\u001b[0;31mNameError\u001b[0m                                 Traceback (most recent call last)",
      "\u001b[0;32m<ipython-input-107-15f73ec0e8c4>\u001b[0m in \u001b[0;36m<module>\u001b[0;34m()\u001b[0m\n\u001b[0;32m----> 1\u001b[0;31m \u001b[0mprint\u001b[0m\u001b[0;34m(\u001b[0m\u001b[0mhistory\u001b[0m\u001b[0;34m.\u001b[0m\u001b[0mhistory\u001b[0m\u001b[0;34m)\u001b[0m\u001b[0;34m\u001b[0m\u001b[0m\n\u001b[0m",
      "\u001b[0;31mNameError\u001b[0m: name 'history' is not defined"
     ]
    }
   ],
   "source": [
    "print(history.history)"
   ]
  },
  {
   "cell_type": "code",
   "execution_count": 105,
   "metadata": {},
   "outputs": [
    {
     "name": "stdout",
     "output_type": "stream",
     "text": [
      "12576/12630 [============================>.] - ETA: 0s[0.075317674197338327, 0.97980997632253952]\n",
      "12544/12630 [============================>.] - ETA: 0s[0.059148934871353386, 0.98448139355471465]\n",
      "12576/12630 [============================>.] - ETA: 0s[0.080242745913734301, 0.97917656381264251]\n"
     ]
    }
   ],
   "source": [
    "ev = model.evaluate(X_test_h, y_test_e)\n",
    "print(ev)\n",
    "ev = model.evaluate(X_test_hae, y_test_e)\n",
    "print(ev)\n",
    "ev = model.evaluate(np.asarray(X_test_hcs), y_test_e)\n",
    "print(ev)\n",
    "model.save(\"8_deep_cnn_89_all_aug_on_hae.h5\")\n"
   ]
  },
  {
   "cell_type": "code",
   "execution_count": null,
   "metadata": {
    "collapsed": true
   },
   "outputs": [],
   "source": []
  },
  {
   "cell_type": "code",
   "execution_count": null,
   "metadata": {
    "collapsed": true
   },
   "outputs": [],
   "source": []
  },
  {
   "cell_type": "code",
   "execution_count": 128,
   "metadata": {
    "collapsed": true
   },
   "outputs": [],
   "source": [
    "n=[X_train_n,y_train_e,X_val_n,y_val_e,X_test_n,y_test_e]\n",
    "h=[X_train_h,y_train_e,X_val_h,y_val_e,X_test_h,y_test_e]\n",
    "hae=[X_train_hae,y_train_e,X_val_hae,y_val_e,X_test_hae,y_test_e]\n",
    "ae = [X_train_ae,y_train_e,X_val_ae,y_val_e,X_test_ae,y_test_e]\n",
    "cs = [np.asarray(X_train_cs),y_train_e,np.asarray(X_val_cs),y_val_e,np.asarray(X_test_cs),y_test_e]\n",
    "hcs = [np.asarray(X_train_hcs),y_train_e,np.asarray(X_val_hcs),y_val_e,np.asarray(X_test_hcs),y_test_e]\n",
    "\n",
    "\n",
    "\n",
    "\n",
    "\n",
    "hae_a=[X_aug_hae,y_aug_hae_e,X_val_hae,y_val_e,X_test_hae,y_test_e]\n",
    "hcs_a = [np.asarray(X_aug_hcs),y_aug_hae_e,np.asarray(X_val_hcs),y_val_e,np.asarray(X_test_hcs),y_test_e]\n",
    "n_a=[X_aug_n,y_aug_n_e,X_val_n,y_val_e,X_test_n,y_test_e]\n",
    "h_a=[X_aug_h,y_aug_h_e,X_val_h,y_val_e,X_test_h,y_test_e]\n",
    "hae_a=[X_aug_hae,y_aug_hae_e,X_val_hae,y_val_e,X_test_hae,y_test_e]\n",
    "ae_a = [X_aug_ae,y_aug_ae_e,X_val_ae,y_val_e,X_test_ae,y_test_e]\n",
    "cs_a = [np.asarray(X_aug_cs),y_aug_cs_e,np.asarray(X_val_cs),y_val_e,np.asarray(X_test_cs),y_test_e]\n",
    "hcs_a = [np.asarray(X_aug_hcs),y_aug_hcs_e,np.asarray(X_val_hcs),y_val_e,np.asarray(X_test_hcs),y_test_e]\n",
    "all_h = [X_all, y_all_e,X_val_h,y_val_e,X_test_h,y_test_e]\n",
    "all_aug_h = [X_aug_all, y_aug_all_e,X_val_h,y_val_e,X_test_h,y_test_e]\n",
    "\n",
    "\n",
    "#x_all_aug = np.append(x_all_aug, axis=0)"
   ]
  },
  {
   "cell_type": "code",
   "execution_count": null,
   "metadata": {
    "collapsed": true
   },
   "outputs": [],
   "source": []
  },
  {
   "cell_type": "code",
   "execution_count": 190,
   "metadata": {},
   "outputs": [
    {
     "name": "stdout",
     "output_type": "stream",
     "text": [
      "12625/12630 [============================>.] - ETA: 0s[16  1 38 ...,  5  7 10]\n",
      "[16  1 38 ...,  6  7 10]\n",
      "class value originalpredicted\n",
      "272\n"
     ]
    }
   ],
   "source": [
    "#predict = model.predict(X_test_hae, batch_size=1)\n",
    "#print(predict)\n",
    "#proba = model.predict_proba(X_test_hae, batch_size=1)\n",
    "#print(proba)\n",
    "classes = model.predict_classes(X_test_h, batch_size=1)\n",
    "print(classes)\n",
    "print(y_test)\n",
    "\n",
    "\n",
    "print('class value', 'original' 'predicted')\n",
    "j=0\n",
    "indices=[]\n",
    "for i in range(len(y_test)):\n",
    "    \n",
    "    if (y_test[i]!=classes[i]):\n",
    "        #print(str(i)+\"   \" +str(classes[i])+\"     \"    +str(y_test[i]))\n",
    "        indices.append(i)\n",
    "        j+=1\n",
    "    \n",
    "print(len(indices))\n",
    "\n",
    "    \n",
    "#e = model.evaluate(X_test_hae,y_test_e)\n",
    "#print(e)\n",
    "#s = dr[0][1]\n",
    "#e = model.evaluate(X_test_h,y_test_e)\n",
    "#print(e)\n",
    "#print(np.asarray(X_test_cs).shape)"
   ]
  },
  {
   "cell_type": "code",
   "execution_count": 197,
   "metadata": {
    "collapsed": true
   },
   "outputs": [],
   "source": [
    "mismatch = []\n",
    "for i in range(len(indices)):\n",
    "    mismatch.append(X_test_g[indices[i]])\n",
    "    \n",
    "    "
   ]
  },
  {
   "cell_type": "code",
   "execution_count": 198,
   "metadata": {},
   "outputs": [
    {
     "name": "stdout",
     "output_type": "stream",
     "text": [
      "There are 20 images in the  dataset\n"
     ]
    },
    {
     "data": {
      "image/png": "[encoded data removed]",
      "text/plain": [
       "<matplotlib.figure.Figure at 0x7fd612d59d68>"
      ]
     },
     "metadata": {},
     "output_type": "display_data"
    }
   ],
   "source": [
    "plot_images(-1, mismatch[:20],5,\"\")"
   ]
  },
  {
   "cell_type": "code",
   "execution_count": 189,
   "metadata": {
    "scrolled": true
   },
   "outputs": [
    {
     "name": "stdout",
     "output_type": "stream",
     "text": [
      "There are 20 images in the  dataset\n"
     ]
    },
    {
     "data": {
      "image/png": "[encoded data removed]",
      "text/plain": [
       "<matplotlib.figure.Figure at 0x7fd667ed4fd0>"
      ]
     },
     "metadata": {},
     "output_type": "display_data"
    }
   ],
   "source": [
    "plot_images(-1, mismatch[:20],5,\"\")"
   ]
  },
  {
   "cell_type": "code",
   "execution_count": 196,
   "metadata": {},
   "outputs": [
    {
     "name": "stdout",
     "output_type": "stream",
     "text": [
      "There are 20 images in the  dataset\n"
     ]
    },
    {
     "data": {
      "image/png": "[encoded data removed]",
      "text/plain": [
       "<matplotlib.figure.Figure at 0x7fd613349978>"
      ]
     },
     "metadata": {},
     "output_type": "display_data"
    }
   ],
   "source": [
    "plot_images(-1, mismatch[:20],5,\"\")"
   ]
  },
  {
   "cell_type": "code",
   "execution_count": 23,
   "metadata": {},
   "outputs": [
    {
     "ename": "NameError",
     "evalue": "name 'results' is not defined",
     "output_type": "error",
     "traceback": [
      "\u001b[0;31m---------------------------------------------------------------------------\u001b[0m",
      "\u001b[0;31mNameError\u001b[0m                                 Traceback (most recent call last)",
      "\u001b[0;32m<ipython-input-23-6bde48525521>\u001b[0m in \u001b[0;36m<module>\u001b[0;34m()\u001b[0m\n\u001b[1;32m      8\u001b[0m     \u001b[0;32mreturn\u001b[0m \u001b[0merrors_percent\u001b[0m\u001b[0;34m\u001b[0m\u001b[0m\n\u001b[1;32m      9\u001b[0m \u001b[0;34m\u001b[0m\u001b[0m\n\u001b[0;32m---> 10\u001b[0;31m \u001b[0merrors_percent\u001b[0m \u001b[0;34m=\u001b[0m \u001b[0mprint_class_errors\u001b[0m\u001b[0;34m(\u001b[0m\u001b[0mresults\u001b[0m\u001b[0;34m.\u001b[0m\u001b[0mclass_errors\u001b[0m\u001b[0;34m,\u001b[0m \u001b[0myN_valid\u001b[0m\u001b[0;34m)\u001b[0m\u001b[0;34m\u001b[0m\u001b[0m\n\u001b[0m\u001b[1;32m     11\u001b[0m \u001b[0mprint\u001b[0m\u001b[0;34m(\u001b[0m\u001b[0;34m\"median error={:.2f}%  avg error={:.2f}%\"\u001b[0m\u001b[0;34m.\u001b[0m\u001b[0mformat\u001b[0m\u001b[0;34m(\u001b[0m\u001b[0mstatistics\u001b[0m\u001b[0;34m.\u001b[0m\u001b[0mmedian\u001b[0m\u001b[0;34m(\u001b[0m\u001b[0merrors_percent\u001b[0m\u001b[0;34m)\u001b[0m\u001b[0;34m,\u001b[0m \u001b[0mstatistics\u001b[0m\u001b[0;34m.\u001b[0m\u001b[0mmean\u001b[0m\u001b[0;34m(\u001b[0m\u001b[0merrors_percent\u001b[0m\u001b[0;34m)\u001b[0m\u001b[0;34m)\u001b[0m\u001b[0;34m)\u001b[0m\u001b[0;34m\u001b[0m\u001b[0m\n\u001b[1;32m     12\u001b[0m \u001b[0;34m\u001b[0m\u001b[0m\n",
      "\u001b[0;31mNameError\u001b[0m: name 'results' is not defined"
     ]
    }
   ],
   "source": [
    "#print class errors\n",
    "def print_class_errors(class_errors, y):\n",
    "    y_bins = np.bincount(y)\n",
    "    errors_percent = []\n",
    "    for errors,i in zip(class_errors, range(len(class_errors))):\n",
    "        errors_percent.append(100*errors/y_bins[i])\n",
    "        print(\"class {}: errors={} of {} samples ({:.1f}%) \".format(i, errors, y_bins[i], errors_percent[i]))\n",
    "    return errors_percent\n",
    "\n",
    "errors_percent = print_class_errors(results.class_errors, yN_valid)\n",
    "print(\"median error={:.2f}%  avg error={:.2f}%\".format(statistics.median(errors_percent), statistics.mean(errors_percent)))\n",
    "\n",
    "plt.plot(range(len(errors_percent)), errors_percent)\n",
    "plt.title('Error distribution per class')\n",
    "plt.xlabel('class')\n",
    "plt.ylabel('% errors')\n",
    "plt.show()"
   ]
  },
  {
   "cell_type": "code",
   "execution_count": null,
   "metadata": {
    "collapsed": true
   },
   "outputs": [],
   "source": [
    "#load model\n",
    "#load weights\n",
    "#evaluate on data hae\n",
    "#predict_classes\n",
    "#"
   ]
  },
  {
   "cell_type": "code",
   "execution_count": 24,
   "metadata": {},
   "outputs": [
    {
     "name": "stdout",
     "output_type": "stream",
     "text": [
      "_________________________________________________________________\n",
      "Layer (type)                 Output Shape              Param #   \n",
      "=================================================================\n",
      "conv2d_4 (Conv2D)            (None, 32, 32, 16)        32        \n",
      "_________________________________________________________________\n",
      "max_pooling2d_4 (MaxPooling2 (None, 16, 16, 16)        0         \n",
      "_________________________________________________________________\n",
      "conv2d_5 (Conv2D)            (None, 14, 14, 64)        9280      \n",
      "_________________________________________________________________\n",
      "max_pooling2d_5 (MaxPooling2 (None, 7, 7, 64)          0         \n",
      "_________________________________________________________________\n",
      "conv2d_6 (Conv2D)            (None, 5, 5, 128)         73856     \n",
      "_________________________________________________________________\n",
      "max_pooling2d_6 (MaxPooling2 (None, 5, 5, 128)         0         \n",
      "_________________________________________________________________\n",
      "flatten_2 (Flatten)          (None, 3200)              0         \n",
      "_________________________________________________________________\n",
      "dense_4 (Dense)              (None, 128)               409728    \n",
      "_________________________________________________________________\n",
      "activation_3 (Activation)    (None, 128)               0         \n",
      "_________________________________________________________________\n",
      "dense_5 (Dense)              (None, 64)                8256      \n",
      "_________________________________________________________________\n",
      "activation_4 (Activation)    (None, 64)                0         \n",
      "_________________________________________________________________\n",
      "dense_6 (Dense)              (None, 6)                 390       \n",
      "=================================================================\n",
      "Total params: 501,542\n",
      "Trainable params: 501,542\n",
      "Non-trainable params: 0\n",
      "_________________________________________________________________\n",
      "<keras.models.Sequential object at 0x7fb4ba4c0438>\n",
      "<keras.models.Sequential object at 0x7fb4b9de2a58>\n",
      "_________________________________________________________________\n",
      "Layer (type)                 Output Shape              Param #   \n",
      "=================================================================\n",
      "spatial_transformer_2 (Spati (None, 32, 32, 1)         14896     \n",
      "_________________________________________________________________\n",
      "conv2d_13 (Conv2D)           (None, 32, 32, 32)        320       \n",
      "_________________________________________________________________\n",
      "batch_normalization_6 (Batch (None, 32, 32, 32)        128       \n",
      "_________________________________________________________________\n",
      "leaky_re_lu_7 (LeakyReLU)    (None, 32, 32, 32)        0         \n",
      "_________________________________________________________________\n",
      "max_pooling2d_13 (MaxPooling (None, 16, 16, 32)        0         \n",
      "_________________________________________________________________\n",
      "dropout_6 (Dropout)          (None, 16, 16, 32)        0         \n",
      "_________________________________________________________________\n",
      "conv2d_14 (Conv2D)           (None, 16, 16, 64)        18496     \n",
      "_________________________________________________________________\n",
      "batch_normalization_7 (Batch (None, 16, 16, 64)        256       \n",
      "_________________________________________________________________\n",
      "leaky_re_lu_8 (LeakyReLU)    (None, 16, 16, 64)        0         \n",
      "_________________________________________________________________\n",
      "max_pooling2d_14 (MaxPooling (None, 8, 8, 64)          0         \n",
      "_________________________________________________________________\n",
      "dropout_7 (Dropout)          (None, 8, 8, 64)          0         \n",
      "_________________________________________________________________\n",
      "conv2d_15 (Conv2D)           (None, 8, 8, 128)         73856     \n",
      "_________________________________________________________________\n",
      "batch_normalization_8 (Batch (None, 8, 8, 128)         512       \n",
      "_________________________________________________________________\n",
      "leaky_re_lu_9 (LeakyReLU)    (None, 8, 8, 128)         0         \n",
      "_________________________________________________________________\n",
      "max_pooling2d_15 (MaxPooling (None, 4, 4, 128)         0         \n",
      "_________________________________________________________________\n",
      "dropout_8 (Dropout)          (None, 4, 4, 128)         0         \n",
      "_________________________________________________________________\n",
      "flatten_5 (Flatten)          (None, 2048)              0         \n",
      "_________________________________________________________________\n",
      "dense_11 (Dense)             (None, 1024)              2098176   \n",
      "_________________________________________________________________\n",
      "batch_normalization_9 (Batch (None, 1024)              4096      \n",
      "_________________________________________________________________\n",
      "leaky_re_lu_10 (LeakyReLU)   (None, 1024)              0         \n",
      "_________________________________________________________________\n",
      "dropout_9 (Dropout)          (None, 1024)              0         \n",
      "_________________________________________________________________\n",
      "dense_12 (Dense)             (None, 43)                44075     \n",
      "=================================================================\n",
      "Total params: 2,254,811\n",
      "Trainable params: 2,252,315\n",
      "Non-trainable params: 2,496\n",
      "_________________________________________________________________\n"
     ]
    }
   ],
   "source": [
    "from keras.models import load_model\n",
    "\n",
    "\n",
    "\n",
    "#model_deep= load_model('deep_cnn_89_all_aug_on_hae.h5',custom_objects={'STN':SpatialTransformer})\n",
    "\n",
    "model_deep = deep_cnn_model(flag_BN=True,flag_STN=True)\n",
    "model_cnn = cnn_model(flag_BN=True,flag_STN=True)\n",
    "\n",
    "#model_deep.load_weights(\"weights_deep_cnn_98.hdf5\")\n",
    "model_deep.compile(loss='categorical_crossentropy',\n",
    "              optimizer=Adam(),\n",
    "              metrics=['accuracy'])\n",
    "\n",
    "model_cnn.compile(loss='categorical_crossentropy',\n",
    "              optimizer=Adam(),\n",
    "              metrics=['accuracy'])\n",
    "\n",
    "\n",
    "model_deep.load_weights('weights_deep_cnn_98.hdf5')\n",
    "model_cnn.load_weights('weights_cnn_all_aug_onHAE.hdf5')\n",
    "\n"
   ]
  },
  {
   "cell_type": "code",
   "execution_count": 27,
   "metadata": {},
   "outputs": [
    {
     "name": "stdout",
     "output_type": "stream",
     "text": [
      "12512/12630 [============================>.] - ETA: 0s"
     ]
    }
   ],
   "source": [
    "deep_e= model_deep.evaluate(X_test_hae,y_test_e)\n",
    "cnn_e = model_cnn.evaluate(X_test_hae,y_test_e)"
   ]
  },
  {
   "cell_type": "code",
   "execution_count": 28,
   "metadata": {},
   "outputs": [
    {
     "name": "stdout",
     "output_type": "stream",
     "text": [
      "[0.070157761389262621, 0.98115597790607079]\n",
      "[0.11396379067007935, 0.97070467146445338]\n"
     ]
    }
   ],
   "source": [
    "print(deep_e)\n",
    "print(cnn_e)"
   ]
  },
  {
   "cell_type": "code",
   "execution_count": 102,
   "metadata": {},
   "outputs": [
    {
     "name": "stdout",
     "output_type": "stream",
     "text": [
      "<class 'numpy.ndarray'>\n",
      "43\n",
      "[(1, 3), (2, 6), (3, 12), (4, 4), (5, 12), (6, 4), (8, 24), (10, 11), (11, 22), (12, 13), (13, 2), (15, 22), (17, 2), (18, 28), (21, 1), (22, 14), (25, 5), (30, 16), (31, 4), (35, 13), (36, 1), (38, 8), (39, 1), (42, 10), [39, 8, 15], [48, 18, 24], [50, 25, 31], [127, 30, 25], [237, 30, 38], [247, 8, 9], [270, 18, 26], [309, 38, 26], [314, 1, 4], [325, 35, 37], [339, 22, 20], [430, 11, 23], [496, 30, 27], [527, 5, 3], [727, 11, 23], [734, 15, 4], [776, 15, 33], [882, 10, 31], [894, 35, 15], [1209, 11, 23], [1275, 8, 15], [1364, 8, 15], [1402, 30, 19], [1462, 42, 41], [1489, 12, 15], [1490, 12, 13], [1512, 18, 26], [1560, 42, 13], [1573, 3, 5], [1674, 15, 7], [1726, 10, 9], [1741, 36, 39], [1753, 18, 26], [1781, 38, 36], [1836, 15, 33], [1857, 12, 40], [1994, 11, 27], [2002, 8, 7], [2109, 30, 28], [2112, 18, 26], [2124, 11, 23], [2191, 5, 2], [2235, 8, 9], [2332, 42, 36], [2342, 18, 21], [2379, 12, 16], [2428, 5, 2], [2457, 2, 3], [2460, 11, 23], [2494, 2, 1], [2515, 11, 27], [2687, 5, 7], [2728, 15, 33], [2753, 5, 2], [2787, 31, 25], [2836, 5, 1], [2907, 17, 40], [3004, 11, 23], [3039, 42, 41], [3086, 8, 5], [3124, 10, 9], [3157, 11, 27], [3172, 18, 27], [3224, 11, 23], [3296, 3, 5], [3479, 15, 7], [3490, 11, 23], [3562, 5, 7], [3660, 8, 15], [3694, 2, 1], [3713, 11, 23], [3724, 38, 15], [3739, 18, 21], [3750, 35, 26], [3777, 11, 23], [3778, 30, 20], [3822, 15, 4], [3846, 15, 33], [3858, 4, 39], [3903, 12, 16], [3930, 8, 15], [3960, 18, 21], [4013, 15, 33], [4055, 22, 20], [4079, 18, 26], [4166, 15, 7], [4219, 13, 9], [4245, 5, 7], [4329, 35, 37], [4378, 35, 37], [4383, 30, 20], [4384, 12, 16], [4400, 21, 31], [4449, 3, 5], [4535, 18, 26], [4575, 8, 15], [4579, 30, 11], [4588, 3, 7], [4619, 11, 19], [4714, 11, 27], [4780, 18, 26], [4876, 15, 7], [4897, 4, 33], [4932, 42, 6], [4983, 12, 21], [5070, 10, 31], [5095, 22, 25], [5108, 35, 3], [5117, 15, 7], [5149, 18, 9], [5168, 10, 9], [5180, 18, 21], [5182, 12, 15], [5193, 17, 8], [5262, 3, 5], [5307, 2, 5], [5386, 35, 37], [5397, 35, 13], [5448, 15, 7], [5507, 25, 18], [5521, 6, 32], [5675, 8, 15], [5786, 42, 40], [5892, 13, 19], [5918, 15, 7], [6066, 12, 16], [6090, 30, 19], [6143, 11, 23], [6177, 3, 5], [6183, 38, 26], [6339, 8, 15], [6405, 10, 2], [6613, 3, 5], [6739, 25, 27], [6766, 18, 21], [6862, 39, 33], [6874, 3, 5], [6901, 22, 20], [6980, 22, 28], [6999, 15, 7], [7035, 18, 26], [7085, 42, 13], [7097, 8, 9], [7098, 25, 27], [7099, 11, 27], [7157, 8, 5], [7351, 35, 37], [7578, 22, 20], [7597, 31, 20], [7725, 18, 9], [7928, 6, 32], [7949, 42, 36], [7977, 30, 23], [8027, 38, 26], [8051, 3, 5], [8055, 18, 26], [8058, 18, 4], [8173, 11, 23], [8248, 38, 26], [8278, 8, 15], [8354, 2, 1], [8499, 6, 32], [8552, 3, 5], [8556, 35, 3], [8595, 38, 15], [8624, 30, 12], [8663, 12, 16], [8696, 15, 4], [8722, 30, 11], [8736, 5, 3], [8749, 18, 26], [8818, 30, 11], [8821, 42, 6], [9087, 18, 26], [9103, 22, 25], [9111, 11, 26], [9194, 10, 31], [9239, 22, 20], [9484, 10, 15], [9574, 5, 7], [9613, 12, 16], [9659, 22, 20], [9701, 8, 15], [9782, 4, 39], [9956, 8, 9], [9960, 4, 39], [9961, 31, 20], [10045, 8, 15], [10063, 35, 37], [10135, 3, 5], [10156, 22, 25], [10295, 10, 31], [10330, 18, 26], [10364, 10, 9], [10429, 2, 1], [10477, 18, 21], [10519, 35, 28], [10546, 1, 8], [10572, 22, 20], [10584, 30, 20], [10586, 31, 20], [10709, 5, 3], [10714, 18, 21], [10896, 15, 10], [10931, 12, 16], [11017, 8, 15], [11070, 6, 42], [11089, 18, 9], [11129, 15, 10], [11132, 25, 27], [11173, 30, 20], [11238, 8, 9], [11268, 11, 23], [11286, 22, 25], [11338, 5, 3], [11361, 8, 15], [11403, 18, 26], [11449, 11, 23], [11498, 15, 5], [11508, 8, 9], [11564, 30, 19], [11613, 1, 15], [11619, 8, 15], [11643, 18, 20], [11735, 15, 11], [11846, 15, 7], [12006, 22, 25], [12008, 22, 3], [12054, 12, 13], [12064, 35, 37], [12082, 10, 31], [12092, 38, 7], [12121, 15, 7], [12276, 42, 41], [12363, 8, 15], [12382, 11, 23], [12396, 3, 9], [12616, 18, 21], [39, 8, 15], [48, 18, 24], [50, 25, 31], [127, 30, 25], [237, 30, 38], [247, 8, 9], [270, 18, 26], [309, 38, 26], [314, 1, 4], [325, 35, 37], [339, 22, 20], [430, 11, 23], [496, 30, 27], [527, 5, 3], [727, 11, 23], [734, 15, 4], [776, 15, 33], [882, 10, 31], [894, 35, 15], [1209, 11, 23], [1275, 8, 15], [1364, 8, 15], [1402, 30, 19], [1462, 42, 41], [1489, 12, 15], [1490, 12, 13], [1512, 18, 26], [1560, 42, 13], [1573, 3, 5], [1674, 15, 7], [1726, 10, 9], [1741, 36, 39], [1753, 18, 26], [1781, 38, 36], [1836, 15, 33], [1857, 12, 40], [1994, 11, 27], [2002, 8, 7], [2109, 30, 28], [2112, 18, 26], [2124, 11, 23], [2191, 5, 2], [2235, 8, 9], [2332, 42, 36], [2342, 18, 21], [2379, 12, 16], [2428, 5, 2], [2457, 2, 3], [2460, 11, 23], [2494, 2, 1], [2515, 11, 27], [2687, 5, 7], [2728, 15, 33], [2753, 5, 2], [2787, 31, 25], [2836, 5, 1], [2907, 17, 40], [3004, 11, 23], [3039, 42, 41], [3086, 8, 5], [3124, 10, 9], [3157, 11, 27], [3172, 18, 27], [3224, 11, 23], [3296, 3, 5], [3479, 15, 7], [3490, 11, 23], [3562, 5, 7], [3660, 8, 15], [3694, 2, 1], [3713, 11, 23], [3724, 38, 15], [3739, 18, 21], [3750, 35, 26], [3777, 11, 23], [3778, 30, 20], [3822, 15, 4], [3846, 15, 33], [3858, 4, 39], [3903, 12, 16], [3930, 8, 15], [3960, 18, 21], [4013, 15, 33], [4055, 22, 20], [4079, 18, 26], [4166, 15, 7], [4219, 13, 9], [4245, 5, 7], [4329, 35, 37], [4378, 35, 37], [4383, 30, 20], [4384, 12, 16], [4400, 21, 31], [4449, 3, 5], [4535, 18, 26], [4575, 8, 15], [4579, 30, 11], [4588, 3, 7], [4619, 11, 19], [4714, 11, 27], [4780, 18, 26], [4876, 15, 7], [4897, 4, 33], [4932, 42, 6], [4983, 12, 21], [5070, 10, 31], [5095, 22, 25], [5108, 35, 3], [5117, 15, 7], [5149, 18, 9], [5168, 10, 9], [5180, 18, 21], [5182, 12, 15], [5193, 17, 8], [5262, 3, 5], [5307, 2, 5], [5386, 35, 37], [5397, 35, 13], [5448, 15, 7], [5507, 25, 18], [5521, 6, 32], [5675, 8, 15], [5786, 42, 40], [5892, 13, 19], [5918, 15, 7], [6066, 12, 16], [6090, 30, 19], [6143, 11, 23], [6177, 3, 5], [6183, 38, 26], [6339, 8, 15], [6405, 10, 2], [6613, 3, 5], [6739, 25, 27], [6766, 18, 21], [6862, 39, 33], [6874, 3, 5], [6901, 22, 20], [6980, 22, 28], [6999, 15, 7], [7035, 18, 26], [7085, 42, 13], [7097, 8, 9], [7098, 25, 27], [7099, 11, 27], [7157, 8, 5], [7351, 35, 37], [7578, 22, 20], [7597, 31, 20], [7725, 18, 9], [7928, 6, 32], [7949, 42, 36], [7977, 30, 23], [8027, 38, 26], [8051, 3, 5], [8055, 18, 26], [8058, 18, 4], [8173, 11, 23], [8248, 38, 26], [8278, 8, 15], [8354, 2, 1], [8499, 6, 32], [8552, 3, 5], [8556, 35, 3], [8595, 38, 15], [8624, 30, 12], [8663, 12, 16], [8696, 15, 4], [8722, 30, 11], [8736, 5, 3], [8749, 18, 26], [8818, 30, 11], [8821, 42, 6], [9087, 18, 26], [9103, 22, 25], [9111, 11, 26], [9194, 10, 31], [9239, 22, 20], [9484, 10, 15], [9574, 5, 7], [9613, 12, 16], [9659, 22, 20], [9701, 8, 15], [9782, 4, 39], [9956, 8, 9], [9960, 4, 39], [9961, 31, 20], [10045, 8, 15], [10063, 35, 37], [10135, 3, 5], [10156, 22, 25], [10295, 10, 31], [10330, 18, 26], [10364, 10, 9], [10429, 2, 1], [10477, 18, 21], [10519, 35, 28], [10546, 1, 8], [10572, 22, 20], [10584, 30, 20], [10586, 31, 20], [10709, 5, 3], [10714, 18, 21], [10896, 15, 10], [10931, 12, 16], [11017, 8, 15], [11070, 6, 42], [11089, 18, 9], [11129, 15, 10], [11132, 25, 27], [11173, 30, 20], [11238, 8, 9], [11268, 11, 23], [11286, 22, 25], [11338, 5, 3], [11361, 8, 15], [11403, 18, 26], [11449, 11, 23], [11498, 15, 5], [11508, 8, 9], [11564, 30, 19], [11613, 1, 15], [11619, 8, 15], [11643, 18, 20], [11735, 15, 11], [11846, 15, 7], [12006, 22, 25], [12008, 22, 3], [12054, 12, 13], [12064, 35, 37], [12082, 10, 31], [12092, 38, 7], [12121, 15, 7], [12276, 42, 41], [12363, 8, 15], [12382, 11, 23], [12396, 3, 9], [12616, 18, 21]]\n",
      "238\n",
      "class 0: errors=0 of 60 samples (0.0%) \n",
      "class 1: errors=3 of 720 samples (0.4%) \n",
      "class 2: errors=6 of 750 samples (0.8%) \n",
      "class 3: errors=12 of 450 samples (2.7%) \n",
      "class 4: errors=4 of 660 samples (0.6%) \n",
      "class 5: errors=12 of 630 samples (1.9%) \n",
      "class 6: errors=4 of 150 samples (2.7%) \n",
      "class 7: errors=0 of 450 samples (0.0%) \n",
      "class 8: errors=24 of 450 samples (5.3%) \n",
      "class 9: errors=0 of 480 samples (0.0%) \n",
      "class 10: errors=11 of 660 samples (1.7%) \n",
      "class 11: errors=22 of 420 samples (5.2%) \n",
      "class 12: errors=13 of 690 samples (1.9%) \n",
      "class 13: errors=2 of 720 samples (0.3%) \n",
      "class 14: errors=0 of 270 samples (0.0%) \n",
      "class 15: errors=22 of 210 samples (10.5%) \n",
      "class 16: errors=0 of 150 samples (0.0%) \n",
      "class 17: errors=2 of 360 samples (0.6%) \n",
      "class 18: errors=28 of 390 samples (7.2%) \n",
      "class 19: errors=0 of 60 samples (0.0%) \n",
      "class 20: errors=0 of 90 samples (0.0%) \n",
      "class 21: errors=1 of 90 samples (1.1%) \n",
      "class 22: errors=14 of 120 samples (11.7%) \n",
      "class 23: errors=0 of 150 samples (0.0%) \n",
      "class 24: errors=0 of 90 samples (0.0%) \n",
      "class 25: errors=5 of 480 samples (1.0%) \n",
      "class 26: errors=0 of 180 samples (0.0%) \n",
      "class 27: errors=0 of 60 samples (0.0%) \n",
      "class 28: errors=0 of 150 samples (0.0%) \n",
      "class 29: errors=0 of 90 samples (0.0%) \n",
      "class 30: errors=16 of 150 samples (10.7%) \n",
      "class 31: errors=4 of 270 samples (1.5%) \n",
      "class 32: errors=0 of 60 samples (0.0%) \n",
      "class 33: errors=0 of 210 samples (0.0%) \n",
      "class 34: errors=0 of 120 samples (0.0%) \n",
      "class 35: errors=13 of 390 samples (3.3%) \n",
      "class 36: errors=1 of 120 samples (0.8%) \n",
      "class 37: errors=0 of 60 samples (0.0%) \n",
      "class 38: errors=8 of 690 samples (1.2%) \n",
      "class 39: errors=1 of 90 samples (1.1%) \n",
      "class 40: errors=0 of 90 samples (0.0%) \n",
      "class 41: errors=0 of 60 samples (0.0%) \n",
      "class 42: errors=10 of 90 samples (11.1%) \n",
      "median error=0.56%  avg error=1.98%\n"
     ]
    },
    {
     "data": {
      "image/png": "[encoded data removed]",
      "text/plain": [
       "<matplotlib.figure.Figure at 0x7fb4b261d668>"
      ]
     },
     "metadata": {},
     "output_type": "display_data"
    }
   ],
   "source": [
    " #predict = model.predict(X_test_hae, batch_size=1)\n",
    "#print(predict)\n",
    "#proba = model.predict_proba(X_test_hae, batch_size=1)\n",
    "#print(proba)\n",
    "\n",
    "#predictions = model_deep.predict_classes(X_test_hae, batch_size=1)\n",
    "\n",
    "\n",
    "\n",
    "\n",
    "\n",
    "\n",
    "def get_errors_per_class(predictions):\n",
    "\n",
    "    # index in test, original truth, mismatched truth\n",
    "    \n",
    "    mismatched = []\n",
    "    indices = []\n",
    "      \n",
    "    error_classes\n",
    "    for i in range(len(y_test)):\n",
    "        \n",
    "        if (y_test[i]!=predictions[i]):\n",
    "               mismatched.append(y_test[i]) \n",
    "               \n",
    "               error_classes.append([i,y_test[i],predictions[i]])\n",
    "    miss_hist = np.bincount(mismatched)  \n",
    "    \n",
    "    #print(type(miss_hist))      \n",
    "    #print(len(miss_hist))\n",
    "    sum = 0\n",
    "    for i  in range(len(miss_hist)):\n",
    "        if (miss_hist[i]!=0):\n",
    "            sum=sum+miss_hist[i]\n",
    "            \n",
    "    return miss_hist, error_classes, sum,mismatched,indices\n",
    "\n",
    "miss_hist,error_classes, sum ,mismatched,indices= get_errors_per_class(predictions)\n",
    "print(error_classes)\n",
    "#print(miss_hist)\n",
    "#print(error_classes)\n",
    "                                 \n",
    "#print(sum)\n",
    "                                 \n",
    "def graph_class_errors(class_errors, y):\n",
    "    y_bins = np.bincount(y)\n",
    "    errors_percent = []\n",
    "    for errors,i in zip(class_errors, range(len(class_errors))):\n",
    "        errors_percent.append(100*errors/y_bins[i])\n",
    "        print(\"class {}: errors={} of {} samples ({:.1f}%) \".format(i, errors, y_bins[i], errors_percent[i]))\n",
    "    return errors_percent\n",
    "\n",
    "errors_percent = print_class_errors(miss_hist, y_test)\n",
    "print(\"median error={:.2f}%  avg error={:.2f}%\".format(statistics.median(errors_percent), statistics.mean(errors_percent)))\n",
    "\n",
    "plt.plot(range(len(errors_percent)), errors_percent)\n",
    "plt.title('Error distribution per class')\n",
    "plt.xlabel('class')\n",
    "plt.ylabel('% errors')\n",
    "plt.show()\n",
    "    \n"
   ]
  },
  {
   "cell_type": "code",
   "execution_count": 62,
   "metadata": {},
   "outputs": [
    {
     "name": "stdout",
     "output_type": "stream",
     "text": [
      "12623/12630 [============================>.] - ETA: 0s<class 'numpy.ndarray'>\n",
      "43\n",
      "[ 1  9  6 33  6 12  1 13 11  1 35 22  2  1  0  6  0 14 41  0  1  1 10  4  3\n",
      " 16  0 11  0  0 40  6 19  1  0  1  0  0 21  4  6  1 11]\n",
      "[(0, 1), (1, 9), (2, 6), (3, 33), (4, 6), (5, 12), (6, 1), (7, 13), (8, 11), (9, 1), (10, 35), (11, 22), (12, 2), (13, 1), (15, 6), (17, 14), (18, 41), (20, 1), (21, 1), (22, 10), (23, 4), (24, 3), (25, 16), (27, 11), (30, 40), (31, 6), (32, 19), (33, 1), (35, 1), (38, 21), (39, 4), (40, 6), (41, 1), (42, 11)]\n",
      "class 0: errors=1 of 60 samples (1.7%) \n",
      "class 1: errors=9 of 720 samples (1.2%) \n",
      "class 2: errors=6 of 750 samples (0.8%) \n",
      "class 3: errors=33 of 450 samples (7.3%) \n",
      "class 4: errors=6 of 660 samples (0.9%) \n",
      "class 5: errors=12 of 630 samples (1.9%) \n",
      "class 6: errors=1 of 150 samples (0.7%) \n",
      "class 7: errors=13 of 450 samples (2.9%) \n",
      "class 8: errors=11 of 450 samples (2.4%) \n",
      "class 9: errors=1 of 480 samples (0.2%) \n",
      "class 10: errors=35 of 660 samples (5.3%) \n",
      "class 11: errors=22 of 420 samples (5.2%) \n",
      "class 12: errors=2 of 690 samples (0.3%) \n",
      "class 13: errors=1 of 720 samples (0.1%) \n",
      "class 14: errors=0 of 270 samples (0.0%) \n",
      "class 15: errors=6 of 210 samples (2.9%) \n",
      "class 16: errors=0 of 150 samples (0.0%) \n",
      "class 17: errors=14 of 360 samples (3.9%) \n",
      "class 18: errors=41 of 390 samples (10.5%) \n",
      "class 19: errors=0 of 60 samples (0.0%) \n",
      "class 20: errors=1 of 90 samples (1.1%) \n",
      "class 21: errors=1 of 90 samples (1.1%) \n",
      "class 22: errors=10 of 120 samples (8.3%) \n",
      "class 23: errors=4 of 150 samples (2.7%) \n",
      "class 24: errors=3 of 90 samples (3.3%) \n",
      "class 25: errors=16 of 480 samples (3.3%) \n",
      "class 26: errors=0 of 180 samples (0.0%) \n",
      "class 27: errors=11 of 60 samples (18.3%) \n",
      "class 28: errors=0 of 150 samples (0.0%) \n",
      "class 29: errors=0 of 90 samples (0.0%) \n",
      "class 30: errors=40 of 150 samples (26.7%) \n",
      "class 31: errors=6 of 270 samples (2.2%) \n",
      "class 32: errors=19 of 60 samples (31.7%) \n",
      "class 33: errors=1 of 210 samples (0.5%) \n",
      "class 34: errors=0 of 120 samples (0.0%) \n",
      "class 35: errors=1 of 390 samples (0.3%) \n",
      "class 36: errors=0 of 120 samples (0.0%) \n",
      "class 37: errors=0 of 60 samples (0.0%) \n",
      "class 38: errors=21 of 690 samples (3.0%) \n",
      "class 39: errors=4 of 90 samples (4.4%) \n",
      "class 40: errors=6 of 90 samples (6.7%) \n",
      "class 41: errors=1 of 60 samples (1.7%) \n",
      "class 42: errors=11 of 90 samples (12.2%) \n",
      "median error=1.67%  avg error=4.09%\n"
     ]
    },
    {
     "ename": "NameError",
     "evalue": "name 'errors_percent_cnn' is not defined",
     "output_type": "error",
     "traceback": [
      "\u001b[0;31m---------------------------------------------------------------------------\u001b[0m",
      "\u001b[0;31mNameError\u001b[0m                                 Traceback (most recent call last)",
      "\u001b[0;32m<ipython-input-62-59b3d845502e>\u001b[0m in \u001b[0;36m<module>\u001b[0;34m()\u001b[0m\n\u001b[1;32m      7\u001b[0m \u001b[0mprint\u001b[0m\u001b[0;34m(\u001b[0m\u001b[0;34m\"median error={:.2f}%  avg error={:.2f}%\"\u001b[0m\u001b[0;34m.\u001b[0m\u001b[0mformat\u001b[0m\u001b[0;34m(\u001b[0m\u001b[0mstatistics\u001b[0m\u001b[0;34m.\u001b[0m\u001b[0mmedian\u001b[0m\u001b[0;34m(\u001b[0m\u001b[0merrors_percent\u001b[0m\u001b[0;34m)\u001b[0m\u001b[0;34m,\u001b[0m \u001b[0mstatistics\u001b[0m\u001b[0;34m.\u001b[0m\u001b[0mmean\u001b[0m\u001b[0;34m(\u001b[0m\u001b[0merrors_percent\u001b[0m\u001b[0;34m)\u001b[0m\u001b[0;34m)\u001b[0m\u001b[0;34m)\u001b[0m\u001b[0;34m\u001b[0m\u001b[0m\n\u001b[1;32m      8\u001b[0m \u001b[0;34m\u001b[0m\u001b[0m\n\u001b[0;32m----> 9\u001b[0;31m \u001b[0mplt\u001b[0m\u001b[0;34m.\u001b[0m\u001b[0mplot\u001b[0m\u001b[0;34m(\u001b[0m\u001b[0mrange\u001b[0m\u001b[0;34m(\u001b[0m\u001b[0mlen\u001b[0m\u001b[0;34m(\u001b[0m\u001b[0merrors_percent\u001b[0m\u001b[0;34m)\u001b[0m\u001b[0;34m)\u001b[0m\u001b[0;34m,\u001b[0m \u001b[0;34m[\u001b[0m\u001b[0merrors_percent\u001b[0m\u001b[0;34m,\u001b[0m\u001b[0merrors_percent_cnn\u001b[0m\u001b[0;34m]\u001b[0m\u001b[0;34m)\u001b[0m\u001b[0;34m\u001b[0m\u001b[0m\n\u001b[0m\u001b[1;32m     10\u001b[0m \u001b[0mplt\u001b[0m\u001b[0;34m.\u001b[0m\u001b[0mtitle\u001b[0m\u001b[0;34m(\u001b[0m\u001b[0;34m'Error distribution per class'\u001b[0m\u001b[0;34m)\u001b[0m\u001b[0;34m\u001b[0m\u001b[0m\n\u001b[1;32m     11\u001b[0m \u001b[0mplt\u001b[0m\u001b[0;34m.\u001b[0m\u001b[0mxlabel\u001b[0m\u001b[0;34m(\u001b[0m\u001b[0;34m'class'\u001b[0m\u001b[0;34m)\u001b[0m\u001b[0;34m\u001b[0m\u001b[0m\n",
      "\u001b[0;31mNameError\u001b[0m: name 'errors_percent_cnn' is not defined"
     ]
    }
   ],
   "source": [
    "predictions_cnn = model_cnn.predict_classes(X_test_hae, batch_size=1)\n",
    "miss_hist_cnn,error_classes_cnn, sum_cnn,mismatched_cnn = get_errors_per_class(predictions_cnn)\n",
    "print(miss_hist_cnn)\n",
    "print(error_classes_cnn)\n",
    "\n",
    "errors_percent = print_class_errors(miss_hist_cnn, y_test)\n",
    "print(\"median error={:.2f}%  avg error={:.2f}%\".format(statistics.median(errors_percent), statistics.mean(errors_percent)))\n",
    "\n",
    "plt.plot(range(len(errors_percent)), [errors_percent,errors_percent_cnn])\n",
    "plt.title('Error distribution per class')\n",
    "plt.xlabel('class')\n",
    "plt.ylabel('% errors')\n",
    "plt.show()"
   ]
  },
  {
   "cell_type": "code",
   "execution_count": null,
   "metadata": {
    "collapsed": true
   },
   "outputs": [],
   "source": []
  },
  {
   "cell_type": "code",
   "execution_count": 60,
   "metadata": {
    "collapsed": true
   },
   "outputs": [],
   "source": [
    "import matplotlib.pyplot as plt\n",
    "import random\n",
    "import statistics\n",
    "%matplotlib inline\n",
    "\n",
    "def compare_distribution_histograms(data, descs):\n",
    "    fig, (ax0, ax1) = plt.subplots(ncols=2, figsize=(12, 4))\n",
    "    ret_data_bins = []    \n",
    "    for dataset, desc in zip(data, descs):\n",
    "        # Create a histogram of the classes\n",
    "        #data_bins = np.bincount(dataset)\n",
    "        # Convert to percent\n",
    "        #data_bins = data_bins / len(dataset) * 100\n",
    "        data_bins = dataset\n",
    "        print(data_bins)\n",
    "        ret_data_bins.append(data_bins)\n",
    "\n",
    "        print(\"Dataset {} contains {} samples\".format(desc, len(dataset)))\n",
    "        print(\"median={:.2f}%  mean={:.2f}%\".format(statistics.median(data_bins), statistics.mean(data_bins)))\n",
    "\n",
    "        \n",
    "        ax0.plot(range(len(dataset)), dataset,label=desc)\n",
    "        ax0.set_title('Error distribution per class')\n",
    "        ax0.set_xlabel('class')\n",
    "        ax0.set_ylabel('no of errors')\n",
    "        \n",
    "        ax1.hist(dataset, 10, label=desc)\n",
    "        ax1.set_title('Error Distribution, histogram')\n",
    "        ax1.set_xlabel('classes')\n",
    "        ax1.set_ylabel('# errors')\n",
    "    ax0.legend(loc=1)\n",
    "    ax1.legend(loc=1)\n",
    "    plt.show()\n",
    "    return ret_data_bins"
   ]
  },
  {
   "cell_type": "code",
   "execution_count": 61,
   "metadata": {
    "scrolled": true
   },
   "outputs": [
    {
     "name": "stdout",
     "output_type": "stream",
     "text": [
      "[ 0  3  6 12  4 12  4  0 24  0 11 22 13  2  0 22  0  2 28  0  0  1 14  0  0\n",
      "  5  0  0  0  0 16  4  0  0  0 13  1  0  8  1  0  0 10]\n",
      "Dataset deep contains 43 samples\n",
      "median=1.00%  mean=5.00%\n",
      "[ 1  9  6 33  6 12  1 13 11  1 35 22  2  1  0  6  0 14 41  0  1  1 10  4  3\n",
      " 16  0 11  0  0 40  6 19  1  0  1  0  0 21  4  6  1 11]\n",
      "Dataset cnn contains 43 samples\n",
      "median=4.00%  mean=8.00%\n"
     ]
    },
    {
     "data": {
      "image/png": "[encoded data removed]",
      "text/plain": [
       "<matplotlib.figure.Figure at 0x7fb4a38bb668>"
      ]
     },
     "metadata": {},
     "output_type": "display_data"
    }
   ],
   "source": [
    "\n",
    "# Let's check if there's similar representation of image classes in the Training and Validation datasets\n",
    "hist = compare_distribution_histograms(data=[miss_hist,miss_hist_cnn], descs=[\"deep\",\"cnn\"])\n"
   ]
  },
  {
   "cell_type": "code",
   "execution_count": null,
   "metadata": {
    "collapsed": true
   },
   "outputs": [],
   "source": [
    "#Confusion  matrix\n",
    "\n",
    "proba = model_deep.predict_proba(X_test_hae, batch_size=1)\n",
    "#print(proba)"
   ]
  },
  {
   "cell_type": "code",
   "execution_count": 96,
   "metadata": {},
   "outputs": [
    {
     "name": "stdout",
     "output_type": "stream",
     "text": [
      "1 1 1\n"
     ]
    }
   ],
   "source": [
    "#proba_a = model_deep.predict(X_test_hae, batch_size=1)\n",
    "#error_probs = proba[mismatched]\n",
    "#for i in range(len(mismatched)):\n",
    "#    print('%d %d' % (mismatched[i], error_probs[mismatched[i]][predictions[i]]))\n",
    "    \n",
    "i = mismatched[0]\n",
    "\n",
    "\n",
    "\n",
    "print('%d %d %d' % (i,predictions[i],y_test[i]))"
   ]
  },
  {
   "cell_type": "code",
   "execution_count": null,
   "metadata": {
    "collapsed": true
   },
   "outputs": [],
   "source": [
    "import keras.backend as K\n",
    "XX = model.input\n",
    "YY = model.layers[0].output\n",
    "F = K.function([XX], [YY])"
   ]
  },
  {
   "cell_type": "code",
   "execution_count": null,
   "metadata": {
    "collapsed": true
   },
   "outputs": [],
   "source": [
    "batch_size = 512\n",
    "print(X_train.shape[0]/batch_size)\n"
   ]
  },
  {
   "cell_type": "code",
   "execution_count": null,
   "metadata": {
    "collapsed": true
   },
   "outputs": [],
   "source": [
    "import matplotlib.pyplot as plt\n",
    "from keras.utils import np_utils, generic_utils\n",
    "\n",
    "nb_epochs = 5 # you probably want to go longer than this\n",
    "batch_size = 512\n",
    "fig = plt.figure()\n",
    "try:\n",
    "    for e in range(nb_epochs):\n",
    "        print('-'*40)\n",
    "        progbar = generic_utils.Progbar(X_train.shape[0])\n",
    "        for b in range(10):\n",
    "            print(b)\n",
    "            f = b * batch_size\n",
    "            #print(f)\n",
    "            l = (b+1) * batch_size\n",
    "            #print(l)\n",
    "            X_batch = X_train[f:l].astype('float32')\n",
    "            y_batch = y_train[f:l].astype('float32')\n",
    "            loss = model.train_on_batch(X_batch, y_batch)\n",
    "            #print(loss)\n",
    "            progbar.add(X_batch.shape[0], values=[(\"train loss\", loss[0])])\n",
    "            #progbar.add(args.batch_size, values=[(\"train loss\", loss[0])])\n",
    "\n",
    "        scorev = model.evaluate(X_val, y_val, verbose=1)\n",
    "        scoret = model.evaluate(X_test, y_test, verbose=1)\n",
    "        print('Epoch: {0} | Valid: {1} | Test: {2}'.format(e, scorev, scoret))\n",
    "        \n",
    "        if e % 1 == 0:\n",
    "            print(e)\n",
    "            Xresult = F([X_batch[:9]])\n",
    "            #print(Xresult)\n",
    "            plt.clf()\n",
    "            for i in range(9):\n",
    "                plt.subplot(3, 3, i+1)\n",
    "                image = np.squeeze(Xresult[0][i])\n",
    "                plt.imshow(image, cmap='gray')\n",
    "                plt.axis('off')\n",
    "            fig.canvas.draw()\n",
    "            plt.show()\n",
    "        \n",
    "except KeyboardInterrupt:\n",
    "    pass"
   ]
  },
  {
   "cell_type": "code",
   "execution_count": null,
   "metadata": {
    "collapsed": true
   },
   "outputs": [],
   "source": [
    "Xaug = X_train[:9]\n",
    "Xresult = F([Xaug.astype('float32')])"
   ]
  },
  {
   "cell_type": "code",
   "execution_count": null,
   "metadata": {
    "collapsed": true,
    "scrolled": true
   },
   "outputs": [],
   "source": [
    "for i in range(9):\n",
    "    plt.subplot(3, 3, i+1)\n",
    "    plt.imshow(np.squeeze(Xaug[i]), cmap='gray')\n",
    "    plt.axis('off')"
   ]
  },
  {
   "cell_type": "code",
   "execution_count": null,
   "metadata": {
    "collapsed": true,
    "scrolled": false
   },
   "outputs": [],
   "source": [
    "model.save('models/STN_BN_CNN.ckpt')\n",
    "model.evaluate(X_test,y_test)"
   ]
  },
  {
   "cell_type": "code",
   "execution_count": null,
   "metadata": {
    "collapsed": true
   },
   "outputs": [],
   "source": [
    "for i in range(9):\n",
    "    plt.subplot(3, 3, i+1)\n",
    "    plt.imshow(np.squeeze(Xresult[0][i]), cmap='gray')\n",
    "    plt.axis('off')"
   ]
  },
  {
   "cell_type": "code",
   "execution_count": null,
   "metadata": {
    "collapsed": true
   },
   "outputs": [],
   "source": []
  },
  {
   "cell_type": "code",
   "execution_count": null,
   "metadata": {
    "collapsed": true
   },
   "outputs": [],
   "source": []
  },
  {
   "cell_type": "code",
   "execution_count": null,
   "metadata": {
    "collapsed": true
   },
   "outputs": [],
   "source": []
  },
  {
   "cell_type": "code",
   "execution_count": null,
   "metadata": {
    "collapsed": true
   },
   "outputs": [],
   "source": []
  },
  {
   "cell_type": "code",
   "execution_count": null,
   "metadata": {
    "collapsed": true
   },
   "outputs": [],
   "source": []
  }
 ],
 "metadata": {
  "anaconda-cloud": {},
  "kernelspec": {
   "display_name": "tf_a",
   "language": "python",
   "name": "tf_a"
  },
  "language_info": {
   "codemirror_mode": {
    "name": "ipython",
    "version": 3
   },
   "file_extension": ".py",
   "mimetype": "text/x-python",
   "name": "python",
   "nbconvert_exporter": "python",
   "pygments_lexer": "ipython3",
   "version": "3.5.2"
  }
 },
 "nbformat": 4,
 "nbformat_minor": 1
}
